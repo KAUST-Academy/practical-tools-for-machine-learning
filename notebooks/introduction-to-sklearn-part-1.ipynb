{
  "cells": [
    {
      "cell_type": "code",
      "execution_count": 1,
      "id": "e3ea2c52-3ead-4484-8a13-59ff459b0f78",
      "metadata": {
        "id": "e3ea2c52-3ead-4484-8a13-59ff459b0f78"
      },
      "outputs": [],
      "source": [
        "import pathlib\n",
        "import requests\n",
        "\n",
        "import joblib\n",
        "import matplotlib.pyplot as plt\n",
        "import numpy as np\n",
        "import pandas as pd\n",
        "from sklearn import linear_model, model_selection, metrics, utils\n",
        "from sklearn import pipeline, preprocessing"
      ]
    },
    {
      "cell_type": "markdown",
      "id": "a9b241c6-de2e-4c9a-ac4f-6c5a010e2929",
      "metadata": {
        "id": "a9b241c6-de2e-4c9a-ac4f-6c5a010e2929",
        "tags": []
      },
      "source": [
        "# Working with Real Data\n",
        "\n",
        "When you are just getting started with machine learning it is best to experiment with real-world data (as opposed to artificial data). The following are some good resources of open-source data that you can use for practice or research.\n",
        "\n",
        "* [University of California-Irvine Machine Learning Repository](http://archive.ics.uci.edu/ml/)\n",
        "* [Kaggle](https://www.kaggle.com/datasets),\n",
        "* [OpenDataMonitor](http://opendatamonitor.eu/),\n",
        "* [Wikipedia's list of Machine Learning datasets](https://en.wikipedia.org/wiki/List_of_datasets_for_machine-learning_research)\n",
        "* [Datasets subreddit](https://www.reddit.com/r/datasets/),\n",
        "* [Quora's list of open datasets](https://www.quora.com/Where-can-I-find-large-datasets-open-to-the-public)\n",
        "\n",
        "Major cloud providers all have repositories of publically available datasets.,\n",
        "\n",
        "* [Open Data on AWS](https://registry.opendata.aws/),\n",
        "* [Open Data on GCP](https://cloud.google.com/public-datasets/),\n",
        "* [Open Data on Azure](https://azure.microsoft.com/en-us/services/open-datasets/),\n",
        "    \n",
        "Finally, [Pandas DataReader](https://pydata.github.io/pandas-datareader/) provides a unified API to a [number of datasets](https://pydata.github.io/pandas-datareader/remote_data.html). Note that many of these data sources require you to create an account and get an API key.\n",
        "\n",
        "## MNIST Dataset\n",
        "\n",
        "The original [MNIST](http://yann.lecun.com/exdb/mnist/) dataset consists of 70000 28x28 black and white images in 10 classes. There are 60000 training images and 10000 test images."
      ]
    },
    {
      "cell_type": "code",
      "execution_count": 3,
      "id": "92587a9e-0b12-49cc-aa00-93c905c60278",
      "metadata": {
        "id": "92587a9e-0b12-49cc-aa00-93c905c60278"
      },
      "outputs": [],
      "source": [
        "# might be different if using Colab or Kaggle\n",
        "PROJECT_ROOT_DIR = pathlib.Path(\".\")\n",
        "\n",
        "DATA_DIR = PROJECT_ROOT_DIR / \"data\" / \"mnist\"\n",
        "DATA_DIR.mkdir(parents=True, exist_ok=True)\n",
        "\n",
        "RESULTS_DIR = PROJECT_ROOT_DIR / \"results\" / \"mnist\"\n",
        "RESULTS_DIR.mkdir(parents=True, exist_ok=True)\n"
      ]
    },
    {
      "cell_type": "markdown",
      "id": "e68d2238-7283-441a-b6d8-4ba3c4c682f0",
      "metadata": {
        "id": "e68d2238-7283-441a-b6d8-4ba3c4c682f0"
      },
      "source": [
        "### Download and extract the data (if using Colab or Kaggle!)"
      ]
    },
    {
      "cell_type": "code",
      "execution_count": 5,
      "id": "09916110-f2d8-448c-86ee-4be9ae5be169",
      "metadata": {
        "id": "09916110-f2d8-448c-86ee-4be9ae5be169",
        "tags": []
      },
      "outputs": [],
      "source": [
        "URL = \"https://github.com/KAUST-Academy/practical-tools-for-machine-learning/blob/october-2022/data/mnist/mnist.parquet?raw=true\"\n",
        "\n",
        "with open(DATA_DIR / \"mnist.parquet\", 'wb') as f:\n",
        "    response = requests.get(URL)\n",
        "    f.write(response.content)\n"
      ]
    },
    {
      "cell_type": "code",
      "source": [
        "%%bash\n",
        "ls -lh ./data/mnist"
      ],
      "metadata": {
        "id": "RskyAZbs5dRe",
        "outputId": "b45e4f83-3bef-443c-cf0c-0378b0d0776c",
        "colab": {
          "base_uri": "https://localhost:8080/"
        }
      },
      "id": "RskyAZbs5dRe",
      "execution_count": 8,
      "outputs": [
        {
          "output_type": "stream",
          "name": "stdout",
          "text": [
            "total 21M\n",
            "-rw-r--r-- 1 root root 21M Oct  6 10:46 mnist.parquet\n"
          ]
        }
      ]
    },
    {
      "cell_type": "markdown",
      "id": "02cc24c9-260e-4840-8872-723f0adc6f41",
      "metadata": {
        "id": "02cc24c9-260e-4840-8872-723f0adc6f41"
      },
      "source": [
        "### Load the data\n",
        "\n",
        "We will load the data using the [Pandas](https://pandas.pydata.org/) library. Highly recommend the most recent edition of [*Python for Data Analysis*](https://learning.oreilly.com/library/view/python-for-data/9781491957653/) by Pandas creator Wes Mckinney for anyone interested in learning how to use Pandas."
      ]
    },
    {
      "cell_type": "code",
      "execution_count": 9,
      "id": "c1fded7d-02a7-48c3-99e4-d19d001c8ccf",
      "metadata": {
        "id": "c1fded7d-02a7-48c3-99e4-d19d001c8ccf"
      },
      "outputs": [],
      "source": [
        "data = pd.read_parquet(DATA_DIR / \"mnist.parquet\")\n",
        "features = data.drop(\"label\", axis=1)\n",
        "target = data.loc[:, \"label\"]"
      ]
    },
    {
      "cell_type": "markdown",
      "id": "de1d7ed7-50ae-46fb-b7c9-cb3cbd5a6f1b",
      "metadata": {
        "id": "de1d7ed7-50ae-46fb-b7c9-cb3cbd5a6f1b"
      },
      "source": [
        "### Explore the data"
      ]
    },
    {
      "cell_type": "code",
      "execution_count": 10,
      "id": "9b53a9c4-550d-4577-bf0f-bace74843784",
      "metadata": {
        "colab": {
          "base_uri": "https://localhost:8080/"
        },
        "id": "9b53a9c4-550d-4577-bf0f-bace74843784",
        "outputId": "9b7bf28d-ff5e-4c86-8117-5a9fd0c85fb7"
      },
      "outputs": [
        {
          "output_type": "stream",
          "name": "stdout",
          "text": [
            "<class 'pandas.core.frame.DataFrame'>\n",
            "RangeIndex: 70000 entries, 0 to 69999\n",
            "Columns: 784 entries, pixel1 to pixel784\n",
            "dtypes: uint8(784)\n",
            "memory usage: 52.3 MB\n"
          ]
        }
      ],
      "source": [
        "features.info()"
      ]
    },
    {
      "cell_type": "code",
      "execution_count": 11,
      "id": "5a672145-6e4a-4a8f-9354-773c665e6139",
      "metadata": {
        "colab": {
          "base_uri": "https://localhost:8080/",
          "height": 300
        },
        "id": "5a672145-6e4a-4a8f-9354-773c665e6139",
        "outputId": "a9fb981e-95ce-43fc-89ef-aa712010e969"
      },
      "outputs": [
        {
          "output_type": "execute_result",
          "data": {
            "text/plain": [
              "   pixel1  pixel2  pixel3  pixel4  pixel5  pixel6  pixel7  pixel8  pixel9  \\\n",
              "0       0       0       0       0       0       0       0       0       0   \n",
              "1       0       0       0       0       0       0       0       0       0   \n",
              "2       0       0       0       0       0       0       0       0       0   \n",
              "3       0       0       0       0       0       0       0       0       0   \n",
              "4       0       0       0       0       0       0       0       0       0   \n",
              "\n",
              "   pixel10  ...  pixel775  pixel776  pixel777  pixel778  pixel779  pixel780  \\\n",
              "0        0  ...         0         0         0         0         0         0   \n",
              "1        0  ...         0         0         0         0         0         0   \n",
              "2        0  ...         0         0         0         0         0         0   \n",
              "3        0  ...         0         0         0         0         0         0   \n",
              "4        0  ...         0         0         0         0         0         0   \n",
              "\n",
              "   pixel781  pixel782  pixel783  pixel784  \n",
              "0         0         0         0         0  \n",
              "1         0         0         0         0  \n",
              "2         0         0         0         0  \n",
              "3         0         0         0         0  \n",
              "4         0         0         0         0  \n",
              "\n",
              "[5 rows x 784 columns]"
            ],
            "text/html": [
              "\n",
              "  <div id=\"df-9e531328-9497-48b6-ab2b-43a1160e23df\">\n",
              "    <div class=\"colab-df-container\">\n",
              "      <div>\n",
              "<style scoped>\n",
              "    .dataframe tbody tr th:only-of-type {\n",
              "        vertical-align: middle;\n",
              "    }\n",
              "\n",
              "    .dataframe tbody tr th {\n",
              "        vertical-align: top;\n",
              "    }\n",
              "\n",
              "    .dataframe thead th {\n",
              "        text-align: right;\n",
              "    }\n",
              "</style>\n",
              "<table border=\"1\" class=\"dataframe\">\n",
              "  <thead>\n",
              "    <tr style=\"text-align: right;\">\n",
              "      <th></th>\n",
              "      <th>pixel1</th>\n",
              "      <th>pixel2</th>\n",
              "      <th>pixel3</th>\n",
              "      <th>pixel4</th>\n",
              "      <th>pixel5</th>\n",
              "      <th>pixel6</th>\n",
              "      <th>pixel7</th>\n",
              "      <th>pixel8</th>\n",
              "      <th>pixel9</th>\n",
              "      <th>pixel10</th>\n",
              "      <th>...</th>\n",
              "      <th>pixel775</th>\n",
              "      <th>pixel776</th>\n",
              "      <th>pixel777</th>\n",
              "      <th>pixel778</th>\n",
              "      <th>pixel779</th>\n",
              "      <th>pixel780</th>\n",
              "      <th>pixel781</th>\n",
              "      <th>pixel782</th>\n",
              "      <th>pixel783</th>\n",
              "      <th>pixel784</th>\n",
              "    </tr>\n",
              "  </thead>\n",
              "  <tbody>\n",
              "    <tr>\n",
              "      <th>0</th>\n",
              "      <td>0</td>\n",
              "      <td>0</td>\n",
              "      <td>0</td>\n",
              "      <td>0</td>\n",
              "      <td>0</td>\n",
              "      <td>0</td>\n",
              "      <td>0</td>\n",
              "      <td>0</td>\n",
              "      <td>0</td>\n",
              "      <td>0</td>\n",
              "      <td>...</td>\n",
              "      <td>0</td>\n",
              "      <td>0</td>\n",
              "      <td>0</td>\n",
              "      <td>0</td>\n",
              "      <td>0</td>\n",
              "      <td>0</td>\n",
              "      <td>0</td>\n",
              "      <td>0</td>\n",
              "      <td>0</td>\n",
              "      <td>0</td>\n",
              "    </tr>\n",
              "    <tr>\n",
              "      <th>1</th>\n",
              "      <td>0</td>\n",
              "      <td>0</td>\n",
              "      <td>0</td>\n",
              "      <td>0</td>\n",
              "      <td>0</td>\n",
              "      <td>0</td>\n",
              "      <td>0</td>\n",
              "      <td>0</td>\n",
              "      <td>0</td>\n",
              "      <td>0</td>\n",
              "      <td>...</td>\n",
              "      <td>0</td>\n",
              "      <td>0</td>\n",
              "      <td>0</td>\n",
              "      <td>0</td>\n",
              "      <td>0</td>\n",
              "      <td>0</td>\n",
              "      <td>0</td>\n",
              "      <td>0</td>\n",
              "      <td>0</td>\n",
              "      <td>0</td>\n",
              "    </tr>\n",
              "    <tr>\n",
              "      <th>2</th>\n",
              "      <td>0</td>\n",
              "      <td>0</td>\n",
              "      <td>0</td>\n",
              "      <td>0</td>\n",
              "      <td>0</td>\n",
              "      <td>0</td>\n",
              "      <td>0</td>\n",
              "      <td>0</td>\n",
              "      <td>0</td>\n",
              "      <td>0</td>\n",
              "      <td>...</td>\n",
              "      <td>0</td>\n",
              "      <td>0</td>\n",
              "      <td>0</td>\n",
              "      <td>0</td>\n",
              "      <td>0</td>\n",
              "      <td>0</td>\n",
              "      <td>0</td>\n",
              "      <td>0</td>\n",
              "      <td>0</td>\n",
              "      <td>0</td>\n",
              "    </tr>\n",
              "    <tr>\n",
              "      <th>3</th>\n",
              "      <td>0</td>\n",
              "      <td>0</td>\n",
              "      <td>0</td>\n",
              "      <td>0</td>\n",
              "      <td>0</td>\n",
              "      <td>0</td>\n",
              "      <td>0</td>\n",
              "      <td>0</td>\n",
              "      <td>0</td>\n",
              "      <td>0</td>\n",
              "      <td>...</td>\n",
              "      <td>0</td>\n",
              "      <td>0</td>\n",
              "      <td>0</td>\n",
              "      <td>0</td>\n",
              "      <td>0</td>\n",
              "      <td>0</td>\n",
              "      <td>0</td>\n",
              "      <td>0</td>\n",
              "      <td>0</td>\n",
              "      <td>0</td>\n",
              "    </tr>\n",
              "    <tr>\n",
              "      <th>4</th>\n",
              "      <td>0</td>\n",
              "      <td>0</td>\n",
              "      <td>0</td>\n",
              "      <td>0</td>\n",
              "      <td>0</td>\n",
              "      <td>0</td>\n",
              "      <td>0</td>\n",
              "      <td>0</td>\n",
              "      <td>0</td>\n",
              "      <td>0</td>\n",
              "      <td>...</td>\n",
              "      <td>0</td>\n",
              "      <td>0</td>\n",
              "      <td>0</td>\n",
              "      <td>0</td>\n",
              "      <td>0</td>\n",
              "      <td>0</td>\n",
              "      <td>0</td>\n",
              "      <td>0</td>\n",
              "      <td>0</td>\n",
              "      <td>0</td>\n",
              "    </tr>\n",
              "  </tbody>\n",
              "</table>\n",
              "<p>5 rows × 784 columns</p>\n",
              "</div>\n",
              "      <button class=\"colab-df-convert\" onclick=\"convertToInteractive('df-9e531328-9497-48b6-ab2b-43a1160e23df')\"\n",
              "              title=\"Convert this dataframe to an interactive table.\"\n",
              "              style=\"display:none;\">\n",
              "        \n",
              "  <svg xmlns=\"http://www.w3.org/2000/svg\" height=\"24px\"viewBox=\"0 0 24 24\"\n",
              "       width=\"24px\">\n",
              "    <path d=\"M0 0h24v24H0V0z\" fill=\"none\"/>\n",
              "    <path d=\"M18.56 5.44l.94 2.06.94-2.06 2.06-.94-2.06-.94-.94-2.06-.94 2.06-2.06.94zm-11 1L8.5 8.5l.94-2.06 2.06-.94-2.06-.94L8.5 2.5l-.94 2.06-2.06.94zm10 10l.94 2.06.94-2.06 2.06-.94-2.06-.94-.94-2.06-.94 2.06-2.06.94z\"/><path d=\"M17.41 7.96l-1.37-1.37c-.4-.4-.92-.59-1.43-.59-.52 0-1.04.2-1.43.59L10.3 9.45l-7.72 7.72c-.78.78-.78 2.05 0 2.83L4 21.41c.39.39.9.59 1.41.59.51 0 1.02-.2 1.41-.59l7.78-7.78 2.81-2.81c.8-.78.8-2.07 0-2.86zM5.41 20L4 18.59l7.72-7.72 1.47 1.35L5.41 20z\"/>\n",
              "  </svg>\n",
              "      </button>\n",
              "      \n",
              "  <style>\n",
              "    .colab-df-container {\n",
              "      display:flex;\n",
              "      flex-wrap:wrap;\n",
              "      gap: 12px;\n",
              "    }\n",
              "\n",
              "    .colab-df-convert {\n",
              "      background-color: #E8F0FE;\n",
              "      border: none;\n",
              "      border-radius: 50%;\n",
              "      cursor: pointer;\n",
              "      display: none;\n",
              "      fill: #1967D2;\n",
              "      height: 32px;\n",
              "      padding: 0 0 0 0;\n",
              "      width: 32px;\n",
              "    }\n",
              "\n",
              "    .colab-df-convert:hover {\n",
              "      background-color: #E2EBFA;\n",
              "      box-shadow: 0px 1px 2px rgba(60, 64, 67, 0.3), 0px 1px 3px 1px rgba(60, 64, 67, 0.15);\n",
              "      fill: #174EA6;\n",
              "    }\n",
              "\n",
              "    [theme=dark] .colab-df-convert {\n",
              "      background-color: #3B4455;\n",
              "      fill: #D2E3FC;\n",
              "    }\n",
              "\n",
              "    [theme=dark] .colab-df-convert:hover {\n",
              "      background-color: #434B5C;\n",
              "      box-shadow: 0px 1px 3px 1px rgba(0, 0, 0, 0.15);\n",
              "      filter: drop-shadow(0px 1px 2px rgba(0, 0, 0, 0.3));\n",
              "      fill: #FFFFFF;\n",
              "    }\n",
              "  </style>\n",
              "\n",
              "      <script>\n",
              "        const buttonEl =\n",
              "          document.querySelector('#df-9e531328-9497-48b6-ab2b-43a1160e23df button.colab-df-convert');\n",
              "        buttonEl.style.display =\n",
              "          google.colab.kernel.accessAllowed ? 'block' : 'none';\n",
              "\n",
              "        async function convertToInteractive(key) {\n",
              "          const element = document.querySelector('#df-9e531328-9497-48b6-ab2b-43a1160e23df');\n",
              "          const dataTable =\n",
              "            await google.colab.kernel.invokeFunction('convertToInteractive',\n",
              "                                                     [key], {});\n",
              "          if (!dataTable) return;\n",
              "\n",
              "          const docLinkHtml = 'Like what you see? Visit the ' +\n",
              "            '<a target=\"_blank\" href=https://colab.research.google.com/notebooks/data_table.ipynb>data table notebook</a>'\n",
              "            + ' to learn more about interactive tables.';\n",
              "          element.innerHTML = '';\n",
              "          dataTable['output_type'] = 'display_data';\n",
              "          await google.colab.output.renderOutput(dataTable, element);\n",
              "          const docLink = document.createElement('div');\n",
              "          docLink.innerHTML = docLinkHtml;\n",
              "          element.appendChild(docLink);\n",
              "        }\n",
              "      </script>\n",
              "    </div>\n",
              "  </div>\n",
              "  "
            ]
          },
          "metadata": {},
          "execution_count": 11
        }
      ],
      "source": [
        "features.head()"
      ]
    },
    {
      "cell_type": "code",
      "execution_count": 12,
      "id": "ed9991ac-7033-475f-aacc-b0ea0d6dded4",
      "metadata": {
        "colab": {
          "base_uri": "https://localhost:8080/",
          "height": 300
        },
        "id": "ed9991ac-7033-475f-aacc-b0ea0d6dded4",
        "outputId": "3d485ab8-f443-43bf-8401-7f929d277555"
      },
      "outputs": [
        {
          "output_type": "execute_result",
          "data": {
            "text/plain": [
              "       pixel1  pixel2  pixel3  pixel4  pixel5  pixel6  pixel7  pixel8  pixel9  \\\n",
              "69995       0       0       0       0       0       0       0       0       0   \n",
              "69996       0       0       0       0       0       0       0       0       0   \n",
              "69997       0       0       0       0       0       0       0       0       0   \n",
              "69998       0       0       0       0       0       0       0       0       0   \n",
              "69999       0       0       0       0       0       0       0       0       0   \n",
              "\n",
              "       pixel10  ...  pixel775  pixel776  pixel777  pixel778  pixel779  \\\n",
              "69995        0  ...         0         0         0         0         0   \n",
              "69996        0  ...         0         0         0         0         0   \n",
              "69997        0  ...         0         0         0         0         0   \n",
              "69998        0  ...         0         0         0         0         0   \n",
              "69999        0  ...         0         0         0         0         0   \n",
              "\n",
              "       pixel780  pixel781  pixel782  pixel783  pixel784  \n",
              "69995         0         0         0         0         0  \n",
              "69996         0         0         0         0         0  \n",
              "69997         0         0         0         0         0  \n",
              "69998         0         0         0         0         0  \n",
              "69999         0         0         0         0         0  \n",
              "\n",
              "[5 rows x 784 columns]"
            ],
            "text/html": [
              "\n",
              "  <div id=\"df-4c31e9ec-5c86-49d3-831d-1d795f18283c\">\n",
              "    <div class=\"colab-df-container\">\n",
              "      <div>\n",
              "<style scoped>\n",
              "    .dataframe tbody tr th:only-of-type {\n",
              "        vertical-align: middle;\n",
              "    }\n",
              "\n",
              "    .dataframe tbody tr th {\n",
              "        vertical-align: top;\n",
              "    }\n",
              "\n",
              "    .dataframe thead th {\n",
              "        text-align: right;\n",
              "    }\n",
              "</style>\n",
              "<table border=\"1\" class=\"dataframe\">\n",
              "  <thead>\n",
              "    <tr style=\"text-align: right;\">\n",
              "      <th></th>\n",
              "      <th>pixel1</th>\n",
              "      <th>pixel2</th>\n",
              "      <th>pixel3</th>\n",
              "      <th>pixel4</th>\n",
              "      <th>pixel5</th>\n",
              "      <th>pixel6</th>\n",
              "      <th>pixel7</th>\n",
              "      <th>pixel8</th>\n",
              "      <th>pixel9</th>\n",
              "      <th>pixel10</th>\n",
              "      <th>...</th>\n",
              "      <th>pixel775</th>\n",
              "      <th>pixel776</th>\n",
              "      <th>pixel777</th>\n",
              "      <th>pixel778</th>\n",
              "      <th>pixel779</th>\n",
              "      <th>pixel780</th>\n",
              "      <th>pixel781</th>\n",
              "      <th>pixel782</th>\n",
              "      <th>pixel783</th>\n",
              "      <th>pixel784</th>\n",
              "    </tr>\n",
              "  </thead>\n",
              "  <tbody>\n",
              "    <tr>\n",
              "      <th>69995</th>\n",
              "      <td>0</td>\n",
              "      <td>0</td>\n",
              "      <td>0</td>\n",
              "      <td>0</td>\n",
              "      <td>0</td>\n",
              "      <td>0</td>\n",
              "      <td>0</td>\n",
              "      <td>0</td>\n",
              "      <td>0</td>\n",
              "      <td>0</td>\n",
              "      <td>...</td>\n",
              "      <td>0</td>\n",
              "      <td>0</td>\n",
              "      <td>0</td>\n",
              "      <td>0</td>\n",
              "      <td>0</td>\n",
              "      <td>0</td>\n",
              "      <td>0</td>\n",
              "      <td>0</td>\n",
              "      <td>0</td>\n",
              "      <td>0</td>\n",
              "    </tr>\n",
              "    <tr>\n",
              "      <th>69996</th>\n",
              "      <td>0</td>\n",
              "      <td>0</td>\n",
              "      <td>0</td>\n",
              "      <td>0</td>\n",
              "      <td>0</td>\n",
              "      <td>0</td>\n",
              "      <td>0</td>\n",
              "      <td>0</td>\n",
              "      <td>0</td>\n",
              "      <td>0</td>\n",
              "      <td>...</td>\n",
              "      <td>0</td>\n",
              "      <td>0</td>\n",
              "      <td>0</td>\n",
              "      <td>0</td>\n",
              "      <td>0</td>\n",
              "      <td>0</td>\n",
              "      <td>0</td>\n",
              "      <td>0</td>\n",
              "      <td>0</td>\n",
              "      <td>0</td>\n",
              "    </tr>\n",
              "    <tr>\n",
              "      <th>69997</th>\n",
              "      <td>0</td>\n",
              "      <td>0</td>\n",
              "      <td>0</td>\n",
              "      <td>0</td>\n",
              "      <td>0</td>\n",
              "      <td>0</td>\n",
              "      <td>0</td>\n",
              "      <td>0</td>\n",
              "      <td>0</td>\n",
              "      <td>0</td>\n",
              "      <td>...</td>\n",
              "      <td>0</td>\n",
              "      <td>0</td>\n",
              "      <td>0</td>\n",
              "      <td>0</td>\n",
              "      <td>0</td>\n",
              "      <td>0</td>\n",
              "      <td>0</td>\n",
              "      <td>0</td>\n",
              "      <td>0</td>\n",
              "      <td>0</td>\n",
              "    </tr>\n",
              "    <tr>\n",
              "      <th>69998</th>\n",
              "      <td>0</td>\n",
              "      <td>0</td>\n",
              "      <td>0</td>\n",
              "      <td>0</td>\n",
              "      <td>0</td>\n",
              "      <td>0</td>\n",
              "      <td>0</td>\n",
              "      <td>0</td>\n",
              "      <td>0</td>\n",
              "      <td>0</td>\n",
              "      <td>...</td>\n",
              "      <td>0</td>\n",
              "      <td>0</td>\n",
              "      <td>0</td>\n",
              "      <td>0</td>\n",
              "      <td>0</td>\n",
              "      <td>0</td>\n",
              "      <td>0</td>\n",
              "      <td>0</td>\n",
              "      <td>0</td>\n",
              "      <td>0</td>\n",
              "    </tr>\n",
              "    <tr>\n",
              "      <th>69999</th>\n",
              "      <td>0</td>\n",
              "      <td>0</td>\n",
              "      <td>0</td>\n",
              "      <td>0</td>\n",
              "      <td>0</td>\n",
              "      <td>0</td>\n",
              "      <td>0</td>\n",
              "      <td>0</td>\n",
              "      <td>0</td>\n",
              "      <td>0</td>\n",
              "      <td>...</td>\n",
              "      <td>0</td>\n",
              "      <td>0</td>\n",
              "      <td>0</td>\n",
              "      <td>0</td>\n",
              "      <td>0</td>\n",
              "      <td>0</td>\n",
              "      <td>0</td>\n",
              "      <td>0</td>\n",
              "      <td>0</td>\n",
              "      <td>0</td>\n",
              "    </tr>\n",
              "  </tbody>\n",
              "</table>\n",
              "<p>5 rows × 784 columns</p>\n",
              "</div>\n",
              "      <button class=\"colab-df-convert\" onclick=\"convertToInteractive('df-4c31e9ec-5c86-49d3-831d-1d795f18283c')\"\n",
              "              title=\"Convert this dataframe to an interactive table.\"\n",
              "              style=\"display:none;\">\n",
              "        \n",
              "  <svg xmlns=\"http://www.w3.org/2000/svg\" height=\"24px\"viewBox=\"0 0 24 24\"\n",
              "       width=\"24px\">\n",
              "    <path d=\"M0 0h24v24H0V0z\" fill=\"none\"/>\n",
              "    <path d=\"M18.56 5.44l.94 2.06.94-2.06 2.06-.94-2.06-.94-.94-2.06-.94 2.06-2.06.94zm-11 1L8.5 8.5l.94-2.06 2.06-.94-2.06-.94L8.5 2.5l-.94 2.06-2.06.94zm10 10l.94 2.06.94-2.06 2.06-.94-2.06-.94-.94-2.06-.94 2.06-2.06.94z\"/><path d=\"M17.41 7.96l-1.37-1.37c-.4-.4-.92-.59-1.43-.59-.52 0-1.04.2-1.43.59L10.3 9.45l-7.72 7.72c-.78.78-.78 2.05 0 2.83L4 21.41c.39.39.9.59 1.41.59.51 0 1.02-.2 1.41-.59l7.78-7.78 2.81-2.81c.8-.78.8-2.07 0-2.86zM5.41 20L4 18.59l7.72-7.72 1.47 1.35L5.41 20z\"/>\n",
              "  </svg>\n",
              "      </button>\n",
              "      \n",
              "  <style>\n",
              "    .colab-df-container {\n",
              "      display:flex;\n",
              "      flex-wrap:wrap;\n",
              "      gap: 12px;\n",
              "    }\n",
              "\n",
              "    .colab-df-convert {\n",
              "      background-color: #E8F0FE;\n",
              "      border: none;\n",
              "      border-radius: 50%;\n",
              "      cursor: pointer;\n",
              "      display: none;\n",
              "      fill: #1967D2;\n",
              "      height: 32px;\n",
              "      padding: 0 0 0 0;\n",
              "      width: 32px;\n",
              "    }\n",
              "\n",
              "    .colab-df-convert:hover {\n",
              "      background-color: #E2EBFA;\n",
              "      box-shadow: 0px 1px 2px rgba(60, 64, 67, 0.3), 0px 1px 3px 1px rgba(60, 64, 67, 0.15);\n",
              "      fill: #174EA6;\n",
              "    }\n",
              "\n",
              "    [theme=dark] .colab-df-convert {\n",
              "      background-color: #3B4455;\n",
              "      fill: #D2E3FC;\n",
              "    }\n",
              "\n",
              "    [theme=dark] .colab-df-convert:hover {\n",
              "      background-color: #434B5C;\n",
              "      box-shadow: 0px 1px 3px 1px rgba(0, 0, 0, 0.15);\n",
              "      filter: drop-shadow(0px 1px 2px rgba(0, 0, 0, 0.3));\n",
              "      fill: #FFFFFF;\n",
              "    }\n",
              "  </style>\n",
              "\n",
              "      <script>\n",
              "        const buttonEl =\n",
              "          document.querySelector('#df-4c31e9ec-5c86-49d3-831d-1d795f18283c button.colab-df-convert');\n",
              "        buttonEl.style.display =\n",
              "          google.colab.kernel.accessAllowed ? 'block' : 'none';\n",
              "\n",
              "        async function convertToInteractive(key) {\n",
              "          const element = document.querySelector('#df-4c31e9ec-5c86-49d3-831d-1d795f18283c');\n",
              "          const dataTable =\n",
              "            await google.colab.kernel.invokeFunction('convertToInteractive',\n",
              "                                                     [key], {});\n",
              "          if (!dataTable) return;\n",
              "\n",
              "          const docLinkHtml = 'Like what you see? Visit the ' +\n",
              "            '<a target=\"_blank\" href=https://colab.research.google.com/notebooks/data_table.ipynb>data table notebook</a>'\n",
              "            + ' to learn more about interactive tables.';\n",
              "          element.innerHTML = '';\n",
              "          dataTable['output_type'] = 'display_data';\n",
              "          await google.colab.output.renderOutput(dataTable, element);\n",
              "          const docLink = document.createElement('div');\n",
              "          docLink.innerHTML = docLinkHtml;\n",
              "          element.appendChild(docLink);\n",
              "        }\n",
              "      </script>\n",
              "    </div>\n",
              "  </div>\n",
              "  "
            ]
          },
          "metadata": {},
          "execution_count": 12
        }
      ],
      "source": [
        "features.tail()"
      ]
    },
    {
      "cell_type": "code",
      "execution_count": 13,
      "id": "d4983c89-dcbf-4403-8d76-7940d95c9122",
      "metadata": {
        "colab": {
          "base_uri": "https://localhost:8080/",
          "height": 394
        },
        "id": "d4983c89-dcbf-4403-8d76-7940d95c9122",
        "outputId": "bbf8818a-9cd9-4d71-ee93-47f27ca5d7ab"
      },
      "outputs": [
        {
          "output_type": "execute_result",
          "data": {
            "text/plain": [
              "        pixel1   pixel2   pixel3   pixel4   pixel5   pixel6   pixel7   pixel8  \\\n",
              "count  70000.0  70000.0  70000.0  70000.0  70000.0  70000.0  70000.0  70000.0   \n",
              "mean       0.0      0.0      0.0      0.0      0.0      0.0      0.0      0.0   \n",
              "std        0.0      0.0      0.0      0.0      0.0      0.0      0.0      0.0   \n",
              "min        0.0      0.0      0.0      0.0      0.0      0.0      0.0      0.0   \n",
              "25%        0.0      0.0      0.0      0.0      0.0      0.0      0.0      0.0   \n",
              "50%        0.0      0.0      0.0      0.0      0.0      0.0      0.0      0.0   \n",
              "75%        0.0      0.0      0.0      0.0      0.0      0.0      0.0      0.0   \n",
              "max        0.0      0.0      0.0      0.0      0.0      0.0      0.0      0.0   \n",
              "\n",
              "        pixel9  pixel10  ...      pixel775      pixel776      pixel777  \\\n",
              "count  70000.0  70000.0  ...  70000.000000  70000.000000  70000.000000   \n",
              "mean       0.0      0.0  ...      0.197414      0.099543      0.046629   \n",
              "std        0.0      0.0  ...      5.991206      4.256304      2.783732   \n",
              "min        0.0      0.0  ...      0.000000      0.000000      0.000000   \n",
              "25%        0.0      0.0  ...      0.000000      0.000000      0.000000   \n",
              "50%        0.0      0.0  ...      0.000000      0.000000      0.000000   \n",
              "75%        0.0      0.0  ...      0.000000      0.000000      0.000000   \n",
              "max        0.0      0.0  ...    254.000000    254.000000    253.000000   \n",
              "\n",
              "           pixel778      pixel779      pixel780  pixel781  pixel782  pixel783  \\\n",
              "count  70000.000000  70000.000000  70000.000000   70000.0   70000.0   70000.0   \n",
              "mean       0.016614      0.012957      0.001714       0.0       0.0       0.0   \n",
              "std        1.561822      1.553796      0.320889       0.0       0.0       0.0   \n",
              "min        0.000000      0.000000      0.000000       0.0       0.0       0.0   \n",
              "25%        0.000000      0.000000      0.000000       0.0       0.0       0.0   \n",
              "50%        0.000000      0.000000      0.000000       0.0       0.0       0.0   \n",
              "75%        0.000000      0.000000      0.000000       0.0       0.0       0.0   \n",
              "max      253.000000    254.000000     62.000000       0.0       0.0       0.0   \n",
              "\n",
              "       pixel784  \n",
              "count   70000.0  \n",
              "mean        0.0  \n",
              "std         0.0  \n",
              "min         0.0  \n",
              "25%         0.0  \n",
              "50%         0.0  \n",
              "75%         0.0  \n",
              "max         0.0  \n",
              "\n",
              "[8 rows x 784 columns]"
            ],
            "text/html": [
              "\n",
              "  <div id=\"df-203c1872-072a-44ad-817d-f16da4216270\">\n",
              "    <div class=\"colab-df-container\">\n",
              "      <div>\n",
              "<style scoped>\n",
              "    .dataframe tbody tr th:only-of-type {\n",
              "        vertical-align: middle;\n",
              "    }\n",
              "\n",
              "    .dataframe tbody tr th {\n",
              "        vertical-align: top;\n",
              "    }\n",
              "\n",
              "    .dataframe thead th {\n",
              "        text-align: right;\n",
              "    }\n",
              "</style>\n",
              "<table border=\"1\" class=\"dataframe\">\n",
              "  <thead>\n",
              "    <tr style=\"text-align: right;\">\n",
              "      <th></th>\n",
              "      <th>pixel1</th>\n",
              "      <th>pixel2</th>\n",
              "      <th>pixel3</th>\n",
              "      <th>pixel4</th>\n",
              "      <th>pixel5</th>\n",
              "      <th>pixel6</th>\n",
              "      <th>pixel7</th>\n",
              "      <th>pixel8</th>\n",
              "      <th>pixel9</th>\n",
              "      <th>pixel10</th>\n",
              "      <th>...</th>\n",
              "      <th>pixel775</th>\n",
              "      <th>pixel776</th>\n",
              "      <th>pixel777</th>\n",
              "      <th>pixel778</th>\n",
              "      <th>pixel779</th>\n",
              "      <th>pixel780</th>\n",
              "      <th>pixel781</th>\n",
              "      <th>pixel782</th>\n",
              "      <th>pixel783</th>\n",
              "      <th>pixel784</th>\n",
              "    </tr>\n",
              "  </thead>\n",
              "  <tbody>\n",
              "    <tr>\n",
              "      <th>count</th>\n",
              "      <td>70000.0</td>\n",
              "      <td>70000.0</td>\n",
              "      <td>70000.0</td>\n",
              "      <td>70000.0</td>\n",
              "      <td>70000.0</td>\n",
              "      <td>70000.0</td>\n",
              "      <td>70000.0</td>\n",
              "      <td>70000.0</td>\n",
              "      <td>70000.0</td>\n",
              "      <td>70000.0</td>\n",
              "      <td>...</td>\n",
              "      <td>70000.000000</td>\n",
              "      <td>70000.000000</td>\n",
              "      <td>70000.000000</td>\n",
              "      <td>70000.000000</td>\n",
              "      <td>70000.000000</td>\n",
              "      <td>70000.000000</td>\n",
              "      <td>70000.0</td>\n",
              "      <td>70000.0</td>\n",
              "      <td>70000.0</td>\n",
              "      <td>70000.0</td>\n",
              "    </tr>\n",
              "    <tr>\n",
              "      <th>mean</th>\n",
              "      <td>0.0</td>\n",
              "      <td>0.0</td>\n",
              "      <td>0.0</td>\n",
              "      <td>0.0</td>\n",
              "      <td>0.0</td>\n",
              "      <td>0.0</td>\n",
              "      <td>0.0</td>\n",
              "      <td>0.0</td>\n",
              "      <td>0.0</td>\n",
              "      <td>0.0</td>\n",
              "      <td>...</td>\n",
              "      <td>0.197414</td>\n",
              "      <td>0.099543</td>\n",
              "      <td>0.046629</td>\n",
              "      <td>0.016614</td>\n",
              "      <td>0.012957</td>\n",
              "      <td>0.001714</td>\n",
              "      <td>0.0</td>\n",
              "      <td>0.0</td>\n",
              "      <td>0.0</td>\n",
              "      <td>0.0</td>\n",
              "    </tr>\n",
              "    <tr>\n",
              "      <th>std</th>\n",
              "      <td>0.0</td>\n",
              "      <td>0.0</td>\n",
              "      <td>0.0</td>\n",
              "      <td>0.0</td>\n",
              "      <td>0.0</td>\n",
              "      <td>0.0</td>\n",
              "      <td>0.0</td>\n",
              "      <td>0.0</td>\n",
              "      <td>0.0</td>\n",
              "      <td>0.0</td>\n",
              "      <td>...</td>\n",
              "      <td>5.991206</td>\n",
              "      <td>4.256304</td>\n",
              "      <td>2.783732</td>\n",
              "      <td>1.561822</td>\n",
              "      <td>1.553796</td>\n",
              "      <td>0.320889</td>\n",
              "      <td>0.0</td>\n",
              "      <td>0.0</td>\n",
              "      <td>0.0</td>\n",
              "      <td>0.0</td>\n",
              "    </tr>\n",
              "    <tr>\n",
              "      <th>min</th>\n",
              "      <td>0.0</td>\n",
              "      <td>0.0</td>\n",
              "      <td>0.0</td>\n",
              "      <td>0.0</td>\n",
              "      <td>0.0</td>\n",
              "      <td>0.0</td>\n",
              "      <td>0.0</td>\n",
              "      <td>0.0</td>\n",
              "      <td>0.0</td>\n",
              "      <td>0.0</td>\n",
              "      <td>...</td>\n",
              "      <td>0.000000</td>\n",
              "      <td>0.000000</td>\n",
              "      <td>0.000000</td>\n",
              "      <td>0.000000</td>\n",
              "      <td>0.000000</td>\n",
              "      <td>0.000000</td>\n",
              "      <td>0.0</td>\n",
              "      <td>0.0</td>\n",
              "      <td>0.0</td>\n",
              "      <td>0.0</td>\n",
              "    </tr>\n",
              "    <tr>\n",
              "      <th>25%</th>\n",
              "      <td>0.0</td>\n",
              "      <td>0.0</td>\n",
              "      <td>0.0</td>\n",
              "      <td>0.0</td>\n",
              "      <td>0.0</td>\n",
              "      <td>0.0</td>\n",
              "      <td>0.0</td>\n",
              "      <td>0.0</td>\n",
              "      <td>0.0</td>\n",
              "      <td>0.0</td>\n",
              "      <td>...</td>\n",
              "      <td>0.000000</td>\n",
              "      <td>0.000000</td>\n",
              "      <td>0.000000</td>\n",
              "      <td>0.000000</td>\n",
              "      <td>0.000000</td>\n",
              "      <td>0.000000</td>\n",
              "      <td>0.0</td>\n",
              "      <td>0.0</td>\n",
              "      <td>0.0</td>\n",
              "      <td>0.0</td>\n",
              "    </tr>\n",
              "    <tr>\n",
              "      <th>50%</th>\n",
              "      <td>0.0</td>\n",
              "      <td>0.0</td>\n",
              "      <td>0.0</td>\n",
              "      <td>0.0</td>\n",
              "      <td>0.0</td>\n",
              "      <td>0.0</td>\n",
              "      <td>0.0</td>\n",
              "      <td>0.0</td>\n",
              "      <td>0.0</td>\n",
              "      <td>0.0</td>\n",
              "      <td>...</td>\n",
              "      <td>0.000000</td>\n",
              "      <td>0.000000</td>\n",
              "      <td>0.000000</td>\n",
              "      <td>0.000000</td>\n",
              "      <td>0.000000</td>\n",
              "      <td>0.000000</td>\n",
              "      <td>0.0</td>\n",
              "      <td>0.0</td>\n",
              "      <td>0.0</td>\n",
              "      <td>0.0</td>\n",
              "    </tr>\n",
              "    <tr>\n",
              "      <th>75%</th>\n",
              "      <td>0.0</td>\n",
              "      <td>0.0</td>\n",
              "      <td>0.0</td>\n",
              "      <td>0.0</td>\n",
              "      <td>0.0</td>\n",
              "      <td>0.0</td>\n",
              "      <td>0.0</td>\n",
              "      <td>0.0</td>\n",
              "      <td>0.0</td>\n",
              "      <td>0.0</td>\n",
              "      <td>...</td>\n",
              "      <td>0.000000</td>\n",
              "      <td>0.000000</td>\n",
              "      <td>0.000000</td>\n",
              "      <td>0.000000</td>\n",
              "      <td>0.000000</td>\n",
              "      <td>0.000000</td>\n",
              "      <td>0.0</td>\n",
              "      <td>0.0</td>\n",
              "      <td>0.0</td>\n",
              "      <td>0.0</td>\n",
              "    </tr>\n",
              "    <tr>\n",
              "      <th>max</th>\n",
              "      <td>0.0</td>\n",
              "      <td>0.0</td>\n",
              "      <td>0.0</td>\n",
              "      <td>0.0</td>\n",
              "      <td>0.0</td>\n",
              "      <td>0.0</td>\n",
              "      <td>0.0</td>\n",
              "      <td>0.0</td>\n",
              "      <td>0.0</td>\n",
              "      <td>0.0</td>\n",
              "      <td>...</td>\n",
              "      <td>254.000000</td>\n",
              "      <td>254.000000</td>\n",
              "      <td>253.000000</td>\n",
              "      <td>253.000000</td>\n",
              "      <td>254.000000</td>\n",
              "      <td>62.000000</td>\n",
              "      <td>0.0</td>\n",
              "      <td>0.0</td>\n",
              "      <td>0.0</td>\n",
              "      <td>0.0</td>\n",
              "    </tr>\n",
              "  </tbody>\n",
              "</table>\n",
              "<p>8 rows × 784 columns</p>\n",
              "</div>\n",
              "      <button class=\"colab-df-convert\" onclick=\"convertToInteractive('df-203c1872-072a-44ad-817d-f16da4216270')\"\n",
              "              title=\"Convert this dataframe to an interactive table.\"\n",
              "              style=\"display:none;\">\n",
              "        \n",
              "  <svg xmlns=\"http://www.w3.org/2000/svg\" height=\"24px\"viewBox=\"0 0 24 24\"\n",
              "       width=\"24px\">\n",
              "    <path d=\"M0 0h24v24H0V0z\" fill=\"none\"/>\n",
              "    <path d=\"M18.56 5.44l.94 2.06.94-2.06 2.06-.94-2.06-.94-.94-2.06-.94 2.06-2.06.94zm-11 1L8.5 8.5l.94-2.06 2.06-.94-2.06-.94L8.5 2.5l-.94 2.06-2.06.94zm10 10l.94 2.06.94-2.06 2.06-.94-2.06-.94-.94-2.06-.94 2.06-2.06.94z\"/><path d=\"M17.41 7.96l-1.37-1.37c-.4-.4-.92-.59-1.43-.59-.52 0-1.04.2-1.43.59L10.3 9.45l-7.72 7.72c-.78.78-.78 2.05 0 2.83L4 21.41c.39.39.9.59 1.41.59.51 0 1.02-.2 1.41-.59l7.78-7.78 2.81-2.81c.8-.78.8-2.07 0-2.86zM5.41 20L4 18.59l7.72-7.72 1.47 1.35L5.41 20z\"/>\n",
              "  </svg>\n",
              "      </button>\n",
              "      \n",
              "  <style>\n",
              "    .colab-df-container {\n",
              "      display:flex;\n",
              "      flex-wrap:wrap;\n",
              "      gap: 12px;\n",
              "    }\n",
              "\n",
              "    .colab-df-convert {\n",
              "      background-color: #E8F0FE;\n",
              "      border: none;\n",
              "      border-radius: 50%;\n",
              "      cursor: pointer;\n",
              "      display: none;\n",
              "      fill: #1967D2;\n",
              "      height: 32px;\n",
              "      padding: 0 0 0 0;\n",
              "      width: 32px;\n",
              "    }\n",
              "\n",
              "    .colab-df-convert:hover {\n",
              "      background-color: #E2EBFA;\n",
              "      box-shadow: 0px 1px 2px rgba(60, 64, 67, 0.3), 0px 1px 3px 1px rgba(60, 64, 67, 0.15);\n",
              "      fill: #174EA6;\n",
              "    }\n",
              "\n",
              "    [theme=dark] .colab-df-convert {\n",
              "      background-color: #3B4455;\n",
              "      fill: #D2E3FC;\n",
              "    }\n",
              "\n",
              "    [theme=dark] .colab-df-convert:hover {\n",
              "      background-color: #434B5C;\n",
              "      box-shadow: 0px 1px 3px 1px rgba(0, 0, 0, 0.15);\n",
              "      filter: drop-shadow(0px 1px 2px rgba(0, 0, 0, 0.3));\n",
              "      fill: #FFFFFF;\n",
              "    }\n",
              "  </style>\n",
              "\n",
              "      <script>\n",
              "        const buttonEl =\n",
              "          document.querySelector('#df-203c1872-072a-44ad-817d-f16da4216270 button.colab-df-convert');\n",
              "        buttonEl.style.display =\n",
              "          google.colab.kernel.accessAllowed ? 'block' : 'none';\n",
              "\n",
              "        async function convertToInteractive(key) {\n",
              "          const element = document.querySelector('#df-203c1872-072a-44ad-817d-f16da4216270');\n",
              "          const dataTable =\n",
              "            await google.colab.kernel.invokeFunction('convertToInteractive',\n",
              "                                                     [key], {});\n",
              "          if (!dataTable) return;\n",
              "\n",
              "          const docLinkHtml = 'Like what you see? Visit the ' +\n",
              "            '<a target=\"_blank\" href=https://colab.research.google.com/notebooks/data_table.ipynb>data table notebook</a>'\n",
              "            + ' to learn more about interactive tables.';\n",
              "          element.innerHTML = '';\n",
              "          dataTable['output_type'] = 'display_data';\n",
              "          await google.colab.output.renderOutput(dataTable, element);\n",
              "          const docLink = document.createElement('div');\n",
              "          docLink.innerHTML = docLinkHtml;\n",
              "          element.appendChild(docLink);\n",
              "        }\n",
              "      </script>\n",
              "    </div>\n",
              "  </div>\n",
              "  "
            ]
          },
          "metadata": {},
          "execution_count": 13
        }
      ],
      "source": [
        "features.describe()"
      ]
    },
    {
      "cell_type": "code",
      "source": [
        "features.head(), target.head()"
      ],
      "metadata": {
        "id": "3Rm0SOch8edF",
        "outputId": "47d122d4-5525-4e25-ecf4-4aba480da1df",
        "colab": {
          "base_uri": "https://localhost:8080/"
        }
      },
      "id": "3Rm0SOch8edF",
      "execution_count": 15,
      "outputs": [
        {
          "output_type": "execute_result",
          "data": {
            "text/plain": [
              "(   pixel1  pixel2  pixel3  pixel4  pixel5  pixel6  pixel7  pixel8  pixel9  \\\n",
              " 0       0       0       0       0       0       0       0       0       0   \n",
              " 1       0       0       0       0       0       0       0       0       0   \n",
              " 2       0       0       0       0       0       0       0       0       0   \n",
              " 3       0       0       0       0       0       0       0       0       0   \n",
              " 4       0       0       0       0       0       0       0       0       0   \n",
              " \n",
              "    pixel10  ...  pixel775  pixel776  pixel777  pixel778  pixel779  pixel780  \\\n",
              " 0        0  ...         0         0         0         0         0         0   \n",
              " 1        0  ...         0         0         0         0         0         0   \n",
              " 2        0  ...         0         0         0         0         0         0   \n",
              " 3        0  ...         0         0         0         0         0         0   \n",
              " 4        0  ...         0         0         0         0         0         0   \n",
              " \n",
              "    pixel781  pixel782  pixel783  pixel784  \n",
              " 0         0         0         0         0  \n",
              " 1         0         0         0         0  \n",
              " 2         0         0         0         0  \n",
              " 3         0         0         0         0  \n",
              " 4         0         0         0         0  \n",
              " \n",
              " [5 rows x 784 columns], 0    5\n",
              " 1    0\n",
              " 2    4\n",
              " 3    1\n",
              " 4    9\n",
              " Name: label, dtype: uint8)"
            ]
          },
          "metadata": {},
          "execution_count": 15
        }
      ]
    },
    {
      "cell_type": "code",
      "execution_count": 14,
      "id": "f9a5d4e9-8c96-4da9-b9b7-33a0edbe018e",
      "metadata": {
        "colab": {
          "base_uri": "https://localhost:8080/",
          "height": 267
        },
        "id": "f9a5d4e9-8c96-4da9-b9b7-33a0edbe018e",
        "outputId": "140b741c-8822-41e3-f063-b814761c90ce"
      },
      "outputs": [
        {
          "output_type": "display_data",
          "data": {
            "text/plain": [
              "<Figure size 432x288 with 1 Axes>"
            ],
            "image/png": "[encoded data removed]"
          },
          "metadata": {
            "needs_background": "light"
          }
        }
      ],
      "source": [
        "_ = (target.value_counts()\n",
        "           .sort_index()\n",
        "           .plot(kind=\"bar\"))\n",
        "_ = plt.xticks(rotation=-45)"
      ]
    },
    {
      "cell_type": "markdown",
      "id": "a4f436f9-7cbb-4cc4-8cbc-ddea21ec9104",
      "metadata": {
        "id": "a4f436f9-7cbb-4cc4-8cbc-ddea21ec9104"
      },
      "source": [
        "### Visualize the data"
      ]
    },
    {
      "cell_type": "code",
      "execution_count": 17,
      "id": "b13b83e1-6264-4fc3-a3ff-cfc9f493be66",
      "metadata": {
        "colab": {
          "base_uri": "https://localhost:8080/",
          "height": 1000
        },
        "id": "b13b83e1-6264-4fc3-a3ff-cfc9f493be66",
        "outputId": "029c6f87-f6d6-4122-d6f9-93814036821e"
      },
      "outputs": [
        {
          "output_type": "display_data",
          "data": {
            "text/plain": [
              "<Figure size 1080x1080 with 100 Axes>"
            ],
            "image/png": "[encoded data removed]"
          },
          "metadata": {
            "needs_background": "light"
          }
        }
      ],
      "source": [
        "fig, axes = plt.subplots(10, 10, sharex=True, sharey=True, figsize=(15, 15))\n",
        "for i in range(10):\n",
        "    for j in range(10):\n",
        "        m, _ = features.shape\n",
        "        k = np.random.randint(m)\n",
        "        img = (features.loc[k, :]\n",
        "                       .to_numpy()\n",
        "                       .reshape((28, 28)))\n",
        "        _ = axes[i, j].imshow(img)\n",
        "        _ = axes[i, j].set_title(target.iloc[k])\n",
        "\n",
        "fig.suptitle(\"Random MNIST images\", x=0.5, y=1.05, fontsize=25)\n",
        "fig.tight_layout()"
      ]
    },
    {
      "cell_type": "markdown",
      "id": "1e76e54f-947c-4123-89c6-e59eedc3621b",
      "metadata": {
        "id": "1e76e54f-947c-4123-89c6-e59eedc3621b",
        "tags": []
      },
      "source": [
        "# Look at the Big Picture\n",
        "\n",
        "Our goal over these two hands-on workshops will be to build a machine learning modeling pipeline that is capable of classifying images. In part one of this course we will mostly focus on classical machine learning algorithms implemented in Scikit-Learn; in part two we will revist the same problem using deep learning algorithms implemented in PyTorch. By the time you have finished this course you should understand how to build a machine learning application capable of classifying images and be ready to apply what you have learned to a new dataset.\n",
        "\n",
        "This morning we will mostly focus on getting the data and exploring the data to gain new insights. Believe it or not these initial steps are what data scientists and machine learning engineers spend the majority of their time doing! This afternoon we will prepare our data for machine learning, see how to fit a variety of machine learning models to our dataset and shortlist a few candidate models for further analysis. We will then use hyper-parameter tuning to improve the performance of our shortlisted models to arrive at an overall best model. We will finish with a discussion of how to present the results of your model and talk about some of the aspects of deploying a trained model to make predictions.\n",
        "\n",
        "## Framing the problem\n",
        "\n",
        "### What is the business/research objective?\n",
        "\n",
        "Typically building the model is not the overall objective but rather the model itself is one part of a larger process used to answer a business/research question. Knowing the overall objective is important because it will determine your choice of machine learning algorithms to train, your measure(s) of model performance, and how much time you will spend tweaking the hyper-parameters of your model.\n",
        "\n",
        "In our example today, the overall business/research objective is to build a tool for reading electricity meter serial numbers which consist of sequences of sometimes handwritten digits. Part of this tool will be a model that can correctly classify individual handwritten digits. Our image classication model is just one of potentially many other models whose predictions are taken as inputs into another machine learning model that will be used to read off the electricity meter serial numbers. \n",
        "\n",
        "### What is the current solution?\n",
        "\n",
        "Always a good idea to know what the current solution to the problem you are trying to solve. Current solution gives a benchmark for performance. Note that the current \"best\" solution could be very simple or could be very sophisticated. Understanding the current solution helps you think of a good place to start. Example: suppose that the current solution for predicting the price of a house in a given census block is to ignore all the demographic information and predict a simple average of house prices in nearby census blocks. In this case it would probably not make sense to start building a complicated deep learning model to predict housing prices. However, if the current solution was a tuned gradient boosted machine then it probably would not make sense to try a much simpler linear regression model.\n",
        "\n",
        "With all this information, you are now ready to start designing your system. First, you need to frame the problem by answering the following questions.\n",
        "\n",
        "* Is our problem supervised, unsupervised, or reinforcement learning?\n",
        "* Is our problem a classification task, a regression task, or something else? If our problem is a classification task are we trying to classify samples into 2 categories (binary classification) or more than 2 (multi-class classification) categories? If our problem is a regression task, are we trying to predict a single value (univariate regression) or multiple values (multivariate regression) for each sample?\n",
        "* Should you use batch learning or online learning techniques?\n"
      ]
    },
    {
      "cell_type": "markdown",
      "id": "a52576a2-4c8e-4707-b021-2e424c4633ee",
      "metadata": {
        "id": "a52576a2-4c8e-4707-b021-2e424c4633ee"
      },
      "source": [
        "### Exercise: Selecting a metric\n",
        "\n",
        "Scikit-Learn has a number of different [possible metrics](https://scikit-learn.org/stable/modules/model_evaluation.html) that you can choose from (or you can create your own custom metric if required). Can you find a few metrics that seems appropriate for our image classification model?"
      ]
    },
    {
      "cell_type": "markdown",
      "id": "7a2212c9-f227-4b8f-ac41-6deb6f714976",
      "metadata": {
        "id": "7a2212c9-f227-4b8f-ac41-6deb6f714976"
      },
      "source": [
        "# Creating a Test Dataset\n",
        "\n",
        "Before we look at the data any further, we need to create a test set, put it aside, and never look at it (until we are ready to test our trainined machine learning model!). Why? We don't want our machine learning model to memorize our dataset (this is called overfitting). Instead we want a model that will generalize well (i.e., make good predictions) for inputs that it didn't see during training. To do this we hold split our dataset into training and testing datasets. The training dataset will be used to train our machine learning model(s) and the testing dataset will be used to make a final evaluation of our machine learning model(s).\n",
        "\n",
        "## If you might refresh data in the future...\n",
        "\n",
        "...then you want to use some particular hashing function to compute the hash of a unique identifier for each observation of data and include the observation in the test set if resulting hash value is less than some fixed percentage of the maximum possible hash value for your algorithm. This way even if you fetch more data, your test set will never include data that was previously included in the training data."
      ]
    },
    {
      "cell_type": "code",
      "execution_count": null,
      "id": "dba37993-2014-4267-9589-fe88d0b21090",
      "metadata": {
        "id": "dba37993-2014-4267-9589-fe88d0b21090"
      },
      "outputs": [],
      "source": [
        "import zlib\n",
        "\n",
        "\n",
        "def in_testing_data(identifier, test_size):\n",
        "    _hash = zlib.crc32(bytes(identifier))\n",
        "    return _hash & 0xffffffff < test_size * 2**32\n",
        "\n",
        "\n",
        "def split_train_test_by_id(data, test_size, id_column):\n",
        "    ids = data[id_column]\n",
        "    in_test_set = ids.apply(lambda identifier: in_testing_data(identifier, test_size))\n",
        "    return data.loc[~in_test_set], data.loc[in_test_set]\n"
      ]
    },
    {
      "cell_type": "markdown",
      "id": "b6c73954-f3a5-464b-b179-17f7fbe142fb",
      "metadata": {
        "id": "b6c73954-f3a5-464b-b179-17f7fbe142fb"
      },
      "source": [
        "## If this is all the data you will ever have...\n",
        "\n",
        "...then you can just set a seed for the random number generator and then randomly split the data. Scikit-Learn has a [`model_selection`](https://scikit-learn.org/stable/modules/generated/sklearn.model_selection.train_test_split.html) module that contains tools for splitting datasets into training and testing sets."
      ]
    },
    {
      "cell_type": "code",
      "execution_count": 27,
      "id": "f791e74d-cddd-4383-8a6c-5b80df4a5daf",
      "metadata": {
        "id": "f791e74d-cddd-4383-8a6c-5b80df4a5daf"
      },
      "outputs": [],
      "source": [
        "model_selection.train_test_split?"
      ]
    },
    {
      "cell_type": "code",
      "execution_count": 18,
      "id": "6b35bf11-0fa5-4879-bbda-e976244ec929",
      "metadata": {
        "id": "6b35bf11-0fa5-4879-bbda-e976244ec929"
      },
      "outputs": [],
      "source": [
        "SEED = 42\n",
        "SEED_GENERATOR = np.random.RandomState(SEED)\n",
        "\n",
        "\n",
        "def generate_seed():\n",
        "    return SEED_GENERATOR.randint(np.iinfo(\"uint16\").max)"
      ]
    },
    {
      "cell_type": "code",
      "execution_count": 22,
      "id": "beff5a36-07c7-404f-916b-260c789aff91",
      "metadata": {
        "id": "beff5a36-07c7-404f-916b-260c789aff91"
      },
      "outputs": [],
      "source": [
        "TEST_SIZE = 1e-1\n",
        "\n",
        "# split the dataset into training and testing data\n",
        "_seed = generate_seed()\n",
        "_random_state = np.random.RandomState(_seed)\n",
        "train_features, test_features, train_target, test_target = model_selection.train_test_split(\n",
        "    features,\n",
        "    target,\n",
        "    test_size=TEST_SIZE,\n",
        "    random_state=_random_state\n",
        ")"
      ]
    },
    {
      "cell_type": "code",
      "execution_count": 23,
      "id": "e9ed741c-996c-4df3-8680-49f14cc0dcf0",
      "metadata": {
        "colab": {
          "base_uri": "https://localhost:8080/"
        },
        "id": "e9ed741c-996c-4df3-8680-49f14cc0dcf0",
        "outputId": "0d79cdb5-c181-4fed-b47f-6175ca4d49c2"
      },
      "outputs": [
        {
          "output_type": "stream",
          "name": "stdout",
          "text": [
            "<class 'pandas.core.frame.DataFrame'>\n",
            "Int64Index: 63000 entries, 24297 to 27483\n",
            "Columns: 784 entries, pixel1 to pixel784\n",
            "dtypes: uint8(784)\n",
            "memory usage: 47.6 MB\n"
          ]
        }
      ],
      "source": [
        "train_features.info()"
      ]
    },
    {
      "cell_type": "code",
      "execution_count": 24,
      "id": "8115616b-7609-4510-8347-b02e497bed84",
      "metadata": {
        "colab": {
          "base_uri": "https://localhost:8080/",
          "height": 300
        },
        "id": "8115616b-7609-4510-8347-b02e497bed84",
        "outputId": "85626dfd-6025-4988-9f2e-5215853dabd4"
      },
      "outputs": [
        {
          "output_type": "execute_result",
          "data": {
            "text/plain": [
              "       pixel1  pixel2  pixel3  pixel4  pixel5  pixel6  pixel7  pixel8  pixel9  \\\n",
              "24297       0       0       0       0       0       0       0       0       0   \n",
              "36317       0       0       0       0       0       0       0       0       0   \n",
              "31132       0       0       0       0       0       0       0       0       0   \n",
              "42352       0       0       0       0       0       0       0       0       0   \n",
              "16446       0       0       0       0       0       0       0       0       0   \n",
              "\n",
              "       pixel10  ...  pixel775  pixel776  pixel777  pixel778  pixel779  \\\n",
              "24297        0  ...         0         0         0         0         0   \n",
              "36317        0  ...         0         0         0         0         0   \n",
              "31132        0  ...         0         0         0         0         0   \n",
              "42352        0  ...         0         0         0         0         0   \n",
              "16446        0  ...         0         0         0         0         0   \n",
              "\n",
              "       pixel780  pixel781  pixel782  pixel783  pixel784  \n",
              "24297         0         0         0         0         0  \n",
              "36317         0         0         0         0         0  \n",
              "31132         0         0         0         0         0  \n",
              "42352         0         0         0         0         0  \n",
              "16446         0         0         0         0         0  \n",
              "\n",
              "[5 rows x 784 columns]"
            ],
            "text/html": [
              "\n",
              "  <div id=\"df-f587060b-2fbf-47d9-b00b-c96373e87dc8\">\n",
              "    <div class=\"colab-df-container\">\n",
              "      <div>\n",
              "<style scoped>\n",
              "    .dataframe tbody tr th:only-of-type {\n",
              "        vertical-align: middle;\n",
              "    }\n",
              "\n",
              "    .dataframe tbody tr th {\n",
              "        vertical-align: top;\n",
              "    }\n",
              "\n",
              "    .dataframe thead th {\n",
              "        text-align: right;\n",
              "    }\n",
              "</style>\n",
              "<table border=\"1\" class=\"dataframe\">\n",
              "  <thead>\n",
              "    <tr style=\"text-align: right;\">\n",
              "      <th></th>\n",
              "      <th>pixel1</th>\n",
              "      <th>pixel2</th>\n",
              "      <th>pixel3</th>\n",
              "      <th>pixel4</th>\n",
              "      <th>pixel5</th>\n",
              "      <th>pixel6</th>\n",
              "      <th>pixel7</th>\n",
              "      <th>pixel8</th>\n",
              "      <th>pixel9</th>\n",
              "      <th>pixel10</th>\n",
              "      <th>...</th>\n",
              "      <th>pixel775</th>\n",
              "      <th>pixel776</th>\n",
              "      <th>pixel777</th>\n",
              "      <th>pixel778</th>\n",
              "      <th>pixel779</th>\n",
              "      <th>pixel780</th>\n",
              "      <th>pixel781</th>\n",
              "      <th>pixel782</th>\n",
              "      <th>pixel783</th>\n",
              "      <th>pixel784</th>\n",
              "    </tr>\n",
              "  </thead>\n",
              "  <tbody>\n",
              "    <tr>\n",
              "      <th>24297</th>\n",
              "      <td>0</td>\n",
              "      <td>0</td>\n",
              "      <td>0</td>\n",
              "      <td>0</td>\n",
              "      <td>0</td>\n",
              "      <td>0</td>\n",
              "      <td>0</td>\n",
              "      <td>0</td>\n",
              "      <td>0</td>\n",
              "      <td>0</td>\n",
              "      <td>...</td>\n",
              "      <td>0</td>\n",
              "      <td>0</td>\n",
              "      <td>0</td>\n",
              "      <td>0</td>\n",
              "      <td>0</td>\n",
              "      <td>0</td>\n",
              "      <td>0</td>\n",
              "      <td>0</td>\n",
              "      <td>0</td>\n",
              "      <td>0</td>\n",
              "    </tr>\n",
              "    <tr>\n",
              "      <th>36317</th>\n",
              "      <td>0</td>\n",
              "      <td>0</td>\n",
              "      <td>0</td>\n",
              "      <td>0</td>\n",
              "      <td>0</td>\n",
              "      <td>0</td>\n",
              "      <td>0</td>\n",
              "      <td>0</td>\n",
              "      <td>0</td>\n",
              "      <td>0</td>\n",
              "      <td>...</td>\n",
              "      <td>0</td>\n",
              "      <td>0</td>\n",
              "      <td>0</td>\n",
              "      <td>0</td>\n",
              "      <td>0</td>\n",
              "      <td>0</td>\n",
              "      <td>0</td>\n",
              "      <td>0</td>\n",
              "      <td>0</td>\n",
              "      <td>0</td>\n",
              "    </tr>\n",
              "    <tr>\n",
              "      <th>31132</th>\n",
              "      <td>0</td>\n",
              "      <td>0</td>\n",
              "      <td>0</td>\n",
              "      <td>0</td>\n",
              "      <td>0</td>\n",
              "      <td>0</td>\n",
              "      <td>0</td>\n",
              "      <td>0</td>\n",
              "      <td>0</td>\n",
              "      <td>0</td>\n",
              "      <td>...</td>\n",
              "      <td>0</td>\n",
              "      <td>0</td>\n",
              "      <td>0</td>\n",
              "      <td>0</td>\n",
              "      <td>0</td>\n",
              "      <td>0</td>\n",
              "      <td>0</td>\n",
              "      <td>0</td>\n",
              "      <td>0</td>\n",
              "      <td>0</td>\n",
              "    </tr>\n",
              "    <tr>\n",
              "      <th>42352</th>\n",
              "      <td>0</td>\n",
              "      <td>0</td>\n",
              "      <td>0</td>\n",
              "      <td>0</td>\n",
              "      <td>0</td>\n",
              "      <td>0</td>\n",
              "      <td>0</td>\n",
              "      <td>0</td>\n",
              "      <td>0</td>\n",
              "      <td>0</td>\n",
              "      <td>...</td>\n",
              "      <td>0</td>\n",
              "      <td>0</td>\n",
              "      <td>0</td>\n",
              "      <td>0</td>\n",
              "      <td>0</td>\n",
              "      <td>0</td>\n",
              "      <td>0</td>\n",
              "      <td>0</td>\n",
              "      <td>0</td>\n",
              "      <td>0</td>\n",
              "    </tr>\n",
              "    <tr>\n",
              "      <th>16446</th>\n",
              "      <td>0</td>\n",
              "      <td>0</td>\n",
              "      <td>0</td>\n",
              "      <td>0</td>\n",
              "      <td>0</td>\n",
              "      <td>0</td>\n",
              "      <td>0</td>\n",
              "      <td>0</td>\n",
              "      <td>0</td>\n",
              "      <td>0</td>\n",
              "      <td>...</td>\n",
              "      <td>0</td>\n",
              "      <td>0</td>\n",
              "      <td>0</td>\n",
              "      <td>0</td>\n",
              "      <td>0</td>\n",
              "      <td>0</td>\n",
              "      <td>0</td>\n",
              "      <td>0</td>\n",
              "      <td>0</td>\n",
              "      <td>0</td>\n",
              "    </tr>\n",
              "  </tbody>\n",
              "</table>\n",
              "<p>5 rows × 784 columns</p>\n",
              "</div>\n",
              "      <button class=\"colab-df-convert\" onclick=\"convertToInteractive('df-f587060b-2fbf-47d9-b00b-c96373e87dc8')\"\n",
              "              title=\"Convert this dataframe to an interactive table.\"\n",
              "              style=\"display:none;\">\n",
              "        \n",
              "  <svg xmlns=\"http://www.w3.org/2000/svg\" height=\"24px\"viewBox=\"0 0 24 24\"\n",
              "       width=\"24px\">\n",
              "    <path d=\"M0 0h24v24H0V0z\" fill=\"none\"/>\n",
              "    <path d=\"M18.56 5.44l.94 2.06.94-2.06 2.06-.94-2.06-.94-.94-2.06-.94 2.06-2.06.94zm-11 1L8.5 8.5l.94-2.06 2.06-.94-2.06-.94L8.5 2.5l-.94 2.06-2.06.94zm10 10l.94 2.06.94-2.06 2.06-.94-2.06-.94-.94-2.06-.94 2.06-2.06.94z\"/><path d=\"M17.41 7.96l-1.37-1.37c-.4-.4-.92-.59-1.43-.59-.52 0-1.04.2-1.43.59L10.3 9.45l-7.72 7.72c-.78.78-.78 2.05 0 2.83L4 21.41c.39.39.9.59 1.41.59.51 0 1.02-.2 1.41-.59l7.78-7.78 2.81-2.81c.8-.78.8-2.07 0-2.86zM5.41 20L4 18.59l7.72-7.72 1.47 1.35L5.41 20z\"/>\n",
              "  </svg>\n",
              "      </button>\n",
              "      \n",
              "  <style>\n",
              "    .colab-df-container {\n",
              "      display:flex;\n",
              "      flex-wrap:wrap;\n",
              "      gap: 12px;\n",
              "    }\n",
              "\n",
              "    .colab-df-convert {\n",
              "      background-color: #E8F0FE;\n",
              "      border: none;\n",
              "      border-radius: 50%;\n",
              "      cursor: pointer;\n",
              "      display: none;\n",
              "      fill: #1967D2;\n",
              "      height: 32px;\n",
              "      padding: 0 0 0 0;\n",
              "      width: 32px;\n",
              "    }\n",
              "\n",
              "    .colab-df-convert:hover {\n",
              "      background-color: #E2EBFA;\n",
              "      box-shadow: 0px 1px 2px rgba(60, 64, 67, 0.3), 0px 1px 3px 1px rgba(60, 64, 67, 0.15);\n",
              "      fill: #174EA6;\n",
              "    }\n",
              "\n",
              "    [theme=dark] .colab-df-convert {\n",
              "      background-color: #3B4455;\n",
              "      fill: #D2E3FC;\n",
              "    }\n",
              "\n",
              "    [theme=dark] .colab-df-convert:hover {\n",
              "      background-color: #434B5C;\n",
              "      box-shadow: 0px 1px 3px 1px rgba(0, 0, 0, 0.15);\n",
              "      filter: drop-shadow(0px 1px 2px rgba(0, 0, 0, 0.3));\n",
              "      fill: #FFFFFF;\n",
              "    }\n",
              "  </style>\n",
              "\n",
              "      <script>\n",
              "        const buttonEl =\n",
              "          document.querySelector('#df-f587060b-2fbf-47d9-b00b-c96373e87dc8 button.colab-df-convert');\n",
              "        buttonEl.style.display =\n",
              "          google.colab.kernel.accessAllowed ? 'block' : 'none';\n",
              "\n",
              "        async function convertToInteractive(key) {\n",
              "          const element = document.querySelector('#df-f587060b-2fbf-47d9-b00b-c96373e87dc8');\n",
              "          const dataTable =\n",
              "            await google.colab.kernel.invokeFunction('convertToInteractive',\n",
              "                                                     [key], {});\n",
              "          if (!dataTable) return;\n",
              "\n",
              "          const docLinkHtml = 'Like what you see? Visit the ' +\n",
              "            '<a target=\"_blank\" href=https://colab.research.google.com/notebooks/data_table.ipynb>data table notebook</a>'\n",
              "            + ' to learn more about interactive tables.';\n",
              "          element.innerHTML = '';\n",
              "          dataTable['output_type'] = 'display_data';\n",
              "          await google.colab.output.renderOutput(dataTable, element);\n",
              "          const docLink = document.createElement('div');\n",
              "          docLink.innerHTML = docLinkHtml;\n",
              "          element.appendChild(docLink);\n",
              "        }\n",
              "      </script>\n",
              "    </div>\n",
              "  </div>\n",
              "  "
            ]
          },
          "metadata": {},
          "execution_count": 24
        }
      ],
      "source": [
        "train_features.head()"
      ]
    },
    {
      "cell_type": "code",
      "execution_count": 25,
      "id": "3722a295-4c88-4d24-b5cc-b84282f3de57",
      "metadata": {
        "colab": {
          "base_uri": "https://localhost:8080/"
        },
        "id": "3722a295-4c88-4d24-b5cc-b84282f3de57",
        "outputId": "bf1b973a-a717-4e8b-9469-0f6a498d2f6c"
      },
      "outputs": [
        {
          "output_type": "execute_result",
          "data": {
            "text/plain": [
              "24297    8\n",
              "36317    1\n",
              "31132    9\n",
              "42352    7\n",
              "16446    5\n",
              "Name: label, dtype: uint8"
            ]
          },
          "metadata": {},
          "execution_count": 25
        }
      ],
      "source": [
        "train_target.head()"
      ]
    },
    {
      "cell_type": "code",
      "execution_count": 26,
      "id": "8a75323c-1b45-46b4-80bc-f26b003d50bb",
      "metadata": {
        "colab": {
          "base_uri": "https://localhost:8080/",
          "height": 394
        },
        "id": "8a75323c-1b45-46b4-80bc-f26b003d50bb",
        "outputId": "b2d9b217-61e3-4133-ad68-e67d5b9c3114"
      },
      "outputs": [
        {
          "output_type": "execute_result",
          "data": {
            "text/plain": [
              "        pixel1   pixel2   pixel3   pixel4   pixel5   pixel6   pixel7   pixel8  \\\n",
              "count  63000.0  63000.0  63000.0  63000.0  63000.0  63000.0  63000.0  63000.0   \n",
              "mean       0.0      0.0      0.0      0.0      0.0      0.0      0.0      0.0   \n",
              "std        0.0      0.0      0.0      0.0      0.0      0.0      0.0      0.0   \n",
              "min        0.0      0.0      0.0      0.0      0.0      0.0      0.0      0.0   \n",
              "25%        0.0      0.0      0.0      0.0      0.0      0.0      0.0      0.0   \n",
              "50%        0.0      0.0      0.0      0.0      0.0      0.0      0.0      0.0   \n",
              "75%        0.0      0.0      0.0      0.0      0.0      0.0      0.0      0.0   \n",
              "max        0.0      0.0      0.0      0.0      0.0      0.0      0.0      0.0   \n",
              "\n",
              "        pixel9  pixel10  ...      pixel775      pixel776      pixel777  \\\n",
              "count  63000.0  63000.0  ...  63000.000000  63000.000000  63000.000000   \n",
              "mean       0.0      0.0  ...      0.189841      0.090000      0.036111   \n",
              "std        0.0      0.0  ...      5.893693      3.965229      2.405637   \n",
              "min        0.0      0.0  ...      0.000000      0.000000      0.000000   \n",
              "25%        0.0      0.0  ...      0.000000      0.000000      0.000000   \n",
              "50%        0.0      0.0  ...      0.000000      0.000000      0.000000   \n",
              "75%        0.0      0.0  ...      0.000000      0.000000      0.000000   \n",
              "max        0.0      0.0  ...    254.000000    254.000000    253.000000   \n",
              "\n",
              "           pixel778      pixel779      pixel780  pixel781  pixel782  pixel783  \\\n",
              "count  63000.000000  63000.000000  63000.000000   63000.0   63000.0   63000.0   \n",
              "mean       0.008762      0.007841      0.000921       0.0       0.0       0.0   \n",
              "std        0.921972      1.213741      0.231078       0.0       0.0       0.0   \n",
              "min        0.000000      0.000000      0.000000       0.0       0.0       0.0   \n",
              "25%        0.000000      0.000000      0.000000       0.0       0.0       0.0   \n",
              "50%        0.000000      0.000000      0.000000       0.0       0.0       0.0   \n",
              "75%        0.000000      0.000000      0.000000       0.0       0.0       0.0   \n",
              "max      177.000000    254.000000     58.000000       0.0       0.0       0.0   \n",
              "\n",
              "       pixel784  \n",
              "count   63000.0  \n",
              "mean        0.0  \n",
              "std         0.0  \n",
              "min         0.0  \n",
              "25%         0.0  \n",
              "50%         0.0  \n",
              "75%         0.0  \n",
              "max         0.0  \n",
              "\n",
              "[8 rows x 784 columns]"
            ],
            "text/html": [
              "\n",
              "  <div id=\"df-85ac611f-fe41-4fd4-ac36-d8b039b2c5f8\">\n",
              "    <div class=\"colab-df-container\">\n",
              "      <div>\n",
              "<style scoped>\n",
              "    .dataframe tbody tr th:only-of-type {\n",
              "        vertical-align: middle;\n",
              "    }\n",
              "\n",
              "    .dataframe tbody tr th {\n",
              "        vertical-align: top;\n",
              "    }\n",
              "\n",
              "    .dataframe thead th {\n",
              "        text-align: right;\n",
              "    }\n",
              "</style>\n",
              "<table border=\"1\" class=\"dataframe\">\n",
              "  <thead>\n",
              "    <tr style=\"text-align: right;\">\n",
              "      <th></th>\n",
              "      <th>pixel1</th>\n",
              "      <th>pixel2</th>\n",
              "      <th>pixel3</th>\n",
              "      <th>pixel4</th>\n",
              "      <th>pixel5</th>\n",
              "      <th>pixel6</th>\n",
              "      <th>pixel7</th>\n",
              "      <th>pixel8</th>\n",
              "      <th>pixel9</th>\n",
              "      <th>pixel10</th>\n",
              "      <th>...</th>\n",
              "      <th>pixel775</th>\n",
              "      <th>pixel776</th>\n",
              "      <th>pixel777</th>\n",
              "      <th>pixel778</th>\n",
              "      <th>pixel779</th>\n",
              "      <th>pixel780</th>\n",
              "      <th>pixel781</th>\n",
              "      <th>pixel782</th>\n",
              "      <th>pixel783</th>\n",
              "      <th>pixel784</th>\n",
              "    </tr>\n",
              "  </thead>\n",
              "  <tbody>\n",
              "    <tr>\n",
              "      <th>count</th>\n",
              "      <td>63000.0</td>\n",
              "      <td>63000.0</td>\n",
              "      <td>63000.0</td>\n",
              "      <td>63000.0</td>\n",
              "      <td>63000.0</td>\n",
              "      <td>63000.0</td>\n",
              "      <td>63000.0</td>\n",
              "      <td>63000.0</td>\n",
              "      <td>63000.0</td>\n",
              "      <td>63000.0</td>\n",
              "      <td>...</td>\n",
              "      <td>63000.000000</td>\n",
              "      <td>63000.000000</td>\n",
              "      <td>63000.000000</td>\n",
              "      <td>63000.000000</td>\n",
              "      <td>63000.000000</td>\n",
              "      <td>63000.000000</td>\n",
              "      <td>63000.0</td>\n",
              "      <td>63000.0</td>\n",
              "      <td>63000.0</td>\n",
              "      <td>63000.0</td>\n",
              "    </tr>\n",
              "    <tr>\n",
              "      <th>mean</th>\n",
              "      <td>0.0</td>\n",
              "      <td>0.0</td>\n",
              "      <td>0.0</td>\n",
              "      <td>0.0</td>\n",
              "      <td>0.0</td>\n",
              "      <td>0.0</td>\n",
              "      <td>0.0</td>\n",
              "      <td>0.0</td>\n",
              "      <td>0.0</td>\n",
              "      <td>0.0</td>\n",
              "      <td>...</td>\n",
              "      <td>0.189841</td>\n",
              "      <td>0.090000</td>\n",
              "      <td>0.036111</td>\n",
              "      <td>0.008762</td>\n",
              "      <td>0.007841</td>\n",
              "      <td>0.000921</td>\n",
              "      <td>0.0</td>\n",
              "      <td>0.0</td>\n",
              "      <td>0.0</td>\n",
              "      <td>0.0</td>\n",
              "    </tr>\n",
              "    <tr>\n",
              "      <th>std</th>\n",
              "      <td>0.0</td>\n",
              "      <td>0.0</td>\n",
              "      <td>0.0</td>\n",
              "      <td>0.0</td>\n",
              "      <td>0.0</td>\n",
              "      <td>0.0</td>\n",
              "      <td>0.0</td>\n",
              "      <td>0.0</td>\n",
              "      <td>0.0</td>\n",
              "      <td>0.0</td>\n",
              "      <td>...</td>\n",
              "      <td>5.893693</td>\n",
              "      <td>3.965229</td>\n",
              "      <td>2.405637</td>\n",
              "      <td>0.921972</td>\n",
              "      <td>1.213741</td>\n",
              "      <td>0.231078</td>\n",
              "      <td>0.0</td>\n",
              "      <td>0.0</td>\n",
              "      <td>0.0</td>\n",
              "      <td>0.0</td>\n",
              "    </tr>\n",
              "    <tr>\n",
              "      <th>min</th>\n",
              "      <td>0.0</td>\n",
              "      <td>0.0</td>\n",
              "      <td>0.0</td>\n",
              "      <td>0.0</td>\n",
              "      <td>0.0</td>\n",
              "      <td>0.0</td>\n",
              "      <td>0.0</td>\n",
              "      <td>0.0</td>\n",
              "      <td>0.0</td>\n",
              "      <td>0.0</td>\n",
              "      <td>...</td>\n",
              "      <td>0.000000</td>\n",
              "      <td>0.000000</td>\n",
              "      <td>0.000000</td>\n",
              "      <td>0.000000</td>\n",
              "      <td>0.000000</td>\n",
              "      <td>0.000000</td>\n",
              "      <td>0.0</td>\n",
              "      <td>0.0</td>\n",
              "      <td>0.0</td>\n",
              "      <td>0.0</td>\n",
              "    </tr>\n",
              "    <tr>\n",
              "      <th>25%</th>\n",
              "      <td>0.0</td>\n",
              "      <td>0.0</td>\n",
              "      <td>0.0</td>\n",
              "      <td>0.0</td>\n",
              "      <td>0.0</td>\n",
              "      <td>0.0</td>\n",
              "      <td>0.0</td>\n",
              "      <td>0.0</td>\n",
              "      <td>0.0</td>\n",
              "      <td>0.0</td>\n",
              "      <td>...</td>\n",
              "      <td>0.000000</td>\n",
              "      <td>0.000000</td>\n",
              "      <td>0.000000</td>\n",
              "      <td>0.000000</td>\n",
              "      <td>0.000000</td>\n",
              "      <td>0.000000</td>\n",
              "      <td>0.0</td>\n",
              "      <td>0.0</td>\n",
              "      <td>0.0</td>\n",
              "      <td>0.0</td>\n",
              "    </tr>\n",
              "    <tr>\n",
              "      <th>50%</th>\n",
              "      <td>0.0</td>\n",
              "      <td>0.0</td>\n",
              "      <td>0.0</td>\n",
              "      <td>0.0</td>\n",
              "      <td>0.0</td>\n",
              "      <td>0.0</td>\n",
              "      <td>0.0</td>\n",
              "      <td>0.0</td>\n",
              "      <td>0.0</td>\n",
              "      <td>0.0</td>\n",
              "      <td>...</td>\n",
              "      <td>0.000000</td>\n",
              "      <td>0.000000</td>\n",
              "      <td>0.000000</td>\n",
              "      <td>0.000000</td>\n",
              "      <td>0.000000</td>\n",
              "      <td>0.000000</td>\n",
              "      <td>0.0</td>\n",
              "      <td>0.0</td>\n",
              "      <td>0.0</td>\n",
              "      <td>0.0</td>\n",
              "    </tr>\n",
              "    <tr>\n",
              "      <th>75%</th>\n",
              "      <td>0.0</td>\n",
              "      <td>0.0</td>\n",
              "      <td>0.0</td>\n",
              "      <td>0.0</td>\n",
              "      <td>0.0</td>\n",
              "      <td>0.0</td>\n",
              "      <td>0.0</td>\n",
              "      <td>0.0</td>\n",
              "      <td>0.0</td>\n",
              "      <td>0.0</td>\n",
              "      <td>...</td>\n",
              "      <td>0.000000</td>\n",
              "      <td>0.000000</td>\n",
              "      <td>0.000000</td>\n",
              "      <td>0.000000</td>\n",
              "      <td>0.000000</td>\n",
              "      <td>0.000000</td>\n",
              "      <td>0.0</td>\n",
              "      <td>0.0</td>\n",
              "      <td>0.0</td>\n",
              "      <td>0.0</td>\n",
              "    </tr>\n",
              "    <tr>\n",
              "      <th>max</th>\n",
              "      <td>0.0</td>\n",
              "      <td>0.0</td>\n",
              "      <td>0.0</td>\n",
              "      <td>0.0</td>\n",
              "      <td>0.0</td>\n",
              "      <td>0.0</td>\n",
              "      <td>0.0</td>\n",
              "      <td>0.0</td>\n",
              "      <td>0.0</td>\n",
              "      <td>0.0</td>\n",
              "      <td>...</td>\n",
              "      <td>254.000000</td>\n",
              "      <td>254.000000</td>\n",
              "      <td>253.000000</td>\n",
              "      <td>177.000000</td>\n",
              "      <td>254.000000</td>\n",
              "      <td>58.000000</td>\n",
              "      <td>0.0</td>\n",
              "      <td>0.0</td>\n",
              "      <td>0.0</td>\n",
              "      <td>0.0</td>\n",
              "    </tr>\n",
              "  </tbody>\n",
              "</table>\n",
              "<p>8 rows × 784 columns</p>\n",
              "</div>\n",
              "      <button class=\"colab-df-convert\" onclick=\"convertToInteractive('df-85ac611f-fe41-4fd4-ac36-d8b039b2c5f8')\"\n",
              "              title=\"Convert this dataframe to an interactive table.\"\n",
              "              style=\"display:none;\">\n",
              "        \n",
              "  <svg xmlns=\"http://www.w3.org/2000/svg\" height=\"24px\"viewBox=\"0 0 24 24\"\n",
              "       width=\"24px\">\n",
              "    <path d=\"M0 0h24v24H0V0z\" fill=\"none\"/>\n",
              "    <path d=\"M18.56 5.44l.94 2.06.94-2.06 2.06-.94-2.06-.94-.94-2.06-.94 2.06-2.06.94zm-11 1L8.5 8.5l.94-2.06 2.06-.94-2.06-.94L8.5 2.5l-.94 2.06-2.06.94zm10 10l.94 2.06.94-2.06 2.06-.94-2.06-.94-.94-2.06-.94 2.06-2.06.94z\"/><path d=\"M17.41 7.96l-1.37-1.37c-.4-.4-.92-.59-1.43-.59-.52 0-1.04.2-1.43.59L10.3 9.45l-7.72 7.72c-.78.78-.78 2.05 0 2.83L4 21.41c.39.39.9.59 1.41.59.51 0 1.02-.2 1.41-.59l7.78-7.78 2.81-2.81c.8-.78.8-2.07 0-2.86zM5.41 20L4 18.59l7.72-7.72 1.47 1.35L5.41 20z\"/>\n",
              "  </svg>\n",
              "      </button>\n",
              "      \n",
              "  <style>\n",
              "    .colab-df-container {\n",
              "      display:flex;\n",
              "      flex-wrap:wrap;\n",
              "      gap: 12px;\n",
              "    }\n",
              "\n",
              "    .colab-df-convert {\n",
              "      background-color: #E8F0FE;\n",
              "      border: none;\n",
              "      border-radius: 50%;\n",
              "      cursor: pointer;\n",
              "      display: none;\n",
              "      fill: #1967D2;\n",
              "      height: 32px;\n",
              "      padding: 0 0 0 0;\n",
              "      width: 32px;\n",
              "    }\n",
              "\n",
              "    .colab-df-convert:hover {\n",
              "      background-color: #E2EBFA;\n",
              "      box-shadow: 0px 1px 2px rgba(60, 64, 67, 0.3), 0px 1px 3px 1px rgba(60, 64, 67, 0.15);\n",
              "      fill: #174EA6;\n",
              "    }\n",
              "\n",
              "    [theme=dark] .colab-df-convert {\n",
              "      background-color: #3B4455;\n",
              "      fill: #D2E3FC;\n",
              "    }\n",
              "\n",
              "    [theme=dark] .colab-df-convert:hover {\n",
              "      background-color: #434B5C;\n",
              "      box-shadow: 0px 1px 3px 1px rgba(0, 0, 0, 0.15);\n",
              "      filter: drop-shadow(0px 1px 2px rgba(0, 0, 0, 0.3));\n",
              "      fill: #FFFFFF;\n",
              "    }\n",
              "  </style>\n",
              "\n",
              "      <script>\n",
              "        const buttonEl =\n",
              "          document.querySelector('#df-85ac611f-fe41-4fd4-ac36-d8b039b2c5f8 button.colab-df-convert');\n",
              "        buttonEl.style.display =\n",
              "          google.colab.kernel.accessAllowed ? 'block' : 'none';\n",
              "\n",
              "        async function convertToInteractive(key) {\n",
              "          const element = document.querySelector('#df-85ac611f-fe41-4fd4-ac36-d8b039b2c5f8');\n",
              "          const dataTable =\n",
              "            await google.colab.kernel.invokeFunction('convertToInteractive',\n",
              "                                                     [key], {});\n",
              "          if (!dataTable) return;\n",
              "\n",
              "          const docLinkHtml = 'Like what you see? Visit the ' +\n",
              "            '<a target=\"_blank\" href=https://colab.research.google.com/notebooks/data_table.ipynb>data table notebook</a>'\n",
              "            + ' to learn more about interactive tables.';\n",
              "          element.innerHTML = '';\n",
              "          dataTable['output_type'] = 'display_data';\n",
              "          await google.colab.output.renderOutput(dataTable, element);\n",
              "          const docLink = document.createElement('div');\n",
              "          docLink.innerHTML = docLinkHtml;\n",
              "          element.appendChild(docLink);\n",
              "        }\n",
              "      </script>\n",
              "    </div>\n",
              "  </div>\n",
              "  "
            ]
          },
          "metadata": {},
          "execution_count": 26
        }
      ],
      "source": [
        "train_features.describe()"
      ]
    },
    {
      "cell_type": "markdown",
      "id": "090af9ae-e36c-4c5d-ac2d-25e1ea1c34df",
      "metadata": {
        "id": "090af9ae-e36c-4c5d-ac2d-25e1ea1c34df"
      },
      "source": [
        "Again, if you want to you can write out the train and test sets to disk to avoid having to recreate them later."
      ]
    },
    {
      "cell_type": "code",
      "execution_count": 28,
      "id": "6ede1948-a85a-450f-8c0b-8c18b56ed4d3",
      "metadata": {
        "id": "6ede1948-a85a-450f-8c0b-8c18b56ed4d3"
      },
      "outputs": [],
      "source": [
        "_ = (train_features.join(train_target)\n",
        "                   .to_parquet(DATA_DIR / \"train.parquet\", index=False))\n",
        "\n",
        "_ = (test_features.join(test_target)\n",
        "                   .to_parquet(DATA_DIR / \"test.parquet\", index=False))"
      ]
    },
    {
      "cell_type": "markdown",
      "id": "4280e020-f990-434c-98b9-361321134432",
      "metadata": {
        "id": "4280e020-f990-434c-98b9-361321134432"
      },
      "source": [
        "# Prepare the data for machine learning algorithms\n",
        "\n",
        "Best practice is to write functions to automate the process of preparing your data for machine learning. Why?\n",
        "\n",
        "* Allows you to reproduce these transformations easily on any dataset.\n",
        "* You will gradually build a library of transformation functions that you can reuse in future projects.\n",
        "* You can use these functions in a live system to transform the new data before feeding it to your algorithms.\n",
        "* This will make it possible for you to easily experiment with various transformations and see which combination of transformations works best.\n",
        "\n",
        "We are working with an benchmark dataset that has already been prepared for analysis (mostly!). You should be aware that academic benchmark datasets are not very representative of the type of datasets that you will encounter in most practical applications. "
      ]
    },
    {
      "cell_type": "markdown",
      "id": "626fd519-ffb6-4ae9-be55-53d4a54e53c5",
      "metadata": {
        "id": "626fd519-ffb6-4ae9-be55-53d4a54e53c5"
      },
      "source": [
        "## Feature Scaling\n",
        "\n",
        "Machine learning algorithms typically don’t perform well when the input numerical attributes have very different scales. The simplest approach is to rescale features so that they all reside within the same range (typically between 0 and 1). This approach is implemented in Scikit-Learn by the [`preprocessing.MinMaxScaler`](https://scikit-learn.org/stable/modules/generated/sklearn.preprocessing.MinMaxScaler.html#sklearn.preprocessing.MinMaxScaler) class."
      ]
    },
    {
      "cell_type": "code",
      "execution_count": 30,
      "id": "506f4f98-aa73-46b0-82ce-ebf0d4a0ff81",
      "metadata": {
        "id": "506f4f98-aa73-46b0-82ce-ebf0d4a0ff81"
      },
      "outputs": [],
      "source": [
        "preprocessing.MinMaxScaler?"
      ]
    },
    {
      "cell_type": "code",
      "execution_count": 31,
      "id": "c00fe28e-a285-4e87-979e-462be36d0815",
      "metadata": {
        "id": "c00fe28e-a285-4e87-979e-462be36d0815"
      },
      "outputs": [],
      "source": [
        "# hyper-parameters\n",
        "_preprocessing_hyperparameters = {\n",
        "    \"feature_range\": (0, 1),\n",
        "    \"copy\": True,\n",
        "    \"clip\": False,\n",
        "}\n",
        "\n",
        "preprocessor = preprocessing.MinMaxScaler(**_preprocessing_hyperparameters)"
      ]
    },
    {
      "cell_type": "code",
      "execution_count": 32,
      "id": "33ca8616-d29f-4d47-888c-841f6b823b2e",
      "metadata": {
        "id": "33ca8616-d29f-4d47-888c-841f6b823b2e"
      },
      "outputs": [],
      "source": [
        "preprocessed_train_features = preprocessor.fit_transform(train_features)"
      ]
    },
    {
      "cell_type": "code",
      "execution_count": 33,
      "id": "e07170a9-6cb0-4474-8bab-15fec52acc0f",
      "metadata": {
        "colab": {
          "base_uri": "https://localhost:8080/"
        },
        "id": "e07170a9-6cb0-4474-8bab-15fec52acc0f",
        "outputId": "a453cdb8-aa2e-4ba3-ac79-6c220410153a"
      },
      "outputs": [
        {
          "output_type": "execute_result",
          "data": {
            "text/plain": [
              "(63000, 784)"
            ]
          },
          "metadata": {},
          "execution_count": 33
        }
      ],
      "source": [
        "preprocessed_train_features.shape"
      ]
    },
    {
      "cell_type": "code",
      "execution_count": 34,
      "id": "df6bf42d-6a72-4b7d-b768-412d5edcb010",
      "metadata": {
        "colab": {
          "base_uri": "https://localhost:8080/"
        },
        "id": "df6bf42d-6a72-4b7d-b768-412d5edcb010",
        "outputId": "0d1aec6a-58b4-4fc3-eb55-9fdb3eaf0183"
      },
      "outputs": [
        {
          "output_type": "execute_result",
          "data": {
            "text/plain": [
              "array([[0., 0., 0., 0., 0.],\n",
              "       [0., 0., 0., 0., 0.],\n",
              "       [0., 0., 0., 0., 0.],\n",
              "       ...,\n",
              "       [0., 0., 0., 0., 0.],\n",
              "       [0., 0., 0., 0., 0.],\n",
              "       [0., 0., 0., 0., 0.]])"
            ]
          },
          "metadata": {},
          "execution_count": 34
        }
      ],
      "source": [
        "preprocessed_train_features[:, :5]"
      ]
    },
    {
      "cell_type": "code",
      "execution_count": 35,
      "id": "52de2cc7-960c-43a3-b2de-0a7780b06879",
      "metadata": {
        "colab": {
          "base_uri": "https://localhost:8080/"
        },
        "id": "52de2cc7-960c-43a3-b2de-0a7780b06879",
        "outputId": "2bbce8eb-acd0-430c-95e6-cae53384d122"
      },
      "outputs": [
        {
          "output_type": "execute_result",
          "data": {
            "text/plain": [
              "array([0., 0., 0., 0., 0., 0., 0., 0., 0., 0., 0., 0., 0., 0., 0., 0., 0.,\n",
              "       0., 0., 0., 0., 0., 0., 0., 0., 0., 0., 0., 0., 0., 0., 0., 0., 0.,\n",
              "       0., 0., 0., 0., 0., 0., 0., 0., 0., 0., 0., 0., 0., 0., 0., 0., 0.,\n",
              "       0., 0., 0., 0., 0., 0., 0., 0., 0., 0., 0., 0., 0., 0., 0., 0., 0.,\n",
              "       0., 0., 0., 0., 0., 0., 0., 0., 0., 0., 0., 0., 0., 0., 0., 0., 0.,\n",
              "       0., 0., 0., 0., 0., 0., 0., 0., 0., 0., 0., 0., 0., 0., 0., 0., 0.,\n",
              "       0., 0., 0., 0., 0., 0., 0., 0., 0., 0., 0., 0., 0., 0., 0., 0., 0.,\n",
              "       0., 0., 0., 0., 0., 0., 0., 0., 0., 0., 0., 0., 0., 0., 0., 0., 0.,\n",
              "       0., 0., 0., 0., 0., 0., 0., 0., 0., 0., 0., 0., 0., 0., 0., 0., 0.,\n",
              "       0., 0., 0., 0., 0., 0., 0., 0., 0., 0., 0., 0., 0., 0., 0., 0., 0.,\n",
              "       0., 0., 0., 0., 0., 0., 0., 0., 0., 0., 0., 0., 0., 0., 0., 0., 0.,\n",
              "       0., 0., 0., 0., 0., 0., 0., 0., 0., 0., 0., 0., 0., 0., 0., 0., 0.,\n",
              "       0., 0., 0., 0., 0., 0., 0., 0., 0., 0., 0., 0., 0., 0., 0., 0., 0.,\n",
              "       0., 0., 0., 0., 0., 0., 0., 0., 0., 0., 0., 0., 0., 0., 0., 0., 0.,\n",
              "       0., 0., 0., 0., 0., 0., 0., 0., 0., 0., 0., 0., 0., 0., 0., 0., 0.,\n",
              "       0., 0., 0., 0., 0., 0., 0., 0., 0., 0., 0., 0., 0., 0., 0., 0., 0.,\n",
              "       0., 0., 0., 0., 0., 0., 0., 0., 0., 0., 0., 0., 0., 0., 0., 0., 0.,\n",
              "       0., 0., 0., 0., 0., 0., 0., 0., 0., 0., 0., 0., 0., 0., 0., 0., 0.,\n",
              "       0., 0., 0., 0., 0., 0., 0., 0., 0., 0., 0., 0., 0., 0., 0., 0., 0.,\n",
              "       0., 0., 0., 0., 0., 0., 0., 0., 0., 0., 0., 0., 0., 0., 0., 0., 0.,\n",
              "       0., 0., 0., 0., 0., 0., 0., 0., 0., 0., 0., 0., 0., 0., 0., 0., 0.,\n",
              "       0., 0., 0., 0., 0., 0., 0., 0., 0., 0., 0., 0., 0., 0., 0., 0., 0.,\n",
              "       0., 0., 0., 0., 0., 0., 0., 0., 0., 0., 0., 0., 0., 0., 0., 0., 0.,\n",
              "       0., 0., 0., 0., 0., 0., 0., 0., 0., 0., 0., 0., 0., 0., 0., 0., 0.,\n",
              "       0., 0., 0., 0., 0., 0., 0., 0., 0., 0., 0., 0., 0., 0., 0., 0., 0.,\n",
              "       0., 0., 0., 0., 0., 0., 0., 0., 0., 0., 0., 0., 0., 0., 0., 0., 0.,\n",
              "       0., 0., 0., 0., 0., 0., 0., 0., 0., 0., 0., 0., 0., 0., 0., 0., 0.,\n",
              "       0., 0., 0., 0., 0., 0., 0., 0., 0., 0., 0., 0., 0., 0., 0., 0., 0.,\n",
              "       0., 0., 0., 0., 0., 0., 0., 0., 0., 0., 0., 0., 0., 0., 0., 0., 0.,\n",
              "       0., 0., 0., 0., 0., 0., 0., 0., 0., 0., 0., 0., 0., 0., 0., 0., 0.,\n",
              "       0., 0., 0., 0., 0., 0., 0., 0., 0., 0., 0., 0., 0., 0., 0., 0., 0.,\n",
              "       0., 0., 0., 0., 0., 0., 0., 0., 0., 0., 0., 0., 0., 0., 0., 0., 0.,\n",
              "       0., 0., 0., 0., 0., 0., 0., 0., 0., 0., 0., 0., 0., 0., 0., 0., 0.,\n",
              "       0., 0., 0., 0., 0., 0., 0., 0., 0., 0., 0., 0., 0., 0., 0., 0., 0.,\n",
              "       0., 0., 0., 0., 0., 0., 0., 0., 0., 0., 0., 0., 0., 0., 0., 0., 0.,\n",
              "       0., 0., 0., 0., 0., 0., 0., 0., 0., 0., 0., 0., 0., 0., 0., 0., 0.,\n",
              "       0., 0., 0., 0., 0., 0., 0., 0., 0., 0., 0., 0., 0., 0., 0., 0., 0.,\n",
              "       0., 0., 0., 0., 0., 0., 0., 0., 0., 0., 0., 0., 0., 0., 0., 0., 0.,\n",
              "       0., 0., 0., 0., 0., 0., 0., 0., 0., 0., 0., 0., 0., 0., 0., 0., 0.,\n",
              "       0., 0., 0., 0., 0., 0., 0., 0., 0., 0., 0., 0., 0., 0., 0., 0., 0.,\n",
              "       0., 0., 0., 0., 0., 0., 0., 0., 0., 0., 0., 0., 0., 0., 0., 0., 0.,\n",
              "       0., 0., 0., 0., 0., 0., 0., 0., 0., 0., 0., 0., 0., 0., 0., 0., 0.,\n",
              "       0., 0., 0., 0., 0., 0., 0., 0., 0., 0., 0., 0., 0., 0., 0., 0., 0.,\n",
              "       0., 0., 0., 0., 0., 0., 0., 0., 0., 0., 0., 0., 0., 0., 0., 0., 0.,\n",
              "       0., 0., 0., 0., 0., 0., 0., 0., 0., 0., 0., 0., 0., 0., 0., 0., 0.,\n",
              "       0., 0., 0., 0., 0., 0., 0., 0., 0., 0., 0., 0., 0., 0., 0., 0., 0.,\n",
              "       0., 0.])"
            ]
          },
          "metadata": {},
          "execution_count": 35
        }
      ],
      "source": [
        "preprocessed_train_features.min(axis=0)"
      ]
    },
    {
      "cell_type": "code",
      "execution_count": 36,
      "id": "034122d4-e0e8-4db9-95b1-0c46b733209d",
      "metadata": {
        "colab": {
          "base_uri": "https://localhost:8080/"
        },
        "id": "034122d4-e0e8-4db9-95b1-0c46b733209d",
        "outputId": "7ca6c849-b633-4d77-c4e8-6ab2f6cf32f8"
      },
      "outputs": [
        {
          "output_type": "execute_result",
          "data": {
            "text/plain": [
              "array([0.00000000e+00, 0.00000000e+00, 0.00000000e+00, 0.00000000e+00,\n",
              "       0.00000000e+00, 0.00000000e+00, 0.00000000e+00, 0.00000000e+00,\n",
              "       0.00000000e+00, 0.00000000e+00, 0.00000000e+00, 0.00000000e+00,\n",
              "       1.72413793e-05, 2.93713286e-05, 1.58730159e-05, 1.58730159e-05,\n",
              "       0.00000000e+00, 0.00000000e+00, 0.00000000e+00, 0.00000000e+00,\n",
              "       0.00000000e+00, 0.00000000e+00, 0.00000000e+00, 0.00000000e+00,\n",
              "       0.00000000e+00, 0.00000000e+00, 0.00000000e+00, 0.00000000e+00,\n",
              "       0.00000000e+00, 0.00000000e+00, 0.00000000e+00, 0.00000000e+00,\n",
              "       1.58730159e-05, 3.14083080e-05, 5.33360237e-05, 1.00112486e-04,\n",
              "       1.46606674e-04, 2.22786875e-04, 4.67538126e-04, 6.46436352e-04,\n",
              "       7.61282291e-04, 7.99004046e-04, 8.63803299e-04, 7.15468410e-04,\n",
              "       6.65981948e-04, 5.45845005e-04, 3.47463430e-04, 2.35543106e-04,\n",
              "       1.92989418e-04, 7.73109244e-05, 5.21911663e-05, 1.70816211e-05,\n",
              "       0.00000000e+00, 0.00000000e+00, 0.00000000e+00, 0.00000000e+00,\n",
              "       0.00000000e+00, 0.00000000e+00, 1.58730159e-05, 2.29885057e-05,\n",
              "       4.67898602e-05, 5.82010582e-05, 2.20722410e-04, 5.34578276e-04,\n",
              "       1.02962963e-03, 2.02172425e-03, 3.52997199e-03, 5.50762527e-03,\n",
              "       8.00622471e-03, 1.05490819e-02, 1.30272020e-02, 1.43889823e-02,\n",
              "       1.44418301e-02, 1.28113290e-02, 1.04938064e-02, 7.73962029e-03,\n",
              "       4.62738873e-03, 2.37167756e-03, 1.10127607e-03, 3.58356676e-04,\n",
              "       1.19327731e-04, 4.98316498e-05, 0.00000000e+00, 0.00000000e+00,\n",
              "       0.00000000e+00, 0.00000000e+00, 2.06011483e-05, 5.51626591e-05,\n",
              "       9.91207034e-05, 2.77124183e-04, 8.76065982e-04, 2.20311236e-03,\n",
              "       4.63666355e-03, 8.86423903e-03, 1.47025833e-02, 2.20923125e-02,\n",
              "       3.03292873e-02, 3.92012449e-02, 4.69707439e-02, 5.18314970e-02,\n",
              "       5.07793962e-02, 4.50297541e-02, 3.62537193e-02, 2.60760660e-02,\n",
              "       1.60130719e-02, 8.67544351e-03, 4.09343293e-03, 1.58997821e-03,\n",
              "       6.00746965e-04, 1.25898793e-04, 3.22329341e-05, 0.00000000e+00,\n",
              "       0.00000000e+00, 1.58730159e-05, 2.98721340e-05, 1.22389307e-04,\n",
              "       3.47644044e-04, 1.47096172e-03, 4.08440710e-03, 9.51876751e-03,\n",
              "       1.87898537e-02, 3.33433551e-02, 5.31281668e-02, 7.80513539e-02,\n",
              "       1.07848677e-01, 1.39785372e-01, 1.65837348e-01, 1.78374914e-01,\n",
              "       1.74055213e-01, 1.52734516e-01, 1.20977653e-01, 8.83946467e-02,\n",
              "       5.74639900e-02, 3.36090881e-02, 1.76909430e-02, 8.34105198e-03,\n",
              "       3.26629318e-03, 8.31310302e-04, 1.68086205e-04, 3.07382212e-05,\n",
              "       0.00000000e+00, 1.58730159e-05, 9.79114453e-05, 2.13445378e-04,\n",
              "       1.58387800e-03, 5.74970433e-03, 1.41719888e-02, 2.82415811e-02,\n",
              "       5.08774977e-02, 8.37449113e-02, 1.25366262e-01, 1.75837846e-01,\n",
              "       2.33147837e-01, 2.91093744e-01, 3.35214068e-01, 3.56054777e-01,\n",
              "       3.48367009e-01, 3.13425459e-01, 2.56645814e-01, 1.93344787e-01,\n",
              "       1.33350202e-01, 8.32046685e-02, 4.82023654e-02, 2.57492063e-02,\n",
              "       1.16868970e-02, 3.24799253e-03, 5.97883598e-04, 4.09626216e-05,\n",
              "       0.00000000e+00, 2.49433107e-05, 1.22071051e-04, 8.68036103e-04,\n",
              "       4.56258948e-03, 1.31142857e-02, 2.89687519e-02, 5.55251790e-02,\n",
              "       9.48117647e-02, 1.47378027e-01, 2.10619234e-01, 2.81048491e-01,\n",
              "       3.52776284e-01, 4.18227140e-01, 4.66000062e-01, 4.87423218e-01,\n",
              "       4.76286959e-01, 4.37774479e-01, 3.74983629e-01, 2.92814753e-01,\n",
              "       2.10548771e-01, 1.37015686e-01, 8.15092437e-02, 4.43033302e-02,\n",
              "       2.12579521e-02, 7.20647370e-03, 1.48293963e-03, 1.27987954e-04,\n",
              "       1.58730159e-05, 1.06207928e-04, 4.23280423e-04, 2.40267663e-03,\n",
              "       9.29567383e-03, 2.34656707e-02, 4.84187986e-02, 8.77483349e-02,\n",
              "       1.43166075e-01, 2.13347152e-01, 2.92244756e-01, 3.72465173e-01,\n",
              "       4.40148522e-01, 4.91060566e-01, 5.20775475e-01, 5.30631310e-01,\n",
              "       5.21866418e-01, 4.96249549e-01, 4.44741737e-01, 3.66682042e-01,\n",
              "       2.72471460e-01, 1.82571491e-01, 1.09255089e-01, 5.91226268e-02,\n",
              "       2.76145036e-02, 1.02633053e-02, 2.07152194e-03, 1.30372043e-04,\n",
              "       2.02775700e-05, 1.91409897e-04, 1.28459384e-03, 4.98057890e-03,\n",
              "       1.46097728e-02, 3.31708683e-02, 6.53759726e-02, 1.15878431e-01,\n",
              "       1.85559975e-01, 2.70200373e-01, 3.58347650e-01, 4.28687208e-01,\n",
              "       4.69248739e-01, 4.83049300e-01, 4.82086586e-01, 4.79153875e-01,\n",
              "       4.80981575e-01, 4.80276377e-01, 4.57104700e-01, 3.94738189e-01,\n",
              "       3.02301401e-01, 2.05674136e-01, 1.23570433e-01, 6.37671335e-02,\n",
              "       2.83041394e-02, 1.05372549e-02, 2.15429321e-03, 1.43934497e-04,\n",
              "       3.89061422e-05, 3.46519185e-04, 1.97628385e-03, 6.54410209e-03,\n",
              "       1.72484905e-02, 3.81541861e-02, 7.60023031e-02, 1.35114721e-01,\n",
              "       2.16552817e-01, 3.11258014e-01, 3.92929599e-01, 4.35860691e-01,\n",
              "       4.33894989e-01, 4.07902646e-01, 3.87834111e-01, 3.89599627e-01,\n",
              "       4.09745721e-01, 4.36843013e-01, 4.37548584e-01, 3.89154684e-01,\n",
              "       3.01135512e-01, 2.05001930e-01, 1.22460131e-01, 6.01167134e-02,\n",
              "       2.34807345e-02, 7.54117647e-03, 1.51702459e-03, 1.25685426e-04,\n",
              "       4.79702205e-05, 4.03672580e-04, 1.97503890e-03, 6.34690321e-03,\n",
              "       1.64930594e-02, 3.81023965e-02, 7.99981326e-02, 1.46276688e-01,\n",
              "       2.37232306e-01, 3.32180454e-01, 3.96911422e-01, 4.05431373e-01,\n",
              "       3.66040710e-01, 3.23349704e-01, 3.11491379e-01, 3.31386119e-01,\n",
              "       3.68761780e-01, 4.12135387e-01, 4.19181264e-01, 3.69721942e-01,\n",
              "       2.80944102e-01, 1.88052039e-01, 1.11192468e-01, 5.29124805e-02,\n",
              "       1.81563025e-02, 4.44612512e-03, 9.21134858e-04, 1.11032919e-04,\n",
              "       4.16931217e-05, 2.60317460e-04, 1.54098973e-03, 4.82645503e-03,\n",
              "       1.37909742e-02, 3.68878929e-02, 8.29163399e-02, 1.57930968e-01,\n",
              "       2.55473950e-01, 3.46658388e-01, 3.90579458e-01, 3.71845440e-01,\n",
              "       3.18046250e-01, 2.86423156e-01, 2.98028011e-01, 3.35521506e-01,\n",
              "       3.82898475e-01, 4.24034672e-01, 4.15960286e-01, 3.49386990e-01,\n",
              "       2.54340118e-01, 1.66132400e-01, 9.92773109e-02, 4.95488329e-02,\n",
              "       1.61231871e-02, 2.45888578e-03, 5.42882239e-04, 6.57305657e-05,\n",
              "       2.22027461e-05, 1.46093993e-04, 9.22689076e-04, 3.30376595e-03,\n",
              "       1.16277622e-02, 3.75609711e-02, 9.01840025e-02, 1.73394647e-01,\n",
              "       2.74328665e-01, 3.57050669e-01, 3.85502210e-01, 3.56369748e-01,\n",
              "       3.11296857e-01, 3.10619483e-01, 3.50374292e-01, 3.99918332e-01,\n",
              "       4.44650731e-01, 4.63210395e-01, 4.23435854e-01, 3.31959726e-01,\n",
              "       2.29698537e-01, 1.49926797e-01, 9.31851229e-02, 5.00765017e-02,\n",
              "       1.72089636e-02, 1.85676937e-03, 3.02217183e-04, 6.37009190e-05,\n",
              "       1.58730159e-05, 7.61026413e-05, 4.98039216e-04, 2.31957672e-03,\n",
              "       1.10639900e-02, 4.19114846e-02, 1.01395269e-01, 1.88791970e-01,\n",
              "       2.87600622e-01, 3.61004171e-01, 3.80122440e-01, 3.56995518e-01,\n",
              "       3.39717958e-01, 3.80215935e-01, 4.38203486e-01, 4.87784251e-01,\n",
              "       5.10611827e-01, 4.98144476e-01, 4.28873078e-01, 3.19083411e-01,\n",
              "       2.16785745e-01, 1.45982695e-01, 9.43980703e-02, 5.36484283e-02,\n",
              "       2.01642079e-02, 2.32212885e-03, 3.27034518e-04, 4.18996208e-05,\n",
              "       0.00000000e+00, 4.17933131e-05, 2.24909386e-04, 1.73071895e-03,\n",
              "       1.17532524e-02, 4.86220977e-02, 1.12507003e-01, 1.99456334e-01,\n",
              "       2.91034858e-01, 3.55261998e-01, 3.72940243e-01, 3.65942546e-01,\n",
              "       3.83249051e-01, 4.53614130e-01, 5.12049549e-01, 5.48791659e-01,\n",
              "       5.39327482e-01, 5.03559539e-01, 4.21193340e-01, 3.12724308e-01,\n",
              "       2.20067538e-01, 1.52882228e-01, 1.00352505e-01, 5.78644258e-02,\n",
              "       2.26551509e-02, 3.23280423e-03, 3.62704662e-04, 4.05982906e-05,\n",
              "       1.58730159e-05, 1.62944234e-05, 1.93788276e-04, 1.86896981e-03,\n",
              "       1.37869904e-02, 5.64539683e-02, 1.21132151e-01, 2.01034236e-01,\n",
              "       2.81055338e-01, 3.36735574e-01, 3.58205913e-01, 3.69362092e-01,\n",
              "       4.12300591e-01, 4.84672518e-01, 5.33628136e-01, 5.48372362e-01,\n",
              "       5.19867476e-01, 4.77588173e-01, 3.98843822e-01, 3.07898724e-01,\n",
              "       2.28790352e-01, 1.62132711e-01, 1.06065857e-01, 5.89520075e-02,\n",
              "       2.29281046e-02, 4.20572674e-03, 5.65079365e-04, 5.20467836e-05,\n",
              "       1.58730159e-05, 4.12401721e-05, 3.39957505e-04, 2.34092748e-03,\n",
              "       1.71263617e-02, 6.42483038e-02, 1.26495300e-01, 1.95261625e-01,\n",
              "       2.60502272e-01, 3.05653097e-01, 3.28266604e-01, 3.50220915e-01,\n",
              "       3.96705384e-01, 4.55598444e-01, 4.97578276e-01, 5.02890943e-01,\n",
              "       4.78602054e-01, 4.38803175e-01, 3.75566075e-01, 3.04274572e-01,\n",
              "       2.34774479e-01, 1.65444133e-01, 1.05197386e-01, 5.59105509e-02,\n",
              "       2.17699346e-02, 4.89878618e-03, 6.84601925e-04, 6.01466297e-05,\n",
              "       0.00000000e+00, 3.95035207e-05, 4.91563555e-04, 3.73644569e-03,\n",
              "       2.27495798e-02, 7.16357298e-02, 1.29640959e-01, 1.87848615e-01,\n",
              "       2.37709804e-01, 2.72749953e-01, 2.93604669e-01, 3.16397199e-01,\n",
              "       3.51474136e-01, 4.00882104e-01, 4.42705073e-01, 4.55089574e-01,\n",
              "       4.43706131e-01, 4.14178587e-01, 3.65678556e-01, 3.04898599e-01,\n",
              "       2.33966573e-01, 1.60757734e-01, 9.81938998e-02, 5.00969188e-02,\n",
              "       1.96019919e-02, 5.21699346e-03, 7.39506870e-04, 8.61865407e-05,\n",
              "       3.01587302e-05, 3.48884054e-05, 7.71615313e-04, 5.99240585e-03,\n",
              "       2.90706505e-02, 7.86545907e-02, 1.35280050e-01, 1.88155680e-01,\n",
              "       2.29171491e-01, 2.59576097e-01, 2.81751074e-01, 3.00504326e-01,\n",
              "       3.26374790e-01, 3.73646250e-01, 4.19007158e-01, 4.42445005e-01,\n",
              "       4.40452972e-01, 4.16214877e-01, 3.70242390e-01, 3.03006349e-01,\n",
              "       2.23785870e-01, 1.48590352e-01, 8.83749144e-02, 4.39032680e-02,\n",
              "       1.72907563e-02, 4.92717087e-03, 5.67507003e-04, 6.89905592e-05,\n",
              "       1.58730159e-05, 6.13756614e-05, 1.11472144e-03, 7.93445378e-03,\n",
              "       3.33696234e-02, 8.37908497e-02, 1.42588547e-01, 1.98482104e-01,\n",
              "       2.44440461e-01, 2.79830065e-01, 3.05658263e-01, 3.24560349e-01,\n",
              "       3.52579272e-01, 3.97697790e-01, 4.42837037e-01, 4.64896296e-01,\n",
              "       4.58796016e-01, 4.25140056e-01, 3.65402241e-01, 2.84404233e-01,\n",
              "       2.00505633e-01, 1.28452537e-01, 7.33762838e-02, 3.54667289e-02,\n",
              "       1.39948335e-02, 4.16713352e-03, 5.83599975e-04, 5.33234127e-05,\n",
              "       0.00000000e+00, 8.16816817e-05, 1.29673203e-03, 8.67289138e-03,\n",
              "       3.26580766e-02, 8.00579521e-02, 1.43739060e-01, 2.09320759e-01,\n",
              "       2.69013632e-01, 3.17797074e-01, 3.54525303e-01, 3.83880486e-01,\n",
              "       4.18254902e-01, 4.60525615e-01, 4.92622969e-01, 4.95658263e-01,\n",
              "       4.67431186e-01, 4.10433862e-01, 3.31544040e-01, 2.41372300e-01,\n",
              "       1.60712107e-01, 9.72679116e-02, 5.30461251e-02, 2.51724868e-02,\n",
              "       1.04158730e-02, 2.80915033e-03, 4.25521320e-04, 3.14347961e-05,\n",
              "       0.00000000e+00, 6.45216645e-05, 1.12337379e-03, 7.20946156e-03,\n",
              "       2.56226580e-02, 6.54924370e-02, 1.27190725e-01, 2.00646063e-01,\n",
              "       2.74289698e-01, 3.40871460e-01, 3.95564706e-01, 4.40831808e-01,\n",
              "       4.80848926e-01, 5.12587364e-01, 5.20475817e-01, 4.93619483e-01,\n",
              "       4.34994647e-01, 3.53282291e-01, 2.62466978e-01, 1.78572425e-01,\n",
              "       1.11060815e-01, 6.27596016e-02, 3.24720199e-02, 1.55157174e-02,\n",
              "       6.44295051e-03, 1.62178649e-03, 2.35386747e-04, 1.58730159e-05,\n",
              "       0.00000000e+00, 2.04678363e-05, 6.86896981e-04, 4.30401494e-03,\n",
              "       1.52507314e-02, 4.20649237e-02, 9.04124494e-02, 1.57616184e-01,\n",
              "       2.36753190e-01, 3.16009586e-01, 3.87223592e-01, 4.43115904e-01,\n",
              "       4.80327980e-01, 4.93195331e-01, 4.77086710e-01, 4.24317709e-01,\n",
              "       3.46826517e-01, 2.59789916e-01, 1.78264799e-01, 1.11855960e-01,\n",
              "       6.51689387e-02, 3.48600685e-02, 1.76608154e-02, 8.20678494e-03,\n",
              "       3.11272954e-03, 7.36657918e-04, 7.99294533e-05, 1.58730159e-05,\n",
              "       0.00000000e+00, 1.58730159e-05, 2.74156975e-04, 1.58892001e-03,\n",
              "       6.56234049e-03, 1.93280423e-02, 4.62478058e-02, 9.25241830e-02,\n",
              "       1.56134952e-01, 2.29281481e-01, 3.01622035e-01, 3.60262434e-01,\n",
              "       3.91857392e-01, 3.91059633e-01, 3.59003673e-01, 2.99869655e-01,\n",
              "       2.27901401e-01, 1.58564146e-01, 1.00152505e-01, 5.90342982e-02,\n",
              "       3.29038904e-02, 1.67953315e-02, 8.22315593e-03, 3.55667600e-03,\n",
              "       1.11770931e-03, 2.33033371e-04, 8.08767952e-05, 0.00000000e+00,\n",
              "       0.00000000e+00, 0.00000000e+00, 5.90375808e-05, 4.59815547e-04,\n",
              "       1.98972923e-03, 6.03871771e-03, 1.57693122e-02, 3.48587613e-02,\n",
              "       6.51024588e-02, 1.05064426e-01, 1.48219048e-01, 1.83058886e-01,\n",
              "       2.01882228e-01, 2.00411765e-01, 1.80333396e-01, 1.46824214e-01,\n",
              "       1.09599502e-01, 7.58329910e-02, 4.76017429e-02, 2.81139745e-02,\n",
              "       1.54022409e-02, 7.56246499e-03, 3.55873016e-03, 1.46567071e-03,\n",
              "       3.77702787e-04, 8.38372386e-05, 1.87884678e-05, 0.00000000e+00,\n",
              "       0.00000000e+00, 0.00000000e+00, 3.55253212e-05, 6.41169854e-05,\n",
              "       5.06442577e-04, 1.84755680e-03, 5.36539060e-03, 1.21060068e-02,\n",
              "       2.37103019e-02, 3.83613445e-02, 5.41627762e-02, 6.56271397e-02,\n",
              "       7.14737006e-02, 7.10868347e-02, 6.38873327e-02, 5.28997199e-02,\n",
              "       4.18734516e-02, 3.06265173e-02, 2.00337379e-02, 1.18863368e-02,\n",
              "       6.41170246e-03, 3.11615313e-03, 1.37927171e-03, 5.29909742e-04,\n",
              "       1.26231257e-04, 2.67466567e-05, 1.58730159e-05, 0.00000000e+00,\n",
              "       0.00000000e+00, 0.00000000e+00, 0.00000000e+00, 1.58730159e-05,\n",
              "       1.25676937e-04, 6.10457516e-04, 2.05284781e-03, 4.50476190e-03,\n",
              "       8.93364457e-03, 1.36832244e-02, 1.87548086e-02, 2.32257703e-02,\n",
              "       2.52708995e-02, 2.48816060e-02, 2.25093682e-02, 1.78511049e-02,\n",
              "       1.39716153e-02, 1.01107999e-02, 6.42222222e-03, 3.79041394e-03,\n",
              "       2.07071273e-03, 9.52131964e-04, 2.98225957e-04, 8.26902566e-05,\n",
              "       3.28798186e-05, 1.58730159e-05, 0.00000000e+00, 0.00000000e+00,\n",
              "       0.00000000e+00, 0.00000000e+00, 0.00000000e+00, 0.00000000e+00,\n",
              "       2.56670044e-05, 4.77450239e-05, 1.49206349e-04, 3.45769279e-04,\n",
              "       5.00999875e-04, 7.41300965e-04, 1.25066916e-03, 1.57939620e-03,\n",
              "       1.94976657e-03, 2.22384065e-03, 2.54204793e-03, 2.22601930e-03,\n",
              "       1.87675070e-03, 1.31111111e-03, 7.47406574e-04, 3.54330709e-04,\n",
              "       1.42731664e-04, 4.95022868e-05, 3.08711411e-05, 1.58730159e-05,\n",
              "       0.00000000e+00, 0.00000000e+00, 0.00000000e+00, 0.00000000e+00])"
            ]
          },
          "metadata": {},
          "execution_count": 36
        }
      ],
      "source": [
        "preprocessed_train_features.mean(axis=0)"
      ]
    },
    {
      "cell_type": "code",
      "execution_count": 37,
      "id": "d2306826-abb1-4575-bd53-14f0742131a1",
      "metadata": {
        "colab": {
          "base_uri": "https://localhost:8080/"
        },
        "id": "d2306826-abb1-4575-bd53-14f0742131a1",
        "outputId": "45b3bf36-2dc9-486e-dcc1-aa793fe80666"
      },
      "outputs": [
        {
          "output_type": "execute_result",
          "data": {
            "text/plain": [
              "array([0., 0., 0., 0., 0., 0., 0., 0., 0., 0., 0., 0., 1., 1., 1., 1., 0.,\n",
              "       0., 0., 0., 0., 0., 0., 0., 0., 0., 0., 0., 0., 0., 0., 0., 1., 1.,\n",
              "       1., 1., 1., 1., 1., 1., 1., 1., 1., 1., 1., 1., 1., 1., 1., 1., 1.,\n",
              "       1., 0., 0., 0., 0., 0., 0., 1., 1., 1., 1., 1., 1., 1., 1., 1., 1.,\n",
              "       1., 1., 1., 1., 1., 1., 1., 1., 1., 1., 1., 1., 1., 1., 0., 0., 0.,\n",
              "       0., 1., 1., 1., 1., 1., 1., 1., 1., 1., 1., 1., 1., 1., 1., 1., 1.,\n",
              "       1., 1., 1., 1., 1., 1., 1., 1., 1., 0., 0., 1., 1., 1., 1., 1., 1.,\n",
              "       1., 1., 1., 1., 1., 1., 1., 1., 1., 1., 1., 1., 1., 1., 1., 1., 1.,\n",
              "       1., 1., 1., 1., 0., 1., 1., 1., 1., 1., 1., 1., 1., 1., 1., 1., 1.,\n",
              "       1., 1., 1., 1., 1., 1., 1., 1., 1., 1., 1., 1., 1., 1., 1., 0., 1.,\n",
              "       1., 1., 1., 1., 1., 1., 1., 1., 1., 1., 1., 1., 1., 1., 1., 1., 1.,\n",
              "       1., 1., 1., 1., 1., 1., 1., 1., 1., 1., 1., 1., 1., 1., 1., 1., 1.,\n",
              "       1., 1., 1., 1., 1., 1., 1., 1., 1., 1., 1., 1., 1., 1., 1., 1., 1.,\n",
              "       1., 1., 1., 1., 1., 1., 1., 1., 1., 1., 1., 1., 1., 1., 1., 1., 1.,\n",
              "       1., 1., 1., 1., 1., 1., 1., 1., 1., 1., 1., 1., 1., 1., 1., 1., 1.,\n",
              "       1., 1., 1., 1., 1., 1., 1., 1., 1., 1., 1., 1., 1., 1., 1., 1., 1.,\n",
              "       1., 1., 1., 1., 1., 1., 1., 1., 1., 1., 1., 1., 1., 1., 1., 1., 1.,\n",
              "       1., 1., 1., 1., 1., 1., 1., 1., 1., 1., 1., 1., 1., 1., 1., 1., 1.,\n",
              "       1., 1., 1., 1., 1., 1., 1., 1., 1., 1., 1., 1., 1., 1., 1., 1., 1.,\n",
              "       1., 1., 1., 1., 1., 1., 1., 1., 1., 1., 1., 1., 1., 1., 1., 1., 1.,\n",
              "       1., 1., 1., 1., 1., 1., 1., 1., 1., 1., 1., 1., 1., 1., 1., 1., 1.,\n",
              "       1., 1., 1., 1., 1., 1., 1., 1., 1., 1., 1., 1., 1., 1., 1., 1., 1.,\n",
              "       1., 1., 1., 1., 1., 1., 1., 1., 1., 1., 1., 1., 1., 1., 1., 1., 1.,\n",
              "       1., 0., 1., 1., 1., 1., 1., 1., 1., 1., 1., 1., 1., 1., 1., 1., 1.,\n",
              "       1., 1., 1., 1., 1., 1., 1., 1., 1., 1., 1., 1., 1., 1., 1., 1., 1.,\n",
              "       1., 1., 1., 1., 1., 1., 1., 1., 1., 1., 1., 1., 1., 1., 1., 1., 1.,\n",
              "       1., 1., 1., 1., 1., 1., 1., 1., 1., 1., 1., 1., 1., 1., 1., 1., 1.,\n",
              "       1., 1., 1., 1., 1., 1., 1., 1., 1., 1., 1., 1., 1., 1., 1., 1., 1.,\n",
              "       0., 1., 1., 1., 1., 1., 1., 1., 1., 1., 1., 1., 1., 1., 1., 1., 1.,\n",
              "       1., 1., 1., 1., 1., 1., 1., 1., 1., 1., 1., 1., 1., 1., 1., 1., 1.,\n",
              "       1., 1., 1., 1., 1., 1., 1., 1., 1., 1., 1., 1., 1., 1., 1., 1., 1.,\n",
              "       1., 1., 1., 1., 1., 1., 1., 1., 1., 1., 1., 1., 1., 1., 1., 1., 1.,\n",
              "       1., 1., 1., 1., 1., 1., 1., 1., 1., 1., 1., 1., 1., 1., 1., 1., 0.,\n",
              "       1., 1., 1., 1., 1., 1., 1., 1., 1., 1., 1., 1., 1., 1., 1., 1., 1.,\n",
              "       1., 1., 1., 1., 1., 1., 1., 1., 1., 1., 0., 1., 1., 1., 1., 1., 1.,\n",
              "       1., 1., 1., 1., 1., 1., 1., 1., 1., 1., 1., 1., 1., 1., 1., 1., 1.,\n",
              "       1., 1., 1., 1., 0., 1., 1., 1., 1., 1., 1., 1., 1., 1., 1., 1., 1.,\n",
              "       1., 1., 1., 1., 1., 1., 1., 1., 1., 1., 1., 1., 1., 1., 1., 0., 1.,\n",
              "       1., 1., 1., 1., 1., 1., 1., 1., 1., 1., 1., 1., 1., 1., 1., 1., 1.,\n",
              "       1., 1., 1., 1., 1., 1., 1., 1., 0., 0., 0., 1., 1., 1., 1., 1., 1.,\n",
              "       1., 1., 1., 1., 1., 1., 1., 1., 1., 1., 1., 1., 1., 1., 1., 1., 1.,\n",
              "       1., 1., 0., 0., 0., 1., 1., 1., 1., 1., 1., 1., 1., 1., 1., 1., 1.,\n",
              "       1., 1., 1., 1., 1., 1., 1., 1., 1., 1., 1., 1., 1., 0., 0., 0., 0.,\n",
              "       1., 1., 1., 1., 1., 1., 1., 1., 1., 1., 1., 1., 1., 1., 1., 1., 1.,\n",
              "       1., 1., 1., 1., 1., 1., 0., 0., 0., 0., 0., 0., 1., 1., 1., 1., 1.,\n",
              "       1., 1., 1., 1., 1., 1., 1., 1., 1., 1., 1., 1., 1., 1., 1., 0., 0.,\n",
              "       0., 0.])"
            ]
          },
          "metadata": {},
          "execution_count": 37
        }
      ],
      "source": [
        "preprocessed_train_features.max(axis=0)"
      ]
    },
    {
      "cell_type": "markdown",
      "id": "4bdd7f6c-0c01-46aa-b2c3-8dce85005f76",
      "metadata": {
        "id": "4bdd7f6c-0c01-46aa-b2c3-8dce85005f76"
      },
      "source": [
        "The `preprocessing.MinMaxScaler` and the `preprocessing.StandardScaler` classes are the first Scikit-Learn `Transformer` classes that we have encountered. As such now is a good to to discuss the Scikit-Learn application programming interface (API). The [Scikit-Learn API](https://scikit-learn.org/stable/modules/classes.html) is one of the best designed API's around and has heavily influenced API design choices of other libraries in the Python Data Science and Machine Learning ecosystem, in particular [Dask](https://dask.org/) and [NVIDIA RAPIDS](https://rapids.ai/). Familiarly with the Scikit-Learn API will make it easier for you to get started with these libraries.\n",
        "\n",
        "The Scikit-Learn API is built around the following key concepts.\n",
        "\n",
        "* Estimators: Any object that can estimate some parameters based on a dataset is called an estimator (e.g., an `preprocessing.MinMaxScaler` is an estimator). The estimation itself is performed by the `fit` method, and it takes only a dataset as a parameter (or two for supervised learning algorithms; the second dataset contains the labels). Any other parameter needed to guide the estimation process is considered a hyperparameter (such as the `feature_range` parameter in `preprocessing.MinMaxScaler`), and it must be set as an instance variable (generally via a constructor parameter).\n",
        "\n",
        "* Transformers: Some estimators (such as an `preprocessing.MinMaxScaler`) can also transform a dataset; these are called transformers. Once again, the API is simple: the transformation is performed by the transform method with the dataset to transform as a parameter. It returns the transformed dataset. This transformation generally relies on the learned parameters. All transformers also have a convenience method called `fit_transform` that is equivalent to calling `fit` and then `transform` (but sometimes `fit_transform` is optimized and runs much faster).\n",
        "\n",
        "* Predictors: Finally, some estimators, given a dataset, are capable of making predictions; they are called predictors. A predictor has a `predict` method that takes a dataset of new instances and returns a dataset of corresponding predictions. It also has a score method that measures the quality of the predictions, given a test set (and the corresponding labels, in the case of supervised learning algorithms).\n",
        "\n",
        "All of an estimator’s hyperparameters are accessible directly via public instance variables (e.g., `preprocessor.feature_range`), and all the estimator’s learned parameters are accessible via public instance variables with an underscore suffix (e.g., `preprocessor.scale_`). Finally, Scikit-Learn provides reasonable default values for most parameters which makes it easy to quickly create a baseline working system."
      ]
    },
    {
      "cell_type": "markdown",
      "id": "6afd0ab6-3d65-466c-b2d6-8926601d4f3d",
      "metadata": {
        "id": "6afd0ab6-3d65-466c-b2d6-8926601d4f3d"
      },
      "source": [
        "### Exercise: MinMaxScaler vs StandardScaler\n",
        "\n",
        "An alternative approach is to rescale features so that they all have zero mean and unit standard deviation. This approach, which is also called standardization, is particularly useful when attributes/features have outliers and when downstream machine learning algorithms assume that attributes/features have a Gaussian or Normal distribution. \n",
        "\n",
        "Create an instance of the [`preprocessing.StandardScaler`](https://scikit-learn.org/stable/modules/generated/sklearn.preprocessing.StandardScaler.html) class and use it to rescale the training dataset. Compare the two different rescaled versions of the dataset. Which of the two methods do you prefer?"
      ]
    },
    {
      "cell_type": "code",
      "execution_count": 38,
      "id": "a58ce5ba-4568-4f39-a620-93b7fe402396",
      "metadata": {
        "id": "a58ce5ba-4568-4f39-a620-93b7fe402396"
      },
      "outputs": [],
      "source": [
        "_hyperparameters = {\n",
        "    \"copy\": True,\n",
        "    \"with_mean\": True,\n",
        "    \"with_std\": True\n",
        "}\n",
        "preprocessor = preprocessing.StandardScaler(**_hyperparameters)"
      ]
    },
    {
      "cell_type": "code",
      "execution_count": 39,
      "id": "xZdeA_2vmS0z",
      "metadata": {
        "id": "xZdeA_2vmS0z"
      },
      "outputs": [],
      "source": [
        "preprocessed_train_features = preprocessor.fit_transform(train_features)"
      ]
    },
    {
      "cell_type": "code",
      "execution_count": 40,
      "id": "_TjJqHgtmS36",
      "metadata": {
        "colab": {
          "base_uri": "https://localhost:8080/"
        },
        "id": "_TjJqHgtmS36",
        "outputId": "4f54a7fe-a9f9-44fa-c0c0-6c4253d4d4e9"
      },
      "outputs": [
        {
          "output_type": "execute_result",
          "data": {
            "text/plain": [
              "array([ 0.00000000e+00,  0.00000000e+00,  0.00000000e+00,  0.00000000e+00,\n",
              "        0.00000000e+00,  0.00000000e+00,  0.00000000e+00,  0.00000000e+00,\n",
              "        0.00000000e+00,  0.00000000e+00,  0.00000000e+00,  0.00000000e+00,\n",
              "        6.20315087e-19, -1.35341473e-18,  1.80455298e-18,  1.35341473e-18,\n",
              "        0.00000000e+00,  0.00000000e+00,  0.00000000e+00,  0.00000000e+00,\n",
              "        0.00000000e+00,  0.00000000e+00,  0.00000000e+00,  0.00000000e+00,\n",
              "        0.00000000e+00,  0.00000000e+00,  0.00000000e+00,  0.00000000e+00,\n",
              "        0.00000000e+00,  0.00000000e+00,  0.00000000e+00,  0.00000000e+00,\n",
              "        6.76707367e-19,  1.24063017e-18, -9.02276490e-19,  2.48126035e-18,\n",
              "        2.45306421e-18,  8.45884209e-18,  1.51131312e-17, -3.15796771e-18,\n",
              "        6.42871999e-18, -1.26318709e-17, -1.08273179e-17, -9.02276490e-19,\n",
              "        7.89491929e-18,  5.18808982e-18, -1.38725010e-17,  6.76707367e-18,\n",
              "       -9.02276490e-18,  9.02276490e-19, -4.51138245e-19, -5.78020876e-19,\n",
              "        0.00000000e+00,  0.00000000e+00,  0.00000000e+00,  0.00000000e+00,\n",
              "        0.00000000e+00,  0.00000000e+00,  1.12784561e-19, -1.01506105e-18,\n",
              "        2.48126035e-18, -2.31208351e-18, -1.91733754e-18,  7.66935016e-18,\n",
              "        2.42486807e-17,  1.35341473e-17,  9.02276490e-19,  1.57898386e-18,\n",
              "        5.04146989e-17,  3.83467508e-18, -3.37225838e-17,  1.01506105e-18,\n",
              "       -1.80455298e-17, -9.02276490e-19,  1.00942182e-17,  2.84217094e-17,\n",
              "        1.06017488e-17,  4.26325641e-17, -1.46619930e-17, -1.12784561e-19,\n",
              "       -9.92504139e-18,  2.25569122e-19,  0.00000000e+00,  0.00000000e+00,\n",
              "        0.00000000e+00,  0.00000000e+00, -1.35341473e-18,  3.94745964e-18,\n",
              "       -7.89491929e-19, -1.12784561e-17,  5.97758175e-18, -1.57898386e-17,\n",
              "       -6.76707367e-19,  9.55849156e-18, -3.59782750e-17,  3.59782750e-17,\n",
              "       -3.76700435e-17,  2.65043719e-17, -5.27267824e-17, -1.83838835e-17,\n",
              "        2.34591887e-17, -3.33842301e-17, -1.46619930e-18, -6.76707367e-19,\n",
              "       -1.15040252e-17, -3.49632140e-17, -1.75943916e-17,  1.69176842e-17,\n",
              "       -6.76707367e-18, -6.20315087e-18, -1.01506105e-18,  0.00000000e+00,\n",
              "        0.00000000e+00, -3.38353684e-19,  1.57898386e-18, -6.54150455e-18,\n",
              "       -1.35341473e-18, -4.96252069e-18, -3.00006933e-17, -1.37597165e-17,\n",
              "       -3.63166287e-17, -1.28574400e-17, -7.69190708e-17,  5.07530526e-18,\n",
              "        2.70682947e-17,  0.00000000e+00,  4.55649627e-17, -7.80469164e-17,\n",
              "        8.34605753e-18, -2.19929894e-17, -5.86479718e-18, -3.18052463e-17,\n",
              "        5.81968336e-17,  5.21064673e-17, -5.07530526e-17, -1.24063017e-17,\n",
              "       -7.16181964e-18, -1.57898386e-18,  3.38353684e-18, -2.25569122e-19,\n",
              "        0.00000000e+00,  1.46619930e-18,  2.25569122e-18,  4.79334385e-18,\n",
              "       -2.48126035e-17, -6.20315087e-18, -8.68441121e-18, -2.41358961e-17,\n",
              "       -2.14572628e-17,  4.22378182e-17, -5.45877276e-17,  4.30837024e-17,\n",
              "        2.21057740e-17,  8.46448132e-17,  1.70868610e-17, -1.12277031e-16,\n",
              "        3.14668926e-17,  3.89670659e-17, -4.98507761e-17,  1.97936905e-17,\n",
              "       -3.89670659e-17,  1.31957937e-17, -8.59418357e-17,  6.22570778e-17,\n",
              "       -1.85530603e-17,  1.53387003e-17,  2.00756519e-17, -2.25569122e-19,\n",
              "        0.00000000e+00,  1.12784561e-19, -3.83467508e-18,  1.36469319e-17,\n",
              "        1.06017488e-17, -2.23313431e-17,  3.13259119e-17,  2.84499056e-17,\n",
              "        3.31586610e-17,  2.90420245e-17,  1.75943916e-17, -3.47376449e-17,\n",
              "        2.16546358e-17, -2.47562112e-17,  1.64665459e-17,  1.30830091e-17,\n",
              "        3.33842301e-17, -4.28581333e-18, -8.00770385e-18,  1.59026231e-17,\n",
              "       -9.73330763e-17, -1.60154077e-17,  3.04518315e-18, -6.87985824e-17,\n",
              "        2.93239859e-18, -2.25569122e-19, -9.02276490e-19,  6.76707367e-19,\n",
              "        2.48126035e-18, -6.76707367e-18, -3.49632140e-18, -5.24448210e-18,\n",
              "        1.69176842e-18, -1.62409768e-17,  3.94182042e-17, -1.13912407e-17,\n",
              "        2.57148800e-17,  9.47390314e-18,  7.30843957e-17, -4.19558568e-17,\n",
              "       -4.69183775e-17,  6.48511227e-17, -1.17070375e-16,  1.86094526e-17,\n",
              "       -9.00020799e-17,  3.63166287e-17, -2.36847579e-17,  1.52259158e-18,\n",
              "       -3.60910596e-18,  7.75957781e-17, -1.73124301e-17,  7.94003311e-17,\n",
              "       -2.48689958e-17,  3.15232849e-17,  8.34605753e-18, -3.15796771e-18,\n",
              "       -1.52259158e-18,  8.90998034e-18, -1.80455298e-18, -4.38731943e-17,\n",
              "       -4.56777473e-17, -4.73695157e-18, -6.80090904e-17,  5.10914062e-17,\n",
              "        3.11285389e-17, -1.35341473e-18,  2.23313431e-17, -4.81308115e-17,\n",
              "       -2.71810793e-17,  1.00603829e-16,  1.01731674e-16, -4.00385192e-17,\n",
              "        3.83467508e-17, -8.79719578e-18, -7.43250259e-17,  6.21442932e-17,\n",
              "        5.96630329e-17, -5.18808982e-18, -2.25569122e-17, -3.56399213e-17,\n",
              "        4.28581333e-18,  4.60161010e-17,  3.15796771e-18, -4.84973613e-18,\n",
              "        9.02276490e-19, -8.85358806e-18,  2.34591887e-17, -3.12413235e-17,\n",
              "        3.64294133e-17,  3.03390470e-17, -1.09401024e-17,  4.86242440e-17,\n",
              "        8.14868455e-18,  7.73138167e-17, -3.41737221e-17, -1.06017488e-16,\n",
              "        1.57898386e-18, -4.28581333e-18, -3.47376449e-17,  3.49632140e-17,\n",
              "       -8.45884209e-18, -3.15796771e-17, -1.73688224e-17, -7.55656560e-17,\n",
              "        1.98500828e-17, -3.22563845e-17, -3.87978891e-17,  5.14297599e-17,\n",
              "        1.35341473e-17,  1.63537614e-17,  8.34605753e-18, -1.12784561e-18,\n",
              "        1.80455298e-18, -9.58668770e-19,  1.64665459e-17,  4.24069950e-17,\n",
              "       -2.48689958e-17,  4.12227571e-17,  2.35719733e-17,  6.91369360e-17,\n",
              "       -3.49632140e-18,  5.69562034e-18,  4.64672392e-17,  2.03012210e-17,\n",
              "        3.42865066e-17, -6.94752897e-17,  3.47376449e-17, -1.14701899e-16,\n",
              "        7.75957781e-17, -2.25569122e-18,  1.82147066e-17, -2.13162821e-17,\n",
              "       -1.78199607e-17, -6.58661838e-17,  2.45870343e-17,  8.68441121e-18,\n",
              "        4.97379915e-17,  1.79327452e-17, -5.07530526e-18,  2.48126035e-18,\n",
              "        5.63922806e-19,  6.54150455e-18,  2.34591887e-17,  2.54893108e-17,\n",
              "       -1.30830091e-17,  2.79705712e-17, -1.40980702e-17,  7.06031353e-17,\n",
              "        1.00378259e-17,  8.14304532e-17, -7.46633795e-17,  5.59411424e-17,\n",
              "        0.00000000e+00,  4.01513038e-17, -8.09793150e-17, -5.86479718e-17,\n",
              "        3.40609375e-17, -5.42493740e-17,  4.44371171e-17,  1.31957937e-17,\n",
              "       -1.53387003e-17,  6.76707367e-19, -5.77456954e-17, -3.87978891e-17,\n",
              "       -2.78577866e-17,  1.11656716e-17, -7.04903508e-18, -3.38353684e-19,\n",
              "       -2.25569122e-19,  1.35341473e-18,  9.92504139e-18,  6.31593543e-18,\n",
              "       -4.28581333e-17,  4.44371171e-17,  8.75208195e-17,  2.53765263e-17,\n",
              "        1.57898386e-17,  7.94003311e-17,  4.95688147e-17, -4.10535803e-17,\n",
              "        3.74444743e-17, -1.40980702e-17,  7.42122413e-17,  2.93239859e-18,\n",
              "        5.63922806e-17,  1.17972651e-16, -3.86287122e-17, -7.17309809e-17,\n",
              "        4.06024420e-18, -3.97001656e-17,  4.87229305e-17,  1.36469319e-17,\n",
              "        2.79705712e-17,  1.24063017e-17, -4.51138245e-18,  2.14290666e-18,\n",
              "        1.46619930e-18,  4.51138245e-18, -1.35341473e-17, -6.87985824e-18,\n",
              "        2.50381726e-17,  5.44749431e-17,  2.26696968e-17,  1.21807326e-17,\n",
              "        5.05274834e-17,  3.15796771e-17, -9.92504139e-18, -2.03012210e-17,\n",
              "        1.84402758e-17,  6.67684602e-17, -8.61110125e-17,  2.86472786e-17,\n",
              "       -1.89478063e-17,  2.14290666e-18,  3.07901852e-17, -3.24819536e-17,\n",
              "        3.54143522e-17,  5.41365894e-18,  2.01884365e-17,  2.37975424e-17,\n",
              "       -3.92490273e-17, -1.64665459e-17,  1.35905396e-17,  3.15796771e-18,\n",
              "        0.00000000e+00, -2.93239859e-18, -1.57898386e-18, -6.09036631e-18,\n",
              "        6.76707367e-19,  4.87229305e-17, -2.78013943e-17,  2.68427256e-17,\n",
              "       -6.65428911e-17, -8.50395592e-17, -4.51138245e-17, -3.12413235e-17,\n",
              "        3.21436000e-17, -7.25204729e-17, -5.39110203e-17, -7.60167943e-17,\n",
              "       -5.41365894e-18,  1.18649358e-16,  4.39859789e-17, -5.39110203e-17,\n",
              "        1.75943916e-17, -1.71432533e-17, -1.87504333e-17,  2.39103270e-17,\n",
              "       -2.70119024e-17, -6.31593543e-18, -1.01506105e-17, -1.35341473e-18,\n",
              "        1.35341473e-18,  3.77828280e-18, -1.07709256e-17, -4.28581333e-18,\n",
              "       -1.44364238e-17,  3.41737221e-17, -5.76329108e-17, -7.09414890e-17,\n",
              "        6.22570778e-17,  4.99071683e-17, -6.27082160e-17,  9.72202918e-17,\n",
              "       -4.42115480e-17, -8.08665304e-17, -9.99271213e-17, -5.90427178e-17,\n",
              "        6.47383381e-17,  2.84217094e-17,  2.21057740e-17, -4.42115480e-17,\n",
              "       -3.15796771e-17, -5.00763452e-17,  1.31957937e-17, -1.09964947e-17,\n",
              "        9.36111858e-18, -7.55656560e-18,  2.48126035e-18,  1.35341473e-18,\n",
              "        1.35341473e-18,  1.12784561e-18,  4.62416701e-18,  8.68441121e-18,\n",
              "        3.98129501e-17,  2.84217094e-17, -5.03019143e-17,  1.88350217e-17,\n",
              "       -7.29716111e-17,  1.97936905e-17, -1.18423789e-17,  4.42679403e-17,\n",
              "       -4.03768729e-17, -3.62038442e-17,  1.35341473e-18,  2.45870343e-17,\n",
              "        2.70682947e-17, -9.02276490e-19,  4.71439466e-17, -3.02262624e-17,\n",
              "       -6.45127690e-17,  2.41358961e-17, -3.04518315e-18, -6.72195985e-17,\n",
              "        1.90605908e-17, -9.02276490e-18,  5.47005122e-18,  3.38353684e-19,\n",
              "        0.00000000e+00, -2.36847579e-18,  2.48126035e-18, -1.12220638e-17,\n",
              "        1.55078772e-17,  4.19558568e-17, -9.45698546e-17, -2.25569122e-17,\n",
              "        1.10528870e-17,  2.70682947e-17, -6.29337852e-17,  1.09401024e-17,\n",
              "       -2.98879087e-17,  8.00770385e-17,  1.40980702e-17, -1.86094526e-17,\n",
              "        5.68998111e-17,  9.64307999e-18, -8.17688069e-18, -1.80455298e-18,\n",
              "       -6.78963059e-17,  4.63544547e-17, -2.36847579e-17, -3.63166287e-17,\n",
              "        1.13912407e-17, -3.32714456e-17,  1.11656716e-17, -1.80455298e-18,\n",
              "       -3.49632140e-18,  6.68248525e-18,  2.08651438e-17, -3.87978891e-17,\n",
              "       -3.27075228e-18,  7.44378104e-18, -3.87978891e-17,  1.83274912e-17,\n",
              "       -2.88728477e-17, -3.60910596e-18, -1.16393667e-16,  6.00013866e-17,\n",
              "       -7.66935016e-18,  7.46069873e-17, -1.93989445e-17,  8.54906974e-17,\n",
              "       -6.47383381e-17, -1.17295944e-17, -2.81961403e-18,  6.49639073e-17,\n",
              "        1.96245137e-17,  1.57898386e-17,  4.24069950e-17,  1.35341473e-18,\n",
              "       -2.59404491e-18, -4.02640884e-17, -3.60910596e-18,  1.12784561e-19,\n",
              "        0.00000000e+00,  3.32714456e-18, -8.12048841e-18,  7.21821192e-18,\n",
              "       -7.44378104e-18, -1.06017488e-17,  2.77450021e-17, -2.90984168e-17,\n",
              "       -1.28574400e-17, -7.66935016e-17,  6.58661838e-17, -1.60154077e-17,\n",
              "       -5.56027887e-17,  4.75950848e-17, -1.57898386e-18,  6.27082160e-17,\n",
              "        7.66935016e-18,  2.18802049e-17,  6.45973574e-17,  0.00000000e+00,\n",
              "       -8.43628518e-17,  3.74444743e-17,  3.94745964e-17,  6.90241515e-17,\n",
              "       -1.53387003e-17, -1.82710989e-17,  1.12784561e-18, -9.02276490e-19,\n",
              "        0.00000000e+00, -4.51138245e-18,  1.02633951e-17, -3.06774007e-17,\n",
              "       -3.15796771e-18, -2.97751242e-17,  7.21821192e-18,  3.22563845e-17,\n",
              "        1.73688224e-17, -1.10528870e-17,  6.94752897e-17, -4.06024420e-18,\n",
              "       -2.25569122e-18,  6.54150455e-18,  5.90991101e-17,  1.17295944e-17,\n",
              "       -8.23327297e-18,  1.31394014e-17,  2.05831824e-17, -2.07523593e-17,\n",
              "       -3.18052463e-17, -8.57162665e-18, -8.53779129e-17, -2.51791533e-17,\n",
              "        3.62602364e-17, -2.35719733e-17, -6.76707367e-19,  1.12784561e-18,\n",
              "        0.00000000e+00,  1.12784561e-18, -1.24063017e-18, -1.03761796e-17,\n",
              "       -5.31215283e-17, -6.65428911e-17, -6.71068139e-18, -1.04325719e-16,\n",
              "        1.00603829e-16,  7.39302799e-17,  4.73695157e-18, -9.00020799e-17,\n",
              "       -3.56399213e-17, -8.77463886e-17,  1.52597511e-16,  2.09779284e-17,\n",
              "       -4.93996378e-17,  6.68812448e-17,  4.47190785e-17, -3.27075228e-17,\n",
              "        2.50381726e-17,  5.95502483e-17, -5.27267824e-17,  3.60910596e-17,\n",
              "       -4.17302877e-18,  2.41358961e-17,  1.86094526e-18,  2.25569122e-18,\n",
              "        0.00000000e+00, -1.80455298e-18, -5.63922806e-19,  4.39859789e-18,\n",
              "       -2.21057740e-17,  1.55642694e-17,  3.25947382e-17, -1.68048996e-17,\n",
              "        4.50574322e-17,  5.78584799e-17, -1.51131312e-17,  6.65428911e-18,\n",
              "       -6.42871999e-18,  1.09401024e-16,  5.41365894e-17, -2.21057740e-17,\n",
              "        5.36854511e-17,  7.19565501e-17,  5.67306343e-17,  1.96245137e-17,\n",
              "        8.75208195e-17, -4.64672392e-17,  9.47390314e-18, -2.93239859e-18,\n",
              "        1.15040252e-17, -1.37597165e-17,  3.60910596e-18,  1.35341473e-18,\n",
              "        0.00000000e+00,  1.46619930e-18, -5.63922806e-18,  1.43800316e-17,\n",
              "       -1.93989445e-17, -4.06024420e-18, -7.37611030e-17, -6.47383381e-17,\n",
              "        7.62423634e-17, -8.35733599e-17,  2.10907130e-17,  3.83467508e-17,\n",
              "       -6.02269557e-17, -1.84966680e-17,  2.16546358e-17, -4.37604098e-17,\n",
              "        2.09779284e-17,  1.77071761e-17, -3.33842301e-17, -6.04525248e-17,\n",
              "       -3.50759985e-17, -1.62409768e-17, -4.39859789e-17,  9.02276490e-18,\n",
              "        2.59404491e-17, -3.49632140e-18, -7.89491929e-19,  0.00000000e+00,\n",
              "        0.00000000e+00,  0.00000000e+00, -3.27075228e-18,  1.51131312e-17,\n",
              "       -1.29702245e-17,  1.60154077e-17,  7.44378104e-18, -1.73688224e-17,\n",
              "        6.54150455e-18, -5.60539269e-17,  2.48126035e-18, -1.30830091e-17,\n",
              "        8.48139900e-17, -3.15796771e-17, -5.52644350e-18, -1.03761796e-17,\n",
              "        1.31957937e-17,  6.59789683e-18,  4.06024420e-17,  4.92304610e-17,\n",
              "        1.96809059e-17, -3.87978891e-17,  2.52637417e-17, -9.02276490e-18,\n",
              "       -1.08273179e-17,  9.02276490e-19, -1.46619930e-18,  0.00000000e+00,\n",
              "        0.00000000e+00,  0.00000000e+00,  2.25569122e-19,  2.70682947e-18,\n",
              "       -5.30087438e-18,  6.31593543e-18,  2.56020954e-17, -2.09215361e-17,\n",
              "       -6.37232771e-17, -2.87600631e-17,  6.87985824e-18, -4.20686413e-17,\n",
              "       -2.14290666e-18, -1.55642694e-17,  2.90984168e-17, -3.03390470e-17,\n",
              "        5.52644350e-17,  6.72195985e-17, -3.77828280e-17, -1.15040252e-17,\n",
              "        4.83281845e-17, -2.45870343e-17, -9.02276490e-19,  4.51138245e-18,\n",
              "       -4.51138245e-18, -4.79334385e-18,  2.14290666e-18,  0.00000000e+00,\n",
              "        0.00000000e+00,  0.00000000e+00,  0.00000000e+00, -3.38353684e-19,\n",
              "       -4.96252069e-18, -9.92504139e-18,  1.35341473e-18, -1.15040252e-17,\n",
              "        2.53765263e-18, -5.47005122e-18,  2.70682947e-18, -4.44371171e-17,\n",
              "        8.00770385e-18,  1.11656716e-17, -4.78206540e-17, -8.68441121e-18,\n",
              "       -4.84973613e-18,  3.49632140e-18,  2.14290666e-18, -3.00006933e-17,\n",
              "        1.10528870e-17,  2.36847579e-18,  5.41365894e-18,  5.63922806e-18,\n",
              "        9.02276490e-19,  2.25569122e-18,  0.00000000e+00,  0.00000000e+00,\n",
              "        0.00000000e+00,  0.00000000e+00,  0.00000000e+00,  0.00000000e+00,\n",
              "       -2.25569122e-19,  9.02276490e-19, -1.80455298e-18,  2.03012210e-18,\n",
              "        3.60910596e-18,  3.27075228e-18, -3.60910596e-18, -2.43614652e-17,\n",
              "        1.93989445e-17, -2.30080505e-17,  1.77071761e-17, -1.30830091e-17,\n",
              "       -3.57527059e-17, -1.74816070e-17, -3.27075228e-18,  4.06024420e-18,\n",
              "        3.38353684e-18,  2.03012210e-18, -2.25569122e-18,  9.02276490e-19,\n",
              "        0.00000000e+00,  0.00000000e+00,  0.00000000e+00,  0.00000000e+00])"
            ]
          },
          "metadata": {},
          "execution_count": 40
        }
      ],
      "source": [
        "preprocessed_train_features.mean(axis=0)"
      ]
    },
    {
      "cell_type": "code",
      "execution_count": 42,
      "id": "Ld2pk-ahmTF9",
      "metadata": {
        "colab": {
          "base_uri": "https://localhost:8080/"
        },
        "id": "Ld2pk-ahmTF9",
        "outputId": "67a6b09c-d605-44f3-c110-8f5453fdba35"
      },
      "outputs": [
        {
          "output_type": "execute_result",
          "data": {
            "text/plain": [
              "array([0., 0., 0., 0., 0., 0., 0., 0., 0., 0., 0., 0., 1., 1., 1., 1., 0.,\n",
              "       0., 0., 0., 0., 0., 0., 0., 0., 0., 0., 0., 0., 0., 0., 0., 1., 1.,\n",
              "       1., 1., 1., 1., 1., 1., 1., 1., 1., 1., 1., 1., 1., 1., 1., 1., 1.,\n",
              "       1., 0., 0., 0., 0., 0., 0., 1., 1., 1., 1., 1., 1., 1., 1., 1., 1.,\n",
              "       1., 1., 1., 1., 1., 1., 1., 1., 1., 1., 1., 1., 1., 1., 0., 0., 0.,\n",
              "       0., 1., 1., 1., 1., 1., 1., 1., 1., 1., 1., 1., 1., 1., 1., 1., 1.,\n",
              "       1., 1., 1., 1., 1., 1., 1., 1., 1., 0., 0., 1., 1., 1., 1., 1., 1.,\n",
              "       1., 1., 1., 1., 1., 1., 1., 1., 1., 1., 1., 1., 1., 1., 1., 1., 1.,\n",
              "       1., 1., 1., 1., 0., 1., 1., 1., 1., 1., 1., 1., 1., 1., 1., 1., 1.,\n",
              "       1., 1., 1., 1., 1., 1., 1., 1., 1., 1., 1., 1., 1., 1., 1., 0., 1.,\n",
              "       1., 1., 1., 1., 1., 1., 1., 1., 1., 1., 1., 1., 1., 1., 1., 1., 1.,\n",
              "       1., 1., 1., 1., 1., 1., 1., 1., 1., 1., 1., 1., 1., 1., 1., 1., 1.,\n",
              "       1., 1., 1., 1., 1., 1., 1., 1., 1., 1., 1., 1., 1., 1., 1., 1., 1.,\n",
              "       1., 1., 1., 1., 1., 1., 1., 1., 1., 1., 1., 1., 1., 1., 1., 1., 1.,\n",
              "       1., 1., 1., 1., 1., 1., 1., 1., 1., 1., 1., 1., 1., 1., 1., 1., 1.,\n",
              "       1., 1., 1., 1., 1., 1., 1., 1., 1., 1., 1., 1., 1., 1., 1., 1., 1.,\n",
              "       1., 1., 1., 1., 1., 1., 1., 1., 1., 1., 1., 1., 1., 1., 1., 1., 1.,\n",
              "       1., 1., 1., 1., 1., 1., 1., 1., 1., 1., 1., 1., 1., 1., 1., 1., 1.,\n",
              "       1., 1., 1., 1., 1., 1., 1., 1., 1., 1., 1., 1., 1., 1., 1., 1., 1.,\n",
              "       1., 1., 1., 1., 1., 1., 1., 1., 1., 1., 1., 1., 1., 1., 1., 1., 1.,\n",
              "       1., 1., 1., 1., 1., 1., 1., 1., 1., 1., 1., 1., 1., 1., 1., 1., 1.,\n",
              "       1., 1., 1., 1., 1., 1., 1., 1., 1., 1., 1., 1., 1., 1., 1., 1., 1.,\n",
              "       1., 1., 1., 1., 1., 1., 1., 1., 1., 1., 1., 1., 1., 1., 1., 1., 1.,\n",
              "       1., 0., 1., 1., 1., 1., 1., 1., 1., 1., 1., 1., 1., 1., 1., 1., 1.,\n",
              "       1., 1., 1., 1., 1., 1., 1., 1., 1., 1., 1., 1., 1., 1., 1., 1., 1.,\n",
              "       1., 1., 1., 1., 1., 1., 1., 1., 1., 1., 1., 1., 1., 1., 1., 1., 1.,\n",
              "       1., 1., 1., 1., 1., 1., 1., 1., 1., 1., 1., 1., 1., 1., 1., 1., 1.,\n",
              "       1., 1., 1., 1., 1., 1., 1., 1., 1., 1., 1., 1., 1., 1., 1., 1., 1.,\n",
              "       0., 1., 1., 1., 1., 1., 1., 1., 1., 1., 1., 1., 1., 1., 1., 1., 1.,\n",
              "       1., 1., 1., 1., 1., 1., 1., 1., 1., 1., 1., 1., 1., 1., 1., 1., 1.,\n",
              "       1., 1., 1., 1., 1., 1., 1., 1., 1., 1., 1., 1., 1., 1., 1., 1., 1.,\n",
              "       1., 1., 1., 1., 1., 1., 1., 1., 1., 1., 1., 1., 1., 1., 1., 1., 1.,\n",
              "       1., 1., 1., 1., 1., 1., 1., 1., 1., 1., 1., 1., 1., 1., 1., 1., 0.,\n",
              "       1., 1., 1., 1., 1., 1., 1., 1., 1., 1., 1., 1., 1., 1., 1., 1., 1.,\n",
              "       1., 1., 1., 1., 1., 1., 1., 1., 1., 1., 0., 1., 1., 1., 1., 1., 1.,\n",
              "       1., 1., 1., 1., 1., 1., 1., 1., 1., 1., 1., 1., 1., 1., 1., 1., 1.,\n",
              "       1., 1., 1., 1., 0., 1., 1., 1., 1., 1., 1., 1., 1., 1., 1., 1., 1.,\n",
              "       1., 1., 1., 1., 1., 1., 1., 1., 1., 1., 1., 1., 1., 1., 1., 0., 1.,\n",
              "       1., 1., 1., 1., 1., 1., 1., 1., 1., 1., 1., 1., 1., 1., 1., 1., 1.,\n",
              "       1., 1., 1., 1., 1., 1., 1., 1., 0., 0., 0., 1., 1., 1., 1., 1., 1.,\n",
              "       1., 1., 1., 1., 1., 1., 1., 1., 1., 1., 1., 1., 1., 1., 1., 1., 1.,\n",
              "       1., 1., 0., 0., 0., 1., 1., 1., 1., 1., 1., 1., 1., 1., 1., 1., 1.,\n",
              "       1., 1., 1., 1., 1., 1., 1., 1., 1., 1., 1., 1., 1., 0., 0., 0., 0.,\n",
              "       1., 1., 1., 1., 1., 1., 1., 1., 1., 1., 1., 1., 1., 1., 1., 1., 1.,\n",
              "       1., 1., 1., 1., 1., 1., 0., 0., 0., 0., 0., 0., 1., 1., 1., 1., 1.,\n",
              "       1., 1., 1., 1., 1., 1., 1., 1., 1., 1., 1., 1., 1., 1., 1., 0., 0.,\n",
              "       0., 0.])"
            ]
          },
          "metadata": {},
          "execution_count": 42
        }
      ],
      "source": [
        "preprocessed_train_features.std(axis=0)"
      ]
    },
    {
      "cell_type": "markdown",
      "id": "3d04a639-ba99-47b5-936a-7c6a555c6f08",
      "metadata": {
        "id": "3d04a639-ba99-47b5-936a-7c6a555c6f08"
      },
      "source": [
        "As with all the transformations, it is important to fit the scalers to the training data only, not to the full dataset (including the test set). Only then can you use them to transform the training set and the test set (and new data)."
      ]
    },
    {
      "cell_type": "markdown",
      "id": "6b258fe6-475d-46f1-8349-9be26ae9f70e",
      "metadata": {
        "id": "6b258fe6-475d-46f1-8349-9be26ae9f70e"
      },
      "source": [
        "## Transformation pipelines\n",
        "\n",
        "Creating preprocessing pipelines typically involves quite a lot of steps and each of the steps needs to be executed in the correct order. Fortunately Scikit-Learn allows you to combine estimators together to create [pipelines](https://scikit-learn.org/stable/modules/compose.html#combining-estimators). We can encapsulate all of the preprocessing logic into instances of the [`Pipeline`](https://scikit-learn.org/stable/modules/generated/sklearn.pipeline.Pipeline.html#sklearn.pipeline.Pipeline) class.\n",
        "\n",
        "The `Pipeline` constructor takes a list of name/estimator pairs defining a sequence of steps. All but the last estimator must be transformers (i.e., they must have a `fit_transform` method). The names can be anything you like (as long as they are unique). Later we will see how to access the parameters of pipelines using these names when we discuss hyperparameter tuning."
      ]
    },
    {
      "cell_type": "code",
      "execution_count": 43,
      "id": "462144af-2e79-4ec8-b0bd-d9c9933ac32f",
      "metadata": {
        "id": "462144af-2e79-4ec8-b0bd-d9c9933ac32f"
      },
      "outputs": [],
      "source": [
        "_seed = generate_seed()\n",
        "\n",
        "# hyper-parameters\n",
        "_min_max_scaler_hyperparameters = {\n",
        "    \"feature_range\": (0, 1)\n",
        "}\n",
        "\n",
        "# default Pipeline constructor\n",
        "preparation_pipeline = pipeline.Pipeline(\n",
        "    [\n",
        "        (\"minmaxscaler\", preprocessing.MinMaxScaler(**_min_max_scaler_hyperparameters)),\n",
        "    ],\n",
        "    verbose=True,\n",
        ")"
      ]
    },
    {
      "cell_type": "code",
      "execution_count": 44,
      "id": "0034f083-3b70-4113-a971-883ee1f5d1ed",
      "metadata": {
        "id": "0034f083-3b70-4113-a971-883ee1f5d1ed"
      },
      "outputs": [],
      "source": [
        "# hyper-parameters\n",
        "_min_max_scaler_hyperparameters = {\n",
        "    \"feature_range\": (0, 1)\n",
        "}\n",
        "\n",
        "# alternative constructor that is equivalent to the above!\n",
        "preparation_pipeline = pipeline.make_pipeline(\n",
        "    preprocessing.MinMaxScaler(**_min_max_scaler_hyperparameters),\n",
        "    verbose=True,\n",
        ")"
      ]
    },
    {
      "cell_type": "code",
      "execution_count": 45,
      "id": "7c64d85c-11ba-4a3f-86db-0e1eb4d9f8a3",
      "metadata": {
        "colab": {
          "base_uri": "https://localhost:8080/"
        },
        "id": "7c64d85c-11ba-4a3f-86db-0e1eb4d9f8a3",
        "outputId": "2ba61b37-3d6a-45a4-f3c0-50250d8e0c90"
      },
      "outputs": [
        {
          "output_type": "stream",
          "name": "stdout",
          "text": [
            "[Pipeline] ...... (step 1 of 1) Processing minmaxscaler, total=   0.6s\n"
          ]
        }
      ],
      "source": [
        "prepared_train_features = preparation_pipeline.fit_transform(train_features)"
      ]
    },
    {
      "cell_type": "code",
      "execution_count": 46,
      "id": "f3c91d3d-f2ea-48a1-b7fa-204bc9f1ddab",
      "metadata": {
        "colab": {
          "base_uri": "https://localhost:8080/"
        },
        "id": "f3c91d3d-f2ea-48a1-b7fa-204bc9f1ddab",
        "outputId": "82bd39b9-3ca2-4f07-e1d4-80107e3ed455"
      },
      "outputs": [
        {
          "output_type": "execute_result",
          "data": {
            "text/plain": [
              "array([0., 0., 0., 0., 0., 0., 0., 0., 0., 0., 0., 0., 0., 0., 0., 0., 0.,\n",
              "       0., 0., 0., 0., 0., 0., 0., 0., 0., 0., 0., 0., 0., 0., 0., 0., 0.,\n",
              "       0., 0., 0., 0., 0., 0., 0., 0., 0., 0., 0., 0., 0., 0., 0., 0., 0.,\n",
              "       0., 0., 0., 0., 0., 0., 0., 0., 0., 0., 0., 0., 0., 0., 0., 0., 0.,\n",
              "       0., 0., 0., 0., 0., 0., 0., 0., 0., 0., 0., 0., 0., 0., 0., 0., 0.,\n",
              "       0., 0., 0., 0., 0., 0., 0., 0., 0., 0., 0., 0., 0., 0., 0., 0., 0.,\n",
              "       0., 0., 0., 0., 0., 0., 0., 0., 0., 0., 0., 0., 0., 0., 0., 0., 0.,\n",
              "       0., 0., 0., 0., 0., 0., 0., 0., 0., 0., 0., 0., 0., 0., 0., 0., 0.,\n",
              "       0., 0., 0., 0., 0., 0., 0., 0., 0., 0., 0., 0., 0., 0., 0., 0., 0.,\n",
              "       0., 0., 0., 0., 0., 0., 0., 0., 0., 0., 0., 0., 0., 0., 0., 0., 0.,\n",
              "       0., 0., 0., 0., 0., 0., 0., 0., 0., 0., 0., 0., 0., 0., 0., 0., 0.,\n",
              "       0., 0., 0., 0., 0., 0., 0., 0., 0., 0., 0., 0., 0., 0., 0., 0., 0.,\n",
              "       0., 0., 0., 0., 0., 0., 0., 0., 0., 0., 0., 0., 0., 0., 0., 0., 0.,\n",
              "       0., 0., 0., 0., 0., 0., 0., 0., 0., 0., 0., 0., 0., 0., 0., 0., 0.,\n",
              "       0., 0., 0., 0., 0., 0., 0., 0., 0., 0., 0., 0., 0., 0., 0., 0., 0.,\n",
              "       0., 0., 0., 0., 0., 0., 0., 0., 0., 0., 0., 0., 0., 0., 0., 0., 0.,\n",
              "       0., 0., 0., 0., 0., 0., 0., 0., 0., 0., 0., 0., 0., 0., 0., 0., 0.,\n",
              "       0., 0., 0., 0., 0., 0., 0., 0., 0., 0., 0., 0., 0., 0., 0., 0., 0.,\n",
              "       0., 0., 0., 0., 0., 0., 0., 0., 0., 0., 0., 0., 0., 0., 0., 0., 0.,\n",
              "       0., 0., 0., 0., 0., 0., 0., 0., 0., 0., 0., 0., 0., 0., 0., 0., 0.,\n",
              "       0., 0., 0., 0., 0., 0., 0., 0., 0., 0., 0., 0., 0., 0., 0., 0., 0.,\n",
              "       0., 0., 0., 0., 0., 0., 0., 0., 0., 0., 0., 0., 0., 0., 0., 0., 0.,\n",
              "       0., 0., 0., 0., 0., 0., 0., 0., 0., 0., 0., 0., 0., 0., 0., 0., 0.,\n",
              "       0., 0., 0., 0., 0., 0., 0., 0., 0., 0., 0., 0., 0., 0., 0., 0., 0.,\n",
              "       0., 0., 0., 0., 0., 0., 0., 0., 0., 0., 0., 0., 0., 0., 0., 0., 0.,\n",
              "       0., 0., 0., 0., 0., 0., 0., 0., 0., 0., 0., 0., 0., 0., 0., 0., 0.,\n",
              "       0., 0., 0., 0., 0., 0., 0., 0., 0., 0., 0., 0., 0., 0., 0., 0., 0.,\n",
              "       0., 0., 0., 0., 0., 0., 0., 0., 0., 0., 0., 0., 0., 0., 0., 0., 0.,\n",
              "       0., 0., 0., 0., 0., 0., 0., 0., 0., 0., 0., 0., 0., 0., 0., 0., 0.,\n",
              "       0., 0., 0., 0., 0., 0., 0., 0., 0., 0., 0., 0., 0., 0., 0., 0., 0.,\n",
              "       0., 0., 0., 0., 0., 0., 0., 0., 0., 0., 0., 0., 0., 0., 0., 0., 0.,\n",
              "       0., 0., 0., 0., 0., 0., 0., 0., 0., 0., 0., 0., 0., 0., 0., 0., 0.,\n",
              "       0., 0., 0., 0., 0., 0., 0., 0., 0., 0., 0., 0., 0., 0., 0., 0., 0.,\n",
              "       0., 0., 0., 0., 0., 0., 0., 0., 0., 0., 0., 0., 0., 0., 0., 0., 0.,\n",
              "       0., 0., 0., 0., 0., 0., 0., 0., 0., 0., 0., 0., 0., 0., 0., 0., 0.,\n",
              "       0., 0., 0., 0., 0., 0., 0., 0., 0., 0., 0., 0., 0., 0., 0., 0., 0.,\n",
              "       0., 0., 0., 0., 0., 0., 0., 0., 0., 0., 0., 0., 0., 0., 0., 0., 0.,\n",
              "       0., 0., 0., 0., 0., 0., 0., 0., 0., 0., 0., 0., 0., 0., 0., 0., 0.,\n",
              "       0., 0., 0., 0., 0., 0., 0., 0., 0., 0., 0., 0., 0., 0., 0., 0., 0.,\n",
              "       0., 0., 0., 0., 0., 0., 0., 0., 0., 0., 0., 0., 0., 0., 0., 0., 0.,\n",
              "       0., 0., 0., 0., 0., 0., 0., 0., 0., 0., 0., 0., 0., 0., 0., 0., 0.,\n",
              "       0., 0., 0., 0., 0., 0., 0., 0., 0., 0., 0., 0., 0., 0., 0., 0., 0.,\n",
              "       0., 0., 0., 0., 0., 0., 0., 0., 0., 0., 0., 0., 0., 0., 0., 0., 0.,\n",
              "       0., 0., 0., 0., 0., 0., 0., 0., 0., 0., 0., 0., 0., 0., 0., 0., 0.,\n",
              "       0., 0., 0., 0., 0., 0., 0., 0., 0., 0., 0., 0., 0., 0., 0., 0., 0.,\n",
              "       0., 0., 0., 0., 0., 0., 0., 0., 0., 0., 0., 0., 0., 0., 0., 0., 0.,\n",
              "       0., 0.])"
            ]
          },
          "metadata": {},
          "execution_count": 46
        }
      ],
      "source": [
        "prepared_train_features.min(axis=0)"
      ]
    },
    {
      "cell_type": "code",
      "execution_count": 47,
      "id": "bc6d4c3f-a34f-4f94-8dc6-e833f2902b47",
      "metadata": {
        "colab": {
          "base_uri": "https://localhost:8080/"
        },
        "id": "bc6d4c3f-a34f-4f94-8dc6-e833f2902b47",
        "outputId": "6401818e-33e2-443d-9b48-91ff4d784f26"
      },
      "outputs": [
        {
          "output_type": "execute_result",
          "data": {
            "text/plain": [
              "array([0.00000000e+00, 0.00000000e+00, 0.00000000e+00, 0.00000000e+00,\n",
              "       0.00000000e+00, 0.00000000e+00, 0.00000000e+00, 0.00000000e+00,\n",
              "       0.00000000e+00, 0.00000000e+00, 0.00000000e+00, 0.00000000e+00,\n",
              "       1.72413793e-05, 2.93713286e-05, 1.58730159e-05, 1.58730159e-05,\n",
              "       0.00000000e+00, 0.00000000e+00, 0.00000000e+00, 0.00000000e+00,\n",
              "       0.00000000e+00, 0.00000000e+00, 0.00000000e+00, 0.00000000e+00,\n",
              "       0.00000000e+00, 0.00000000e+00, 0.00000000e+00, 0.00000000e+00,\n",
              "       0.00000000e+00, 0.00000000e+00, 0.00000000e+00, 0.00000000e+00,\n",
              "       1.58730159e-05, 3.14083080e-05, 5.33360237e-05, 1.00112486e-04,\n",
              "       1.46606674e-04, 2.22786875e-04, 4.67538126e-04, 6.46436352e-04,\n",
              "       7.61282291e-04, 7.99004046e-04, 8.63803299e-04, 7.15468410e-04,\n",
              "       6.65981948e-04, 5.45845005e-04, 3.47463430e-04, 2.35543106e-04,\n",
              "       1.92989418e-04, 7.73109244e-05, 5.21911663e-05, 1.70816211e-05,\n",
              "       0.00000000e+00, 0.00000000e+00, 0.00000000e+00, 0.00000000e+00,\n",
              "       0.00000000e+00, 0.00000000e+00, 1.58730159e-05, 2.29885057e-05,\n",
              "       4.67898602e-05, 5.82010582e-05, 2.20722410e-04, 5.34578276e-04,\n",
              "       1.02962963e-03, 2.02172425e-03, 3.52997199e-03, 5.50762527e-03,\n",
              "       8.00622471e-03, 1.05490819e-02, 1.30272020e-02, 1.43889823e-02,\n",
              "       1.44418301e-02, 1.28113290e-02, 1.04938064e-02, 7.73962029e-03,\n",
              "       4.62738873e-03, 2.37167756e-03, 1.10127607e-03, 3.58356676e-04,\n",
              "       1.19327731e-04, 4.98316498e-05, 0.00000000e+00, 0.00000000e+00,\n",
              "       0.00000000e+00, 0.00000000e+00, 2.06011483e-05, 5.51626591e-05,\n",
              "       9.91207034e-05, 2.77124183e-04, 8.76065982e-04, 2.20311236e-03,\n",
              "       4.63666355e-03, 8.86423903e-03, 1.47025833e-02, 2.20923125e-02,\n",
              "       3.03292873e-02, 3.92012449e-02, 4.69707439e-02, 5.18314970e-02,\n",
              "       5.07793962e-02, 4.50297541e-02, 3.62537193e-02, 2.60760660e-02,\n",
              "       1.60130719e-02, 8.67544351e-03, 4.09343293e-03, 1.58997821e-03,\n",
              "       6.00746965e-04, 1.25898793e-04, 3.22329341e-05, 0.00000000e+00,\n",
              "       0.00000000e+00, 1.58730159e-05, 2.98721340e-05, 1.22389307e-04,\n",
              "       3.47644044e-04, 1.47096172e-03, 4.08440710e-03, 9.51876751e-03,\n",
              "       1.87898537e-02, 3.33433551e-02, 5.31281668e-02, 7.80513539e-02,\n",
              "       1.07848677e-01, 1.39785372e-01, 1.65837348e-01, 1.78374914e-01,\n",
              "       1.74055213e-01, 1.52734516e-01, 1.20977653e-01, 8.83946467e-02,\n",
              "       5.74639900e-02, 3.36090881e-02, 1.76909430e-02, 8.34105198e-03,\n",
              "       3.26629318e-03, 8.31310302e-04, 1.68086205e-04, 3.07382212e-05,\n",
              "       0.00000000e+00, 1.58730159e-05, 9.79114453e-05, 2.13445378e-04,\n",
              "       1.58387800e-03, 5.74970433e-03, 1.41719888e-02, 2.82415811e-02,\n",
              "       5.08774977e-02, 8.37449113e-02, 1.25366262e-01, 1.75837846e-01,\n",
              "       2.33147837e-01, 2.91093744e-01, 3.35214068e-01, 3.56054777e-01,\n",
              "       3.48367009e-01, 3.13425459e-01, 2.56645814e-01, 1.93344787e-01,\n",
              "       1.33350202e-01, 8.32046685e-02, 4.82023654e-02, 2.57492063e-02,\n",
              "       1.16868970e-02, 3.24799253e-03, 5.97883598e-04, 4.09626216e-05,\n",
              "       0.00000000e+00, 2.49433107e-05, 1.22071051e-04, 8.68036103e-04,\n",
              "       4.56258948e-03, 1.31142857e-02, 2.89687519e-02, 5.55251790e-02,\n",
              "       9.48117647e-02, 1.47378027e-01, 2.10619234e-01, 2.81048491e-01,\n",
              "       3.52776284e-01, 4.18227140e-01, 4.66000062e-01, 4.87423218e-01,\n",
              "       4.76286959e-01, 4.37774479e-01, 3.74983629e-01, 2.92814753e-01,\n",
              "       2.10548771e-01, 1.37015686e-01, 8.15092437e-02, 4.43033302e-02,\n",
              "       2.12579521e-02, 7.20647370e-03, 1.48293963e-03, 1.27987954e-04,\n",
              "       1.58730159e-05, 1.06207928e-04, 4.23280423e-04, 2.40267663e-03,\n",
              "       9.29567383e-03, 2.34656707e-02, 4.84187986e-02, 8.77483349e-02,\n",
              "       1.43166075e-01, 2.13347152e-01, 2.92244756e-01, 3.72465173e-01,\n",
              "       4.40148522e-01, 4.91060566e-01, 5.20775475e-01, 5.30631310e-01,\n",
              "       5.21866418e-01, 4.96249549e-01, 4.44741737e-01, 3.66682042e-01,\n",
              "       2.72471460e-01, 1.82571491e-01, 1.09255089e-01, 5.91226268e-02,\n",
              "       2.76145036e-02, 1.02633053e-02, 2.07152194e-03, 1.30372043e-04,\n",
              "       2.02775700e-05, 1.91409897e-04, 1.28459384e-03, 4.98057890e-03,\n",
              "       1.46097728e-02, 3.31708683e-02, 6.53759726e-02, 1.15878431e-01,\n",
              "       1.85559975e-01, 2.70200373e-01, 3.58347650e-01, 4.28687208e-01,\n",
              "       4.69248739e-01, 4.83049300e-01, 4.82086586e-01, 4.79153875e-01,\n",
              "       4.80981575e-01, 4.80276377e-01, 4.57104700e-01, 3.94738189e-01,\n",
              "       3.02301401e-01, 2.05674136e-01, 1.23570433e-01, 6.37671335e-02,\n",
              "       2.83041394e-02, 1.05372549e-02, 2.15429321e-03, 1.43934497e-04,\n",
              "       3.89061422e-05, 3.46519185e-04, 1.97628385e-03, 6.54410209e-03,\n",
              "       1.72484905e-02, 3.81541861e-02, 7.60023031e-02, 1.35114721e-01,\n",
              "       2.16552817e-01, 3.11258014e-01, 3.92929599e-01, 4.35860691e-01,\n",
              "       4.33894989e-01, 4.07902646e-01, 3.87834111e-01, 3.89599627e-01,\n",
              "       4.09745721e-01, 4.36843013e-01, 4.37548584e-01, 3.89154684e-01,\n",
              "       3.01135512e-01, 2.05001930e-01, 1.22460131e-01, 6.01167134e-02,\n",
              "       2.34807345e-02, 7.54117647e-03, 1.51702459e-03, 1.25685426e-04,\n",
              "       4.79702205e-05, 4.03672580e-04, 1.97503890e-03, 6.34690321e-03,\n",
              "       1.64930594e-02, 3.81023965e-02, 7.99981326e-02, 1.46276688e-01,\n",
              "       2.37232306e-01, 3.32180454e-01, 3.96911422e-01, 4.05431373e-01,\n",
              "       3.66040710e-01, 3.23349704e-01, 3.11491379e-01, 3.31386119e-01,\n",
              "       3.68761780e-01, 4.12135387e-01, 4.19181264e-01, 3.69721942e-01,\n",
              "       2.80944102e-01, 1.88052039e-01, 1.11192468e-01, 5.29124805e-02,\n",
              "       1.81563025e-02, 4.44612512e-03, 9.21134858e-04, 1.11032919e-04,\n",
              "       4.16931217e-05, 2.60317460e-04, 1.54098973e-03, 4.82645503e-03,\n",
              "       1.37909742e-02, 3.68878929e-02, 8.29163399e-02, 1.57930968e-01,\n",
              "       2.55473950e-01, 3.46658388e-01, 3.90579458e-01, 3.71845440e-01,\n",
              "       3.18046250e-01, 2.86423156e-01, 2.98028011e-01, 3.35521506e-01,\n",
              "       3.82898475e-01, 4.24034672e-01, 4.15960286e-01, 3.49386990e-01,\n",
              "       2.54340118e-01, 1.66132400e-01, 9.92773109e-02, 4.95488329e-02,\n",
              "       1.61231871e-02, 2.45888578e-03, 5.42882239e-04, 6.57305657e-05,\n",
              "       2.22027461e-05, 1.46093993e-04, 9.22689076e-04, 3.30376595e-03,\n",
              "       1.16277622e-02, 3.75609711e-02, 9.01840025e-02, 1.73394647e-01,\n",
              "       2.74328665e-01, 3.57050669e-01, 3.85502210e-01, 3.56369748e-01,\n",
              "       3.11296857e-01, 3.10619483e-01, 3.50374292e-01, 3.99918332e-01,\n",
              "       4.44650731e-01, 4.63210395e-01, 4.23435854e-01, 3.31959726e-01,\n",
              "       2.29698537e-01, 1.49926797e-01, 9.31851229e-02, 5.00765017e-02,\n",
              "       1.72089636e-02, 1.85676937e-03, 3.02217183e-04, 6.37009190e-05,\n",
              "       1.58730159e-05, 7.61026413e-05, 4.98039216e-04, 2.31957672e-03,\n",
              "       1.10639900e-02, 4.19114846e-02, 1.01395269e-01, 1.88791970e-01,\n",
              "       2.87600622e-01, 3.61004171e-01, 3.80122440e-01, 3.56995518e-01,\n",
              "       3.39717958e-01, 3.80215935e-01, 4.38203486e-01, 4.87784251e-01,\n",
              "       5.10611827e-01, 4.98144476e-01, 4.28873078e-01, 3.19083411e-01,\n",
              "       2.16785745e-01, 1.45982695e-01, 9.43980703e-02, 5.36484283e-02,\n",
              "       2.01642079e-02, 2.32212885e-03, 3.27034518e-04, 4.18996208e-05,\n",
              "       0.00000000e+00, 4.17933131e-05, 2.24909386e-04, 1.73071895e-03,\n",
              "       1.17532524e-02, 4.86220977e-02, 1.12507003e-01, 1.99456334e-01,\n",
              "       2.91034858e-01, 3.55261998e-01, 3.72940243e-01, 3.65942546e-01,\n",
              "       3.83249051e-01, 4.53614130e-01, 5.12049549e-01, 5.48791659e-01,\n",
              "       5.39327482e-01, 5.03559539e-01, 4.21193340e-01, 3.12724308e-01,\n",
              "       2.20067538e-01, 1.52882228e-01, 1.00352505e-01, 5.78644258e-02,\n",
              "       2.26551509e-02, 3.23280423e-03, 3.62704662e-04, 4.05982906e-05,\n",
              "       1.58730159e-05, 1.62944234e-05, 1.93788276e-04, 1.86896981e-03,\n",
              "       1.37869904e-02, 5.64539683e-02, 1.21132151e-01, 2.01034236e-01,\n",
              "       2.81055338e-01, 3.36735574e-01, 3.58205913e-01, 3.69362092e-01,\n",
              "       4.12300591e-01, 4.84672518e-01, 5.33628136e-01, 5.48372362e-01,\n",
              "       5.19867476e-01, 4.77588173e-01, 3.98843822e-01, 3.07898724e-01,\n",
              "       2.28790352e-01, 1.62132711e-01, 1.06065857e-01, 5.89520075e-02,\n",
              "       2.29281046e-02, 4.20572674e-03, 5.65079365e-04, 5.20467836e-05,\n",
              "       1.58730159e-05, 4.12401721e-05, 3.39957505e-04, 2.34092748e-03,\n",
              "       1.71263617e-02, 6.42483038e-02, 1.26495300e-01, 1.95261625e-01,\n",
              "       2.60502272e-01, 3.05653097e-01, 3.28266604e-01, 3.50220915e-01,\n",
              "       3.96705384e-01, 4.55598444e-01, 4.97578276e-01, 5.02890943e-01,\n",
              "       4.78602054e-01, 4.38803175e-01, 3.75566075e-01, 3.04274572e-01,\n",
              "       2.34774479e-01, 1.65444133e-01, 1.05197386e-01, 5.59105509e-02,\n",
              "       2.17699346e-02, 4.89878618e-03, 6.84601925e-04, 6.01466297e-05,\n",
              "       0.00000000e+00, 3.95035207e-05, 4.91563555e-04, 3.73644569e-03,\n",
              "       2.27495798e-02, 7.16357298e-02, 1.29640959e-01, 1.87848615e-01,\n",
              "       2.37709804e-01, 2.72749953e-01, 2.93604669e-01, 3.16397199e-01,\n",
              "       3.51474136e-01, 4.00882104e-01, 4.42705073e-01, 4.55089574e-01,\n",
              "       4.43706131e-01, 4.14178587e-01, 3.65678556e-01, 3.04898599e-01,\n",
              "       2.33966573e-01, 1.60757734e-01, 9.81938998e-02, 5.00969188e-02,\n",
              "       1.96019919e-02, 5.21699346e-03, 7.39506870e-04, 8.61865407e-05,\n",
              "       3.01587302e-05, 3.48884054e-05, 7.71615313e-04, 5.99240585e-03,\n",
              "       2.90706505e-02, 7.86545907e-02, 1.35280050e-01, 1.88155680e-01,\n",
              "       2.29171491e-01, 2.59576097e-01, 2.81751074e-01, 3.00504326e-01,\n",
              "       3.26374790e-01, 3.73646250e-01, 4.19007158e-01, 4.42445005e-01,\n",
              "       4.40452972e-01, 4.16214877e-01, 3.70242390e-01, 3.03006349e-01,\n",
              "       2.23785870e-01, 1.48590352e-01, 8.83749144e-02, 4.39032680e-02,\n",
              "       1.72907563e-02, 4.92717087e-03, 5.67507003e-04, 6.89905592e-05,\n",
              "       1.58730159e-05, 6.13756614e-05, 1.11472144e-03, 7.93445378e-03,\n",
              "       3.33696234e-02, 8.37908497e-02, 1.42588547e-01, 1.98482104e-01,\n",
              "       2.44440461e-01, 2.79830065e-01, 3.05658263e-01, 3.24560349e-01,\n",
              "       3.52579272e-01, 3.97697790e-01, 4.42837037e-01, 4.64896296e-01,\n",
              "       4.58796016e-01, 4.25140056e-01, 3.65402241e-01, 2.84404233e-01,\n",
              "       2.00505633e-01, 1.28452537e-01, 7.33762838e-02, 3.54667289e-02,\n",
              "       1.39948335e-02, 4.16713352e-03, 5.83599975e-04, 5.33234127e-05,\n",
              "       0.00000000e+00, 8.16816817e-05, 1.29673203e-03, 8.67289138e-03,\n",
              "       3.26580766e-02, 8.00579521e-02, 1.43739060e-01, 2.09320759e-01,\n",
              "       2.69013632e-01, 3.17797074e-01, 3.54525303e-01, 3.83880486e-01,\n",
              "       4.18254902e-01, 4.60525615e-01, 4.92622969e-01, 4.95658263e-01,\n",
              "       4.67431186e-01, 4.10433862e-01, 3.31544040e-01, 2.41372300e-01,\n",
              "       1.60712107e-01, 9.72679116e-02, 5.30461251e-02, 2.51724868e-02,\n",
              "       1.04158730e-02, 2.80915033e-03, 4.25521320e-04, 3.14347961e-05,\n",
              "       0.00000000e+00, 6.45216645e-05, 1.12337379e-03, 7.20946156e-03,\n",
              "       2.56226580e-02, 6.54924370e-02, 1.27190725e-01, 2.00646063e-01,\n",
              "       2.74289698e-01, 3.40871460e-01, 3.95564706e-01, 4.40831808e-01,\n",
              "       4.80848926e-01, 5.12587364e-01, 5.20475817e-01, 4.93619483e-01,\n",
              "       4.34994647e-01, 3.53282291e-01, 2.62466978e-01, 1.78572425e-01,\n",
              "       1.11060815e-01, 6.27596016e-02, 3.24720199e-02, 1.55157174e-02,\n",
              "       6.44295051e-03, 1.62178649e-03, 2.35386747e-04, 1.58730159e-05,\n",
              "       0.00000000e+00, 2.04678363e-05, 6.86896981e-04, 4.30401494e-03,\n",
              "       1.52507314e-02, 4.20649237e-02, 9.04124494e-02, 1.57616184e-01,\n",
              "       2.36753190e-01, 3.16009586e-01, 3.87223592e-01, 4.43115904e-01,\n",
              "       4.80327980e-01, 4.93195331e-01, 4.77086710e-01, 4.24317709e-01,\n",
              "       3.46826517e-01, 2.59789916e-01, 1.78264799e-01, 1.11855960e-01,\n",
              "       6.51689387e-02, 3.48600685e-02, 1.76608154e-02, 8.20678494e-03,\n",
              "       3.11272954e-03, 7.36657918e-04, 7.99294533e-05, 1.58730159e-05,\n",
              "       0.00000000e+00, 1.58730159e-05, 2.74156975e-04, 1.58892001e-03,\n",
              "       6.56234049e-03, 1.93280423e-02, 4.62478058e-02, 9.25241830e-02,\n",
              "       1.56134952e-01, 2.29281481e-01, 3.01622035e-01, 3.60262434e-01,\n",
              "       3.91857392e-01, 3.91059633e-01, 3.59003673e-01, 2.99869655e-01,\n",
              "       2.27901401e-01, 1.58564146e-01, 1.00152505e-01, 5.90342982e-02,\n",
              "       3.29038904e-02, 1.67953315e-02, 8.22315593e-03, 3.55667600e-03,\n",
              "       1.11770931e-03, 2.33033371e-04, 8.08767952e-05, 0.00000000e+00,\n",
              "       0.00000000e+00, 0.00000000e+00, 5.90375808e-05, 4.59815547e-04,\n",
              "       1.98972923e-03, 6.03871771e-03, 1.57693122e-02, 3.48587613e-02,\n",
              "       6.51024588e-02, 1.05064426e-01, 1.48219048e-01, 1.83058886e-01,\n",
              "       2.01882228e-01, 2.00411765e-01, 1.80333396e-01, 1.46824214e-01,\n",
              "       1.09599502e-01, 7.58329910e-02, 4.76017429e-02, 2.81139745e-02,\n",
              "       1.54022409e-02, 7.56246499e-03, 3.55873016e-03, 1.46567071e-03,\n",
              "       3.77702787e-04, 8.38372386e-05, 1.87884678e-05, 0.00000000e+00,\n",
              "       0.00000000e+00, 0.00000000e+00, 3.55253212e-05, 6.41169854e-05,\n",
              "       5.06442577e-04, 1.84755680e-03, 5.36539060e-03, 1.21060068e-02,\n",
              "       2.37103019e-02, 3.83613445e-02, 5.41627762e-02, 6.56271397e-02,\n",
              "       7.14737006e-02, 7.10868347e-02, 6.38873327e-02, 5.28997199e-02,\n",
              "       4.18734516e-02, 3.06265173e-02, 2.00337379e-02, 1.18863368e-02,\n",
              "       6.41170246e-03, 3.11615313e-03, 1.37927171e-03, 5.29909742e-04,\n",
              "       1.26231257e-04, 2.67466567e-05, 1.58730159e-05, 0.00000000e+00,\n",
              "       0.00000000e+00, 0.00000000e+00, 0.00000000e+00, 1.58730159e-05,\n",
              "       1.25676937e-04, 6.10457516e-04, 2.05284781e-03, 4.50476190e-03,\n",
              "       8.93364457e-03, 1.36832244e-02, 1.87548086e-02, 2.32257703e-02,\n",
              "       2.52708995e-02, 2.48816060e-02, 2.25093682e-02, 1.78511049e-02,\n",
              "       1.39716153e-02, 1.01107999e-02, 6.42222222e-03, 3.79041394e-03,\n",
              "       2.07071273e-03, 9.52131964e-04, 2.98225957e-04, 8.26902566e-05,\n",
              "       3.28798186e-05, 1.58730159e-05, 0.00000000e+00, 0.00000000e+00,\n",
              "       0.00000000e+00, 0.00000000e+00, 0.00000000e+00, 0.00000000e+00,\n",
              "       2.56670044e-05, 4.77450239e-05, 1.49206349e-04, 3.45769279e-04,\n",
              "       5.00999875e-04, 7.41300965e-04, 1.25066916e-03, 1.57939620e-03,\n",
              "       1.94976657e-03, 2.22384065e-03, 2.54204793e-03, 2.22601930e-03,\n",
              "       1.87675070e-03, 1.31111111e-03, 7.47406574e-04, 3.54330709e-04,\n",
              "       1.42731664e-04, 4.95022868e-05, 3.08711411e-05, 1.58730159e-05,\n",
              "       0.00000000e+00, 0.00000000e+00, 0.00000000e+00, 0.00000000e+00])"
            ]
          },
          "metadata": {},
          "execution_count": 47
        }
      ],
      "source": [
        "prepared_train_features.mean(axis=0)"
      ]
    },
    {
      "cell_type": "code",
      "execution_count": 48,
      "id": "c20f7251-59d6-4d93-b0fe-97a5f7e1c91f",
      "metadata": {
        "colab": {
          "base_uri": "https://localhost:8080/"
        },
        "id": "c20f7251-59d6-4d93-b0fe-97a5f7e1c91f",
        "outputId": "d1ac2264-4e0d-4b1e-de6e-907566ab1d76"
      },
      "outputs": [
        {
          "output_type": "execute_result",
          "data": {
            "text/plain": [
              "array([0., 0., 0., 0., 0., 0., 0., 0., 0., 0., 0., 0., 1., 1., 1., 1., 0.,\n",
              "       0., 0., 0., 0., 0., 0., 0., 0., 0., 0., 0., 0., 0., 0., 0., 1., 1.,\n",
              "       1., 1., 1., 1., 1., 1., 1., 1., 1., 1., 1., 1., 1., 1., 1., 1., 1.,\n",
              "       1., 0., 0., 0., 0., 0., 0., 1., 1., 1., 1., 1., 1., 1., 1., 1., 1.,\n",
              "       1., 1., 1., 1., 1., 1., 1., 1., 1., 1., 1., 1., 1., 1., 0., 0., 0.,\n",
              "       0., 1., 1., 1., 1., 1., 1., 1., 1., 1., 1., 1., 1., 1., 1., 1., 1.,\n",
              "       1., 1., 1., 1., 1., 1., 1., 1., 1., 0., 0., 1., 1., 1., 1., 1., 1.,\n",
              "       1., 1., 1., 1., 1., 1., 1., 1., 1., 1., 1., 1., 1., 1., 1., 1., 1.,\n",
              "       1., 1., 1., 1., 0., 1., 1., 1., 1., 1., 1., 1., 1., 1., 1., 1., 1.,\n",
              "       1., 1., 1., 1., 1., 1., 1., 1., 1., 1., 1., 1., 1., 1., 1., 0., 1.,\n",
              "       1., 1., 1., 1., 1., 1., 1., 1., 1., 1., 1., 1., 1., 1., 1., 1., 1.,\n",
              "       1., 1., 1., 1., 1., 1., 1., 1., 1., 1., 1., 1., 1., 1., 1., 1., 1.,\n",
              "       1., 1., 1., 1., 1., 1., 1., 1., 1., 1., 1., 1., 1., 1., 1., 1., 1.,\n",
              "       1., 1., 1., 1., 1., 1., 1., 1., 1., 1., 1., 1., 1., 1., 1., 1., 1.,\n",
              "       1., 1., 1., 1., 1., 1., 1., 1., 1., 1., 1., 1., 1., 1., 1., 1., 1.,\n",
              "       1., 1., 1., 1., 1., 1., 1., 1., 1., 1., 1., 1., 1., 1., 1., 1., 1.,\n",
              "       1., 1., 1., 1., 1., 1., 1., 1., 1., 1., 1., 1., 1., 1., 1., 1., 1.,\n",
              "       1., 1., 1., 1., 1., 1., 1., 1., 1., 1., 1., 1., 1., 1., 1., 1., 1.,\n",
              "       1., 1., 1., 1., 1., 1., 1., 1., 1., 1., 1., 1., 1., 1., 1., 1., 1.,\n",
              "       1., 1., 1., 1., 1., 1., 1., 1., 1., 1., 1., 1., 1., 1., 1., 1., 1.,\n",
              "       1., 1., 1., 1., 1., 1., 1., 1., 1., 1., 1., 1., 1., 1., 1., 1., 1.,\n",
              "       1., 1., 1., 1., 1., 1., 1., 1., 1., 1., 1., 1., 1., 1., 1., 1., 1.,\n",
              "       1., 1., 1., 1., 1., 1., 1., 1., 1., 1., 1., 1., 1., 1., 1., 1., 1.,\n",
              "       1., 0., 1., 1., 1., 1., 1., 1., 1., 1., 1., 1., 1., 1., 1., 1., 1.,\n",
              "       1., 1., 1., 1., 1., 1., 1., 1., 1., 1., 1., 1., 1., 1., 1., 1., 1.,\n",
              "       1., 1., 1., 1., 1., 1., 1., 1., 1., 1., 1., 1., 1., 1., 1., 1., 1.,\n",
              "       1., 1., 1., 1., 1., 1., 1., 1., 1., 1., 1., 1., 1., 1., 1., 1., 1.,\n",
              "       1., 1., 1., 1., 1., 1., 1., 1., 1., 1., 1., 1., 1., 1., 1., 1., 1.,\n",
              "       0., 1., 1., 1., 1., 1., 1., 1., 1., 1., 1., 1., 1., 1., 1., 1., 1.,\n",
              "       1., 1., 1., 1., 1., 1., 1., 1., 1., 1., 1., 1., 1., 1., 1., 1., 1.,\n",
              "       1., 1., 1., 1., 1., 1., 1., 1., 1., 1., 1., 1., 1., 1., 1., 1., 1.,\n",
              "       1., 1., 1., 1., 1., 1., 1., 1., 1., 1., 1., 1., 1., 1., 1., 1., 1.,\n",
              "       1., 1., 1., 1., 1., 1., 1., 1., 1., 1., 1., 1., 1., 1., 1., 1., 0.,\n",
              "       1., 1., 1., 1., 1., 1., 1., 1., 1., 1., 1., 1., 1., 1., 1., 1., 1.,\n",
              "       1., 1., 1., 1., 1., 1., 1., 1., 1., 1., 0., 1., 1., 1., 1., 1., 1.,\n",
              "       1., 1., 1., 1., 1., 1., 1., 1., 1., 1., 1., 1., 1., 1., 1., 1., 1.,\n",
              "       1., 1., 1., 1., 0., 1., 1., 1., 1., 1., 1., 1., 1., 1., 1., 1., 1.,\n",
              "       1., 1., 1., 1., 1., 1., 1., 1., 1., 1., 1., 1., 1., 1., 1., 0., 1.,\n",
              "       1., 1., 1., 1., 1., 1., 1., 1., 1., 1., 1., 1., 1., 1., 1., 1., 1.,\n",
              "       1., 1., 1., 1., 1., 1., 1., 1., 0., 0., 0., 1., 1., 1., 1., 1., 1.,\n",
              "       1., 1., 1., 1., 1., 1., 1., 1., 1., 1., 1., 1., 1., 1., 1., 1., 1.,\n",
              "       1., 1., 0., 0., 0., 1., 1., 1., 1., 1., 1., 1., 1., 1., 1., 1., 1.,\n",
              "       1., 1., 1., 1., 1., 1., 1., 1., 1., 1., 1., 1., 1., 0., 0., 0., 0.,\n",
              "       1., 1., 1., 1., 1., 1., 1., 1., 1., 1., 1., 1., 1., 1., 1., 1., 1.,\n",
              "       1., 1., 1., 1., 1., 1., 0., 0., 0., 0., 0., 0., 1., 1., 1., 1., 1.,\n",
              "       1., 1., 1., 1., 1., 1., 1., 1., 1., 1., 1., 1., 1., 1., 1., 0., 0.,\n",
              "       0., 0.])"
            ]
          },
          "metadata": {},
          "execution_count": 48
        }
      ],
      "source": [
        "prepared_train_features.max(axis=0)"
      ]
    },
    {
      "cell_type": "markdown",
      "id": "01b292be-f7b9-4958-a6d0-c957ebcc50a5",
      "metadata": {
        "id": "01b292be-f7b9-4958-a6d0-c957ebcc50a5"
      },
      "source": [
        "# Select and train a model\n",
        "\n",
        "At last! You framed the problem, you got the data and explored it, you sampled a training set and a test set, and you wrote transformation pipelines to clean up and prepare your data for machine learning algorithms automatically. You are now ready to select and train a Machine Learning model. You might have been wondering if we were every going to make it to this point! Fact is, most of your time developing machine learning solutions to real-world problems will not be spent training machine learning models: most of your time will be spent preparing the data for machine learning algorithms and most of the computer time will be spent training the machine learning models."
      ]
    },
    {
      "cell_type": "markdown",
      "id": "e627d70a-418f-49ed-8449-5ba412a77d2c",
      "metadata": {
        "id": "e627d70a-418f-49ed-8449-5ba412a77d2c"
      },
      "source": [
        "## Training and evaluating on the training dataset"
      ]
    },
    {
      "cell_type": "markdown",
      "id": "0ce4c846-8197-49fd-9391-493cbac70208",
      "metadata": {
        "id": "0ce4c846-8197-49fd-9391-493cbac70208"
      },
      "source": [
        "### Linear models"
      ]
    },
    {
      "cell_type": "code",
      "execution_count": 51,
      "id": "8fb069c7-a23b-4d00-9529-25ec8b73ea26",
      "metadata": {
        "id": "8fb069c7-a23b-4d00-9529-25ec8b73ea26"
      },
      "outputs": [],
      "source": [
        "_seed = generate_seed()\n",
        "\n",
        "# hyper-parameters\n",
        "_min_max_scaler_hyperparameters = {\n",
        "    \"feature_range\": (0, 1)\n",
        "}\n",
        "\n",
        "_classifier_hyperparameters = {\n",
        "    \"fit_intercept\": True,\n",
        "    \"loss\": \"log\",\n",
        "    \"penalty\": None,\n",
        "    \"random_state\": np.random.RandomState(_seed),\n",
        "    \"n_jobs\": -1,\n",
        "}\n",
        "\n",
        "ml_pipeline = pipeline.make_pipeline(\n",
        "    preprocessing.MinMaxScaler(**_min_max_scaler_hyperparameters),\n",
        "    linear_model.SGDClassifier(**_classifier_hyperparameters),\n",
        "    verbose=True,\n",
        ")"
      ]
    },
    {
      "cell_type": "code",
      "execution_count": 52,
      "id": "f03c868d-0835-427d-a668-63809b70e65d",
      "metadata": {
        "id": "f03c868d-0835-427d-a668-63809b70e65d",
        "outputId": "a68fe2ef-9926-4e39-e41d-67920e1f5c5f",
        "colab": {
          "base_uri": "https://localhost:8080/"
        }
      },
      "outputs": [
        {
          "output_type": "stream",
          "name": "stdout",
          "text": [
            "[Pipeline] ...... (step 1 of 2) Processing minmaxscaler, total=   0.5s\n",
            "[Pipeline] ..... (step 2 of 2) Processing sgdclassifier, total= 1.9min\n"
          ]
        }
      ],
      "source": [
        "_ = ml_pipeline.fit(train_features, train_target)"
      ]
    },
    {
      "cell_type": "code",
      "execution_count": 53,
      "id": "5bc88278-3197-41f0-9600-527206c34c63",
      "metadata": {
        "id": "5bc88278-3197-41f0-9600-527206c34c63"
      },
      "outputs": [],
      "source": [
        "train_predictions = ml_pipeline.predict(train_features)"
      ]
    },
    {
      "cell_type": "code",
      "execution_count": 54,
      "id": "e324613b-9ddc-4c2b-b0e7-b0ff34cc3576",
      "metadata": {
        "colab": {
          "base_uri": "https://localhost:8080/"
        },
        "id": "e324613b-9ddc-4c2b-b0e7-b0ff34cc3576",
        "outputId": "4d4253fa-d5e1-4971-b5d4-5ce914555ca0"
      },
      "outputs": [
        {
          "output_type": "execute_result",
          "data": {
            "text/plain": [
              "array([8, 1, 9, ..., 8, 1, 6], dtype=uint8)"
            ]
          },
          "metadata": {},
          "execution_count": 54
        }
      ],
      "source": [
        "train_predictions"
      ]
    },
    {
      "cell_type": "markdown",
      "id": "e99063b9-cb93-45cc-b1c7-07abf3cbf3f3",
      "metadata": {
        "id": "e99063b9-cb93-45cc-b1c7-07abf3cbf3f3"
      },
      "source": [
        "### Mini-batch gradient descent\n",
        "\n",
        "Since we talked about the difference between stochastic, batch, and mini-batch gradient descent in the lectures I wanted you to see how to implement mini-batch gradient descent in Scikit-Learn. You will see much more of this idea in the deep learning hands on session so we will not spend too much time on it now."
      ]
    },
    {
      "cell_type": "code",
      "execution_count": null,
      "id": "791d5512-923e-4c01-ad58-e28aca768f44",
      "metadata": {
        "id": "791d5512-923e-4c01-ad58-e28aca768f44",
        "tags": []
      },
      "outputs": [],
      "source": [
        "_seed = generate_seed()\n",
        "_random_state = np.random.RandomState(_seed)\n",
        "\n",
        "n_epochs = 2\n",
        "batch_size = 128\n",
        "X = train_features\n",
        "y = train_target\n",
        "m, _ = X.shape\n",
        "\n",
        "# define your estimator\n",
        "_classifier_hyperparameters = {\n",
        "    \"alpha\": 1e-4,\n",
        "    \"fit_intercept\": False,\n",
        "    \"l1_ratio\": 0.15,\n",
        "    \"learning_rate\": \"optimal\",\n",
        "    \"loss\": \"log_loss\",\n",
        "    \"n_jobs\": -1,\n",
        "    \"penalty\": None,\n",
        "    \"random_state\": _random_state,\n",
        "    \"warm_start\": True,\n",
        "}\n",
        "estimator = linear_model.SGDClassifier(**_classifier_hyperparameters)\n",
        "\n",
        "# nested for loops implement the training\n",
        "for _ in range(n_epochs):\n",
        "\n",
        "    # shuffle the dataset before every training epoch\n",
        "    shuffled_indices = _random_state.permutation(m)\n",
        "    _X, _y = X.iloc[shuffled_indices], y.iloc[shuffled_indices]\n",
        "\n",
        "    for batch_ixs in utils.gen_batches(m, batch_size):\n",
        "        _ = estimator.partial_fit(_X[batch_ixs], _y[batch_ixs], classes=y.unique())\n"
      ]
    },
    {
      "cell_type": "code",
      "execution_count": null,
      "id": "e83cb8be-2603-45a0-9085-f3dbdd3154ed",
      "metadata": {
        "id": "e83cb8be-2603-45a0-9085-f3dbdd3154ed"
      },
      "outputs": [],
      "source": [
        "train_predictions = estimator.predict(train_features)"
      ]
    },
    {
      "cell_type": "code",
      "execution_count": null,
      "id": "699884cb-30c4-4135-9e66-35a0d1eea255",
      "metadata": {
        "id": "699884cb-30c4-4135-9e66-35a0d1eea255"
      },
      "outputs": [],
      "source": [
        "train_predictions"
      ]
    },
    {
      "cell_type": "markdown",
      "id": "ada04802-5ae9-4285-bdd5-d8b6ae40057e",
      "metadata": {
        "id": "ada04802-5ae9-4285-bdd5-d8b6ae40057e"
      },
      "source": [
        "Congrats! You have fit your first machine learning model using Scikit-Learn and made some predictions. Now let's see how good those predictions really are."
      ]
    },
    {
      "cell_type": "markdown",
      "id": "38833161-7ebe-4b97-8bef-91159c69e939",
      "metadata": {
        "id": "38833161-7ebe-4b97-8bef-91159c69e939"
      },
      "source": [
        "### Evaluation metrics"
      ]
    },
    {
      "cell_type": "markdown",
      "id": "2ef1a3be-ada7-4fed-9813-b1158d7aaeab",
      "metadata": {
        "id": "2ef1a3be-ada7-4fed-9813-b1158d7aaeab"
      },
      "source": [
        "#### Confusion matrix"
      ]
    },
    {
      "cell_type": "code",
      "execution_count": 55,
      "id": "2caaf7d3-cf20-4008-878e-f57a261db011",
      "metadata": {
        "colab": {
          "base_uri": "https://localhost:8080/"
        },
        "id": "2caaf7d3-cf20-4008-878e-f57a261db011",
        "outputId": "53d8daf7-f285-4eaf-f9de-f82b52d80a00"
      },
      "outputs": [
        {
          "output_type": "execute_result",
          "data": {
            "text/plain": [
              "array([[5955,    1,   25,   12,   10,   50,   26,    9,   98,    6],\n",
              "       [   0, 6835,   45,   29,    7,   48,    7,   12,   81,   19],\n",
              "       [  35,   43, 5586,  136,   50,   49,   67,   63,  215,   20],\n",
              "       [  19,   18,  155, 5606,   11,  217,   12,   52,  217,  101],\n",
              "       [  12,   10,   47,   21, 5707,   42,   29,   26,  130,  189],\n",
              "       [  47,   19,   33,  205,   52, 4958,   86,   23,  202,   71],\n",
              "       [  26,   12,   59,   16,   30,  147, 5761,   13,   97,    2],\n",
              "       [  18,   10,   55,   29,   48,   20,    1, 6121,   48,  229],\n",
              "       [  36,   85,   89,  148,   35,  199,   37,   25, 5349,  118],\n",
              "       [  21,   31,   13,   91,  200,   74,    1,  230,  116, 5504]])"
            ]
          },
          "metadata": {},
          "execution_count": 55
        }
      ],
      "source": [
        "confusion_matrix = metrics.confusion_matrix(\n",
        "    train_target,\n",
        "    train_predictions,\n",
        ")\n",
        "confusion_matrix"
      ]
    },
    {
      "cell_type": "code",
      "execution_count": 56,
      "id": "89a0bf8f-ca7d-43fd-804f-8819fe69c005",
      "metadata": {
        "colab": {
          "base_uri": "https://localhost:8080/",
          "height": 611
        },
        "id": "89a0bf8f-ca7d-43fd-804f-8819fe69c005",
        "outputId": "8d4ae3f1-3b80-4a5d-b130-ae9d713c7a25"
      },
      "outputs": [
        {
          "output_type": "display_data",
          "data": {
            "text/plain": [
              "<Figure size 720x720 with 1 Axes>"
            ],
            "image/png": "[encoded data removed]"
          },
          "metadata": {
            "needs_background": "light"
          }
        }
      ],
      "source": [
        "# visualize the normalized confusion matrix\n",
        "fig, ax = plt.subplots(1, 1, figsize=(10, 10))\n",
        "_normalized_confusion_matrix = confusion_matrix / confusion_matrix.sum(axis=1, keepdims=True)\n",
        "np.fill_diagonal(_normalized_confusion_matrix, 0)\n",
        "_ = ax.matshow(_normalized_confusion_matrix)\n",
        "_ = ax.set_xlabel(\"Predicted Class\", fontsize=15)\n",
        "_ = ax.set_ylabel(\"Actual Class\", fontsize=15)\n",
        "plt.show()"
      ]
    },
    {
      "cell_type": "markdown",
      "id": "5dc0e2e7-4fb3-4cd8-950a-da82c4be4095",
      "metadata": {
        "id": "5dc0e2e7-4fb3-4cd8-950a-da82c4be4095"
      },
      "source": [
        "#### Precision"
      ]
    },
    {
      "cell_type": "code",
      "execution_count": 57,
      "id": "2280294c-d524-49fc-bb53-9083662a7fad",
      "metadata": {
        "colab": {
          "base_uri": "https://localhost:8080/"
        },
        "id": "2280294c-d524-49fc-bb53-9083662a7fad",
        "outputId": "936bf9de-7a5e-4c77-a539-892b2843f758"
      },
      "outputs": [
        {
          "output_type": "execute_result",
          "data": {
            "text/plain": [
              "0.9103216125073615"
            ]
          },
          "metadata": {},
          "execution_count": 57
        }
      ],
      "source": [
        "metrics.precision_score(\n",
        "    train_target,\n",
        "    train_predictions,\n",
        "    average=\"macro\",\n",
        ")"
      ]
    },
    {
      "cell_type": "markdown",
      "id": "cfbf5770-4c74-4212-b6de-de5637afcba3",
      "metadata": {
        "id": "cfbf5770-4c74-4212-b6de-de5637afcba3"
      },
      "source": [
        "#### Recall"
      ]
    },
    {
      "cell_type": "code",
      "execution_count": 58,
      "id": "ccc68c19-f248-4e08-8ab2-565d9aeb3ac5",
      "metadata": {
        "colab": {
          "base_uri": "https://localhost:8080/"
        },
        "id": "ccc68c19-f248-4e08-8ab2-565d9aeb3ac5",
        "outputId": "c8af4172-9e62-4bca-be7c-e3179d1975af"
      },
      "outputs": [
        {
          "output_type": "execute_result",
          "data": {
            "text/plain": [
              "0.909763803165799"
            ]
          },
          "metadata": {},
          "execution_count": 58
        }
      ],
      "source": [
        "metrics.recall_score(\n",
        "    train_target,\n",
        "    train_predictions,\n",
        "    average=\"macro\",\n",
        ")"
      ]
    },
    {
      "cell_type": "markdown",
      "id": "c0065ef0-4bf0-403a-a6a4-219db9a44589",
      "metadata": {
        "id": "c0065ef0-4bf0-403a-a6a4-219db9a44589"
      },
      "source": [
        "#### $F_1$ Score"
      ]
    },
    {
      "cell_type": "code",
      "execution_count": 59,
      "id": "d1f8aafe-a87c-4e90-8b2f-4ecfbe2d31e8",
      "metadata": {
        "colab": {
          "base_uri": "https://localhost:8080/"
        },
        "id": "d1f8aafe-a87c-4e90-8b2f-4ecfbe2d31e8",
        "outputId": "8ba7be9e-2a03-451f-a943-9bedbe6d0954"
      },
      "outputs": [
        {
          "output_type": "execute_result",
          "data": {
            "text/plain": [
              "0.9099001792065229"
            ]
          },
          "metadata": {},
          "execution_count": 59
        }
      ],
      "source": [
        "metrics.f1_score(\n",
        "    train_target,\n",
        "    train_predictions,\n",
        "    average=\"macro\",\n",
        ")"
      ]
    },
    {
      "cell_type": "markdown",
      "id": "1f89d8a5-caf1-47fc-90af-9896a3767780",
      "metadata": {
        "id": "1f89d8a5-caf1-47fc-90af-9896a3767780"
      },
      "source": [
        "#### Receiver Operating Characteristic (ROC) Area Under the Curve (AUC) Score"
      ]
    },
    {
      "cell_type": "code",
      "execution_count": 60,
      "id": "87fcb8e6-243f-4d1e-be2f-90f03e3a1311",
      "metadata": {
        "colab": {
          "base_uri": "https://localhost:8080/"
        },
        "id": "87fcb8e6-243f-4d1e-be2f-90f03e3a1311",
        "outputId": "8ee36ea3-2487-4966-c4ae-0cbeafa2aeef"
      },
      "outputs": [
        {
          "output_type": "execute_result",
          "data": {
            "text/plain": [
              "0.9873846128628074"
            ]
          },
          "metadata": {},
          "execution_count": 60
        }
      ],
      "source": [
        "_scores = ml_pipeline.predict_proba(train_features)\n",
        "metrics.roc_auc_score(\n",
        "    train_target,\n",
        "    _scores,\n",
        "    average=\"macro\",\n",
        "    multi_class=\"ovo\",\n",
        ")"
      ]
    },
    {
      "cell_type": "markdown",
      "id": "3b434767-0619-42a2-8577-a81c3616d0cd",
      "metadata": {
        "id": "3b434767-0619-42a2-8577-a81c3616d0cd"
      },
      "source": [
        "#### Classification report"
      ]
    },
    {
      "cell_type": "code",
      "execution_count": 61,
      "id": "afe04cef-c14c-4735-a7fa-c2131bce5344",
      "metadata": {
        "colab": {
          "base_uri": "https://localhost:8080/"
        },
        "id": "afe04cef-c14c-4735-a7fa-c2131bce5344",
        "outputId": "0b13c75c-a7bb-49c0-edaa-52a4469db300"
      },
      "outputs": [
        {
          "output_type": "stream",
          "name": "stdout",
          "text": [
            "              precision    recall  f1-score   support\n",
            "\n",
            "           0       0.97      0.96      0.96      6192\n",
            "           1       0.97      0.96      0.97      7083\n",
            "           2       0.91      0.89      0.90      6264\n",
            "           3       0.89      0.87      0.88      6408\n",
            "           4       0.93      0.92      0.92      6213\n",
            "           5       0.85      0.87      0.86      5696\n",
            "           6       0.96      0.93      0.95      6163\n",
            "           7       0.93      0.93      0.93      6579\n",
            "           8       0.82      0.87      0.84      6121\n",
            "           9       0.88      0.88      0.88      6281\n",
            "\n",
            "    accuracy                           0.91     63000\n",
            "   macro avg       0.91      0.91      0.91     63000\n",
            "weighted avg       0.91      0.91      0.91     63000\n",
            "\n"
          ]
        }
      ],
      "source": [
        "_report = metrics.classification_report(\n",
        "    train_target,\n",
        "    train_predictions,\n",
        ")\n",
        "print(_report)"
      ]
    },
    {
      "cell_type": "markdown",
      "id": "d4e6030a-4a88-4dd6-82a3-66e606686331",
      "metadata": {
        "id": "d4e6030a-4a88-4dd6-82a3-66e606686331"
      },
      "source": [
        "### Estimating Generalization Error using Cross Validation"
      ]
    },
    {
      "cell_type": "code",
      "execution_count": 62,
      "id": "6f0e23a7-4f86-482b-ae74-f6e92e928837",
      "metadata": {
        "id": "6f0e23a7-4f86-482b-ae74-f6e92e928837",
        "outputId": "79410ad6-ae8b-4148-e5f6-43fd723068a5",
        "colab": {
          "base_uri": "https://localhost:8080/"
        }
      },
      "outputs": [
        {
          "output_type": "stream",
          "name": "stderr",
          "text": [
            "[Parallel(n_jobs=-1)]: Using backend LokyBackend with 2 concurrent workers.\n",
            "[Parallel(n_jobs=-1)]: Done   3 out of   3 | elapsed:  4.3min finished\n"
          ]
        }
      ],
      "source": [
        "CV_FOLDS = 3\n",
        "\n",
        "estimator_scores = model_selection.cross_val_score(\n",
        "    ml_pipeline,\n",
        "    X=train_features,\n",
        "    y=train_target,\n",
        "    cv=CV_FOLDS,\n",
        "    scoring=\"accuracy\",\n",
        "    n_jobs=-1,\n",
        "    verbose=1\n",
        ")"
      ]
    },
    {
      "cell_type": "code",
      "execution_count": 63,
      "id": "78db7961-77a9-480b-9e28-7e05de150d9e",
      "metadata": {
        "id": "78db7961-77a9-480b-9e28-7e05de150d9e",
        "outputId": "7f6ba224-98f1-4232-c9a3-44ef24e1c98e",
        "colab": {
          "base_uri": "https://localhost:8080/"
        }
      },
      "outputs": [
        {
          "output_type": "execute_result",
          "data": {
            "text/plain": [
              "0.8946507936507938"
            ]
          },
          "metadata": {},
          "execution_count": 63
        }
      ],
      "source": [
        "estimator_scores.mean()"
      ]
    },
    {
      "cell_type": "code",
      "execution_count": 64,
      "id": "2b83394a-50f1-49e1-9526-8098090b7c9a",
      "metadata": {
        "id": "2b83394a-50f1-49e1-9526-8098090b7c9a",
        "outputId": "83cf4682-35dc-4c5a-8ad3-0403fe1a2a4b",
        "colab": {
          "base_uri": "https://localhost:8080/"
        }
      },
      "outputs": [
        {
          "output_type": "stream",
          "name": "stderr",
          "text": [
            "[Parallel(n_jobs=-1)]: Using backend LokyBackend with 2 concurrent workers.\n",
            "[Parallel(n_jobs=-1)]: Done   3 out of   3 | elapsed:  4.3min finished\n"
          ]
        },
        {
          "output_type": "stream",
          "name": "stdout",
          "text": [
            "              precision    recall  f1-score   support\n",
            "\n",
            "           0       0.95      0.96      0.95      6192\n",
            "           1       0.96      0.96      0.96      7083\n",
            "           2       0.88      0.88      0.88      6264\n",
            "           3       0.85      0.86      0.86      6408\n",
            "           4       0.91      0.91      0.91      6213\n",
            "           5       0.82      0.85      0.84      5696\n",
            "           6       0.95      0.93      0.94      6163\n",
            "           7       0.92      0.92      0.92      6579\n",
            "           8       0.82      0.83      0.82      6121\n",
            "           9       0.87      0.84      0.86      6281\n",
            "\n",
            "    accuracy                           0.89     63000\n",
            "   macro avg       0.89      0.89      0.89     63000\n",
            "weighted avg       0.90      0.89      0.89     63000\n",
            "\n"
          ]
        }
      ],
      "source": [
        "# make predictions\n",
        "_train_predictions = model_selection.cross_val_predict(\n",
        "    ml_pipeline,\n",
        "    X=train_features,\n",
        "    y=train_target,\n",
        "    cv=CV_FOLDS,\n",
        "    n_jobs=-1,\n",
        "    verbose=1\n",
        ")\n",
        "\n",
        "# report the accuracy on the cv data\n",
        "_report = metrics.classification_report(\n",
        "    train_target,\n",
        "    _train_predictions,\n",
        ")\n",
        "print(_report)"
      ]
    },
    {
      "cell_type": "markdown",
      "id": "dadeb7f8-ee55-4fe6-91f1-4beaf306affc",
      "metadata": {
        "id": "dadeb7f8-ee55-4fe6-91f1-4beaf306affc"
      },
      "source": [
        "### Discussion\n",
        "\n",
        "What is going on here? Are we underfitting? Are we overfitting? If you think that we are underfitting, then what could we do to try and get the model to overfit? If we are overfitting, what could we do to get the model to underfit?"
      ]
    },
    {
      "cell_type": "markdown",
      "id": "7c979240-7d8b-4426-80ab-4d6842bdf766",
      "metadata": {
        "id": "7c979240-7d8b-4426-80ab-4d6842bdf766"
      },
      "source": [
        "### Exercise: Regularizing Linear Models"
      ]
    },
    {
      "cell_type": "code",
      "execution_count": null,
      "id": "8441712c-2962-4720-a355-e7d4337e71a3",
      "metadata": {
        "id": "8441712c-2962-4720-a355-e7d4337e71a3"
      },
      "outputs": [],
      "source": [
        "linear_model.SGDClassifier?"
      ]
    },
    {
      "cell_type": "code",
      "execution_count": null,
      "id": "b66d6f3e-4613-4d85-bac8-0e6bb929d398",
      "metadata": {
        "id": "b66d6f3e-4613-4d85-bac8-0e6bb929d398"
      },
      "outputs": [],
      "source": [
        "_seed = generate_seed()\n",
        "_classifier_hyperparameters = {\n",
        "    \"alpha\": 1e-4, # try changing this!\n",
        "    \"fit_intercept\": True,\n",
        "    \"l1_ratio\": 0.15, # only used for penalty=elastic_net\n",
        "    \"loss\": \"log\",\n",
        "    \"n_jobs\": -1,\n",
        "    \"penalty\": None, # try changing this!\n",
        "    \"random_state\": np.random.RandomState(_seed),\n",
        "}\n",
        "\n",
        "ml_pipeline = pipeline.make_pipeline(\n",
        "    preprocessing.MinMaxScaler(),\n",
        "    linear_model.SGDClassifier(**_classifier_hyperparameters),\n",
        "    verbose=True,\n",
        ")\n",
        "\n",
        "# make predictions\n",
        "_train_predictions = model_selection.cross_val_predict(\n",
        "    ml_pipeline,\n",
        "    X=train_features,\n",
        "    y=train_target,\n",
        "    cv=CV_FOLDS,\n",
        "    n_jobs=-1,\n",
        "    verbose=1\n",
        ")\n",
        "\n",
        "# report the accuracy on the training data\n",
        "_report = metrics.classification_report(\n",
        "    train_target,\n",
        "    _train_predictions,\n",
        ")\n",
        "print(_report)"
      ]
    },
    {
      "cell_type": "markdown",
      "id": "efe7255e-4f60-469c-b541-f6935d9cb6e1",
      "metadata": {
        "id": "efe7255e-4f60-469c-b541-f6935d9cb6e1"
      },
      "source": [
        "# Evaluate your models on the test dataset\n",
        "\n",
        "After tweaking your models for a while, you eventually have a system that performs sufficiently well. Now is the time to evaluate the final model on the test set. First, we need to re-fit the pipeline using the full training data set."
      ]
    },
    {
      "cell_type": "code",
      "execution_count": 65,
      "id": "ce4dfe88-ce70-452f-9256-dc39a3211375",
      "metadata": {
        "id": "ce4dfe88-ce70-452f-9256-dc39a3211375",
        "outputId": "602735c8-5b2a-486b-de3d-f6ea97744906",
        "colab": {
          "base_uri": "https://localhost:8080/"
        }
      },
      "outputs": [
        {
          "output_type": "stream",
          "name": "stdout",
          "text": [
            "[Pipeline] ...... (step 1 of 2) Processing minmaxscaler, total=   0.6s\n",
            "[Pipeline] ..... (step 2 of 2) Processing sgdclassifier, total= 2.0min\n"
          ]
        }
      ],
      "source": [
        "_ = ml_pipeline.fit(train_features, train_target)"
      ]
    },
    {
      "cell_type": "code",
      "execution_count": 66,
      "id": "8a73ca70-1d2b-4053-b500-5d0be0c19f62",
      "metadata": {
        "id": "8a73ca70-1d2b-4053-b500-5d0be0c19f62",
        "outputId": "d4420162-a339-4cff-cae6-2af490cfc993",
        "colab": {
          "base_uri": "https://localhost:8080/"
        }
      },
      "outputs": [
        {
          "output_type": "stream",
          "name": "stdout",
          "text": [
            "              precision    recall  f1-score   support\n",
            "\n",
            "           0       0.96      0.96      0.96       711\n",
            "           1       0.95      0.96      0.96       794\n",
            "           2       0.88      0.87      0.88       726\n",
            "           3       0.88      0.86      0.87       733\n",
            "           4       0.93      0.90      0.91       611\n",
            "           5       0.80      0.88      0.83       617\n",
            "           6       0.96      0.92      0.94       713\n",
            "           7       0.91      0.90      0.90       714\n",
            "           8       0.82      0.82      0.82       704\n",
            "           9       0.87      0.86      0.86       677\n",
            "\n",
            "    accuracy                           0.90      7000\n",
            "   macro avg       0.89      0.89      0.89      7000\n",
            "weighted avg       0.90      0.90      0.90      7000\n",
            "\n"
          ]
        }
      ],
      "source": [
        "# make predictions\n",
        "test_predictions = ml_pipeline.predict(test_features)\n",
        "\n",
        "# generate a classification report\n",
        "_report = metrics.classification_report(\n",
        "    test_target,\n",
        "    test_predictions,\n",
        ")\n",
        "print(_report)"
      ]
    },
    {
      "cell_type": "markdown",
      "id": "e549fff1-33ab-4e1d-9f1f-605207a88c67",
      "metadata": {
        "id": "e549fff1-33ab-4e1d-9f1f-605207a88c67"
      },
      "source": [
        "Finally, we can save our trained model to disk for later use."
      ]
    },
    {
      "cell_type": "code",
      "execution_count": 67,
      "id": "ed2cedef-b497-4eda-9bbd-ab04263e2087",
      "metadata": {
        "id": "ed2cedef-b497-4eda-9bbd-ab04263e2087"
      },
      "outputs": [],
      "source": [
        "_ = joblib.dump(ml_pipeline, RESULTS_DIR / \"linear-model.pkl\")"
      ]
    },
    {
      "cell_type": "code",
      "execution_count": null,
      "id": "eec43a20-61da-4edb-b2e8-673adc6b7d3a",
      "metadata": {
        "id": "eec43a20-61da-4edb-b2e8-673adc6b7d3a"
      },
      "outputs": [],
      "source": []
    }
  ],
  "metadata": {
    "colab": {
      "provenance": []
    },
    "kernelspec": {
      "display_name": "Python 3 (ipykernel)",
      "language": "python",
      "name": "python3"
    },
    "language_info": {
      "codemirror_mode": {
        "name": "ipython",
        "version": 3
      },
      "file_extension": ".py",
      "mimetype": "text/x-python",
      "name": "python",
      "nbconvert_exporter": "python",
      "pygments_lexer": "ipython3",
      "version": "3.9.13"
    }
  },
  "nbformat": 4,
  "nbformat_minor": 5
}