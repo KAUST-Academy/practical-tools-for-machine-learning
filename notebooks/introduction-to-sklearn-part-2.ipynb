{
 "cells": [
  {
   "cell_type": "code",
   "execution_count": 1,
   "id": "e3ea2c52-3ead-4484-8a13-59ff459b0f78",
   "metadata": {
    "id": "e3ea2c52-3ead-4484-8a13-59ff459b0f78"
   },
   "outputs": [],
   "source": [
    "import pathlib\n",
    "import requests\n",
    "\n",
    "import joblib\n",
    "import matplotlib.pyplot as plt\n",
    "import numpy as np\n",
    "import pandas as pd\n",
    "from sklearn import ensemble, linear_model, metrics, model_selection\n",
    "from sklearn import pipeline, preprocessing, svm, tree, utils"
   ]
  },
  {
   "cell_type": "markdown",
   "id": "a9b241c6-de2e-4c9a-ac4f-6c5a010e2929",
   "metadata": {
    "id": "a9b241c6-de2e-4c9a-ac4f-6c5a010e2929",
    "tags": []
   },
   "source": [
    "# MNIST Dataset\n",
    "\n",
    "The original [MNIST](http://yann.lecun.com/exdb/mnist/) dataset consists of 70000 28x28 black and white images in 10 classes. There are 60000 training images and 10000 test images."
   ]
  },
  {
   "cell_type": "code",
   "execution_count": 2,
   "id": "908a812f-ac93-4d77-871d-0d282f51423a",
   "metadata": {
    "id": "908a812f-ac93-4d77-871d-0d282f51423a"
   },
   "outputs": [],
   "source": [
    "# might be different if using Colab or Kaggle\n",
    "PROJECT_ROOT_DIR = pathlib.Path(\".\")\n",
    "\n",
    "DATA_DIR = PROJECT_ROOT_DIR / \"data\" / \"mnist\"\n",
    "DATA_DIR.mkdir(parents=True, exist_ok=True)\n",
    "\n",
    "RESULTS_DIR = PROJECT_ROOT_DIR / \"results\" / \"mnist\"\n",
    "RESULTS_DIR.mkdir(parents=True, exist_ok=True)\n"
   ]
  },
  {
   "cell_type": "markdown",
   "id": "e68d2238-7283-441a-b6d8-4ba3c4c682f0",
   "metadata": {
    "id": "e68d2238-7283-441a-b6d8-4ba3c4c682f0"
   },
   "source": [
    "### Download and extract the data (if using Colab or Kaggle!)"
   ]
  },
  {
   "cell_type": "code",
   "execution_count": 3,
   "id": "09916110-f2d8-448c-86ee-4be9ae5be169",
   "metadata": {
    "id": "09916110-f2d8-448c-86ee-4be9ae5be169",
    "tags": []
   },
   "outputs": [],
   "source": [
    "URL = \"https://github.com/KAUST-Academy/practical-tools-for-machine-learning/blob/october-2022/data/mnist/mnist.parquet?raw=true\"\n",
    "\n",
    "with open(DATA_DIR / \"mnist.parquet\", 'wb') as f:\n",
    "    response = requests.get(URL)\n",
    "    f.write(response.content)\n"
   ]
  },
  {
   "cell_type": "code",
   "execution_count": 6,
   "id": "Ew3ZwH-MVBQK",
   "metadata": {
    "colab": {
     "base_uri": "https://localhost:8080/"
    },
    "id": "Ew3ZwH-MVBQK",
    "outputId": "1c9ab97c-7ff1-4f05-92ac-b3ee58801bf8"
   },
   "outputs": [
    {
     "name": "stdout",
     "output_type": "stream",
     "text": [
      "total 21M\n",
      "-rw-r--r-- 1 root root 21M Oct  7 12:03 mnist.parquet\n"
     ]
    }
   ],
   "source": [
    "%%bash\n",
    "\n",
    "ls -lh ./data/mnist"
   ]
  },
  {
   "cell_type": "markdown",
   "id": "02cc24c9-260e-4840-8872-723f0adc6f41",
   "metadata": {
    "id": "02cc24c9-260e-4840-8872-723f0adc6f41"
   },
   "source": [
    "### Load the data\n",
    "\n",
    "We will load the data using the [Pandas](https://pandas.pydata.org/) library. Highly recommend the most recent edition of [*Python for Data Analysis*](https://learning.oreilly.com/library/view/python-for-data/9781491957653/) by Pandas creator Wes Mckinney for anyone interested in learning how to use Pandas."
   ]
  },
  {
   "cell_type": "code",
   "execution_count": 7,
   "id": "c1fded7d-02a7-48c3-99e4-d19d001c8ccf",
   "metadata": {
    "id": "c1fded7d-02a7-48c3-99e4-d19d001c8ccf"
   },
   "outputs": [],
   "source": [
    "data = pd.read_parquet(DATA_DIR / \"mnist.parquet\")\n",
    "features = data.drop(\"label\", axis=1)\n",
    "target = data.loc[:, \"label\"]"
   ]
  },
  {
   "cell_type": "code",
   "execution_count": 8,
   "id": "9b53a9c4-550d-4577-bf0f-bace74843784",
   "metadata": {
    "colab": {
     "base_uri": "https://localhost:8080/"
    },
    "id": "9b53a9c4-550d-4577-bf0f-bace74843784",
    "outputId": "65cbe232-b288-4647-ac25-e7c84b53f6d8"
   },
   "outputs": [
    {
     "name": "stdout",
     "output_type": "stream",
     "text": [
      "<class 'pandas.core.frame.DataFrame'>\n",
      "RangeIndex: 70000 entries, 0 to 69999\n",
      "Columns: 784 entries, pixel1 to pixel784\n",
      "dtypes: uint8(784)\n",
      "memory usage: 52.3 MB\n"
     ]
    }
   ],
   "source": [
    "features.info()"
   ]
  },
  {
   "cell_type": "code",
   "execution_count": 9,
   "id": "94e51a47-4730-410d-b5d6-4278a48ff5ff",
   "metadata": {
    "colab": {
     "base_uri": "https://localhost:8080/"
    },
    "id": "94e51a47-4730-410d-b5d6-4278a48ff5ff",
    "outputId": "faec1a3c-d8e3-4c66-e65b-532413b51f37"
   },
   "outputs": [
    {
     "data": {
      "text/plain": [
       "0    5\n",
       "1    0\n",
       "2    4\n",
       "3    1\n",
       "4    9\n",
       "Name: label, dtype: uint8"
      ]
     },
     "execution_count": 9,
     "metadata": {},
     "output_type": "execute_result"
    }
   ],
   "source": [
    "target.head()"
   ]
  },
  {
   "cell_type": "markdown",
   "id": "7a2212c9-f227-4b8f-ac41-6deb6f714976",
   "metadata": {
    "id": "7a2212c9-f227-4b8f-ac41-6deb6f714976"
   },
   "source": [
    "# Creating a Test Dataset\n",
    "\n",
    "Before we look at the data any further, we need to create a test set, put it aside, and never look at it (until we are ready to test our trainined machine learning model!). Why? We don't want our machine learning model to memorize our dataset (this is called overfitting). Instead we want a model that will generalize well (i.e., make good predictions) for inputs that it didn't see during training. To do this we hold split our dataset into training and testing datasets. The training dataset will be used to train our machine learning model(s) and the testing dataset will be used to make a final evaluation of our machine learning model(s).\n"
   ]
  },
  {
   "cell_type": "code",
   "execution_count": null,
   "id": "f791e74d-cddd-4383-8a6c-5b80df4a5daf",
   "metadata": {
    "id": "f791e74d-cddd-4383-8a6c-5b80df4a5daf"
   },
   "outputs": [],
   "source": [
    "model_selection.train_test_split?"
   ]
  },
  {
   "cell_type": "code",
   "execution_count": 10,
   "id": "6b35bf11-0fa5-4879-bbda-e976244ec929",
   "metadata": {
    "id": "6b35bf11-0fa5-4879-bbda-e976244ec929"
   },
   "outputs": [],
   "source": [
    "SEED = 42\n",
    "SEED_GENERATOR = np.random.RandomState(SEED)\n",
    "\n",
    "\n",
    "def generate_seed():\n",
    "    return SEED_GENERATOR.randint(np.iinfo(\"uint16\").max)"
   ]
  },
  {
   "cell_type": "code",
   "execution_count": 11,
   "id": "beff5a36-07c7-404f-916b-260c789aff91",
   "metadata": {
    "id": "beff5a36-07c7-404f-916b-260c789aff91"
   },
   "outputs": [],
   "source": [
    "# split the dataset into training and testing data\n",
    "_seed = generate_seed()\n",
    "_random_state = np.random.RandomState(_seed)\n",
    "\n",
    "train_features, test_features, train_target, test_target = model_selection.train_test_split(\n",
    "    features,\n",
    "    target,\n",
    "    test_size=1e-1,\n",
    "    random_state=_random_state\n",
    ")"
   ]
  },
  {
   "cell_type": "code",
   "execution_count": 12,
   "id": "e9ed741c-996c-4df3-8680-49f14cc0dcf0",
   "metadata": {
    "colab": {
     "base_uri": "https://localhost:8080/"
    },
    "id": "e9ed741c-996c-4df3-8680-49f14cc0dcf0",
    "outputId": "ff5c74b2-631a-4842-a65a-4da11c33ae1e"
   },
   "outputs": [
    {
     "name": "stdout",
     "output_type": "stream",
     "text": [
      "<class 'pandas.core.frame.DataFrame'>\n",
      "Int64Index: 63000 entries, 24297 to 27483\n",
      "Columns: 784 entries, pixel1 to pixel784\n",
      "dtypes: uint8(784)\n",
      "memory usage: 47.6 MB\n"
     ]
    }
   ],
   "source": [
    "train_features.info()"
   ]
  },
  {
   "cell_type": "code",
   "execution_count": 13,
   "id": "ae8f35a7-604c-486b-8f36-284b909c64e6",
   "metadata": {
    "colab": {
     "base_uri": "https://localhost:8080/"
    },
    "id": "ae8f35a7-604c-486b-8f36-284b909c64e6",
    "outputId": "d9674de7-30fa-4008-d87f-07da5423a84e"
   },
   "outputs": [
    {
     "name": "stdout",
     "output_type": "stream",
     "text": [
      "<class 'pandas.core.frame.DataFrame'>\n",
      "Int64Index: 7000 entries, 64951 to 57273\n",
      "Columns: 784 entries, pixel1 to pixel784\n",
      "dtypes: uint8(784)\n",
      "memory usage: 5.3 MB\n"
     ]
    }
   ],
   "source": [
    "test_features.info()"
   ]
  },
  {
   "cell_type": "markdown",
   "id": "090af9ae-e36c-4c5d-ac2d-25e1ea1c34df",
   "metadata": {
    "id": "090af9ae-e36c-4c5d-ac2d-25e1ea1c34df"
   },
   "source": [
    "Again, if you want to you can write out the train and test sets to disk to avoid having to recreate them later."
   ]
  },
  {
   "cell_type": "code",
   "execution_count": 14,
   "id": "6ede1948-a85a-450f-8c0b-8c18b56ed4d3",
   "metadata": {
    "id": "6ede1948-a85a-450f-8c0b-8c18b56ed4d3"
   },
   "outputs": [],
   "source": [
    "_ = (train_features.join(train_target)\n",
    "                   .to_parquet(DATA_DIR / \"train.parquet\", index=False))\n",
    "\n",
    "_ = (test_features.join(test_target)\n",
    "                   .to_parquet(DATA_DIR / \"test.parquet\", index=False))"
   ]
  },
  {
   "cell_type": "markdown",
   "id": "01b292be-f7b9-4958-a6d0-c957ebcc50a5",
   "metadata": {
    "id": "01b292be-f7b9-4958-a6d0-c957ebcc50a5"
   },
   "source": [
    "# Select, train, and validate some models"
   ]
  },
  {
   "cell_type": "markdown",
   "id": "bcab8454-92c2-46f9-9c60-ac0f5855bedd",
   "metadata": {
    "id": "bcab8454-92c2-46f9-9c60-ac0f5855bedd"
   },
   "source": [
    "## Linear Support Vector Machines"
   ]
  },
  {
   "cell_type": "code",
   "execution_count": 15,
   "id": "2335899f-8bbd-4bb8-a411-d68da1ad8803",
   "metadata": {
    "id": "2335899f-8bbd-4bb8-a411-d68da1ad8803",
    "tags": []
   },
   "outputs": [],
   "source": [
    "svm.LinearSVC?"
   ]
  },
  {
   "cell_type": "code",
   "execution_count": 16,
   "id": "f792c574-ebd3-4d5c-9ed3-5b8db288b17f",
   "metadata": {
    "id": "f792c574-ebd3-4d5c-9ed3-5b8db288b17f"
   },
   "outputs": [],
   "source": [
    "_seed = generate_seed()\n",
    "\n",
    "_classifier_hyperparameters = {\n",
    "    \"dual\": False,\n",
    "    \"tol\": 0.0001,\n",
    "    \"C\": 1.0,\n",
    "    \"fit_intercept\": True,\n",
    "    \"class_weight\": None,\n",
    "    \"verbose\": 0,\n",
    "    \"random_state\": np.random.RandomState(_seed),\n",
    "    \"max_iter\": 1000,\n",
    "}\n",
    "\n",
    "linear_svm_pipeline = pipeline.make_pipeline(\n",
    "    preprocessing.MinMaxScaler(),\n",
    "    svm.LinearSVC(**_classifier_hyperparameters)\n",
    ")"
   ]
  },
  {
   "cell_type": "code",
   "execution_count": 17,
   "id": "dfdc1e21-8f3f-410c-a0cf-4aa981e59891",
   "metadata": {
    "id": "dfdc1e21-8f3f-410c-a0cf-4aa981e59891"
   },
   "outputs": [],
   "source": [
    "_ = linear_svm_pipeline.fit(train_features, train_target)"
   ]
  },
  {
   "cell_type": "markdown",
   "id": "97b4d7c8-cac3-4d72-ac9c-41a0df173775",
   "metadata": {
    "id": "97b4d7c8-cac3-4d72-ac9c-41a0df173775"
   },
   "source": [
    "After training the pipeline we can assess its performance on the training data..."
   ]
  },
  {
   "cell_type": "code",
   "execution_count": 18,
   "id": "9ec7c6d8-a208-4e04-bda7-62c1f35bdc0a",
   "metadata": {
    "colab": {
     "base_uri": "https://localhost:8080/"
    },
    "id": "9ec7c6d8-a208-4e04-bda7-62c1f35bdc0a",
    "outputId": "3c66cf59-2e41-4e57-da52-05ce25e282fe"
   },
   "outputs": [
    {
     "name": "stdout",
     "output_type": "stream",
     "text": [
      "              precision    recall  f1-score   support\n",
      "\n",
      "           0       0.96      0.98      0.97      6192\n",
      "           1       0.96      0.98      0.97      7083\n",
      "           2       0.92      0.91      0.92      6264\n",
      "           3       0.91      0.90      0.91      6408\n",
      "           4       0.93      0.94      0.93      6213\n",
      "           5       0.90      0.88      0.89      5696\n",
      "           6       0.95      0.96      0.96      6163\n",
      "           7       0.94      0.94      0.94      6579\n",
      "           8       0.89      0.87      0.88      6121\n",
      "           9       0.90      0.89      0.90      6281\n",
      "\n",
      "    accuracy                           0.93     63000\n",
      "   macro avg       0.93      0.93      0.93     63000\n",
      "weighted avg       0.93      0.93      0.93     63000\n",
      "\n"
     ]
    }
   ],
   "source": [
    "# make predictions\n",
    "_train_predictions = linear_svm_pipeline.predict(train_features)\n",
    "\n",
    "# report the accuracy on the training data\n",
    "_report = metrics.classification_report(\n",
    "    train_target,\n",
    "    _train_predictions,\n",
    ")\n",
    "print(_report)"
   ]
  },
  {
   "cell_type": "markdown",
   "id": "72a1b1b0-dfb2-451b-99dd-c993d22c5e6e",
   "metadata": {
    "id": "72a1b1b0-dfb2-451b-99dd-c993d22c5e6e"
   },
   "source": [
    "...and then assess its performance on new data using cross validation."
   ]
  },
  {
   "cell_type": "code",
   "execution_count": 19,
   "id": "b6c53d46-5648-4e24-be70-356971df9f06",
   "metadata": {
    "colab": {
     "base_uri": "https://localhost:8080/"
    },
    "id": "b6c53d46-5648-4e24-be70-356971df9f06",
    "outputId": "77b38da3-e32e-4cee-9401-2b4d3ffd7abd"
   },
   "outputs": [
    {
     "name": "stderr",
     "output_type": "stream",
     "text": [
      "[Parallel(n_jobs=-1)]: Using backend LokyBackend with 2 concurrent workers.\n",
      "[Parallel(n_jobs=-1)]: Done   3 out of   3 | elapsed:  1.4min finished\n"
     ]
    },
    {
     "name": "stdout",
     "output_type": "stream",
     "text": [
      "              precision    recall  f1-score   support\n",
      "\n",
      "           0       0.95      0.97      0.96      6192\n",
      "           1       0.95      0.97      0.96      7083\n",
      "           2       0.91      0.89      0.90      6264\n",
      "           3       0.90      0.88      0.89      6408\n",
      "           4       0.91      0.93      0.92      6213\n",
      "           5       0.88      0.86      0.87      5696\n",
      "           6       0.94      0.95      0.94      6163\n",
      "           7       0.93      0.93      0.93      6579\n",
      "           8       0.88      0.85      0.87      6121\n",
      "           9       0.88      0.88      0.88      6281\n",
      "\n",
      "    accuracy                           0.91     63000\n",
      "   macro avg       0.91      0.91      0.91     63000\n",
      "weighted avg       0.91      0.91      0.91     63000\n",
      "\n"
     ]
    }
   ],
   "source": [
    "CV_FOLDS = 3\n",
    "\n",
    "_cv_predictions = model_selection.cross_val_predict(\n",
    "    linear_svm_pipeline,\n",
    "    X=train_features,\n",
    "    y=train_target,\n",
    "    cv=CV_FOLDS,\n",
    "    n_jobs=-1,\n",
    "    verbose=1\n",
    ")\n",
    "\n",
    "# report the accuracy on the cv data\n",
    "_report = metrics.classification_report(\n",
    "    train_target,\n",
    "    _cv_predictions,\n",
    ")\n",
    "print(_report)"
   ]
  },
  {
   "cell_type": "markdown",
   "id": "8999df08-6848-44a8-9699-47c21ca0b5c8",
   "metadata": {
    "id": "8999df08-6848-44a8-9699-47c21ca0b5c8"
   },
   "source": [
    "You can also use SGD to fit linear support vector machines."
   ]
  },
  {
   "cell_type": "code",
   "execution_count": 20,
   "id": "0a60b224-6d20-4a71-92fe-f5cdc7be9401",
   "metadata": {
    "id": "0a60b224-6d20-4a71-92fe-f5cdc7be9401",
    "tags": []
   },
   "outputs": [],
   "source": [
    "linear_model.SGDClassifier?"
   ]
  },
  {
   "cell_type": "code",
   "execution_count": null,
   "id": "c8f86923-ce8c-4f57-b8d7-7e7d1d710a72",
   "metadata": {
    "id": "c8f86923-ce8c-4f57-b8d7-7e7d1d710a72"
   },
   "outputs": [],
   "source": [
    "_seed = generate_seed()\n",
    "\n",
    "_classifier_hyperparameters = {\n",
    "    \"loss\": \"hinge\",\n",
    "    \"fit_intercept\": True,\n",
    "    \"verbose\": 0,\n",
    "    \"random_state\": np.random.RandomState(_seed),\n",
    "}\n",
    "\n",
    "linear_svm_pipeline = pipeline.make_pipeline(\n",
    "    preprocessing.MinMaxScaler(),\n",
    "    linear_model.SGDClassifier(**_classifier_hyperparameters)\n",
    ")"
   ]
  },
  {
   "cell_type": "code",
   "execution_count": null,
   "id": "a9b2f25a-e712-466e-a58d-3ac7204f5887",
   "metadata": {
    "id": "a9b2f25a-e712-466e-a58d-3ac7204f5887"
   },
   "outputs": [],
   "source": [
    "_ = linear_svm_pipeline.fit(train_features, train_target)"
   ]
  },
  {
   "cell_type": "code",
   "execution_count": null,
   "id": "2a794672-7edc-4d89-9974-7ddabe744cfa",
   "metadata": {
    "id": "2a794672-7edc-4d89-9974-7ddabe744cfa"
   },
   "outputs": [],
   "source": [
    "# make predictions\n",
    "_train_predictions = linear_svm_pipeline.predict(train_features)\n",
    "\n",
    "# report the accuracy on the training data\n",
    "_report = metrics.classification_report(\n",
    "    train_target,\n",
    "    _train_predictions,\n",
    ")\n",
    "print(_report)"
   ]
  },
  {
   "cell_type": "code",
   "execution_count": null,
   "id": "726094fa-65cf-4188-8283-ce62d4da5095",
   "metadata": {
    "id": "726094fa-65cf-4188-8283-ce62d4da5095"
   },
   "outputs": [],
   "source": [
    "_cv_predictions = model_selection.cross_val_predict(\n",
    "    linear_svm_pipeline,\n",
    "    X=train_features,\n",
    "    y=train_target,\n",
    "    cv=CV_FOLDS,\n",
    "    n_jobs=-1,\n",
    "    verbose=1\n",
    ")\n",
    "\n",
    "# report the accuracy on the cv data\n",
    "_report = metrics.classification_report(\n",
    "    train_target,\n",
    "    _cv_predictions,\n",
    ")\n",
    "print(_report)"
   ]
  },
  {
   "cell_type": "markdown",
   "id": "82b32ff9-ae55-46c4-ad21-528413893ac0",
   "metadata": {
    "id": "82b32ff9-ae55-46c4-ad21-528413893ac0"
   },
   "source": [
    "### Exercise: Early Stopping\n",
    "\n",
    "Read through the documentation for the [`linear_model.SGDClassifier`](https://scikit-learn.org/stable/modules/generated/sklearn.linear_model.SGDClassifier.html) and implement a linear SVM and train the model using early stopping to control overfitting."
   ]
  },
  {
   "cell_type": "code",
   "execution_count": null,
   "id": "b53c8b6b-fac7-4a38-b7fe-5e2a8c99cdf3",
   "metadata": {
    "id": "b53c8b6b-fac7-4a38-b7fe-5e2a8c99cdf3"
   },
   "outputs": [],
   "source": [
    "linear_model.SGDClassifier?"
   ]
  },
  {
   "cell_type": "code",
   "execution_count": 21,
   "id": "1b5815d4-941e-4790-8426-ec9e56b531aa",
   "metadata": {
    "id": "1b5815d4-941e-4790-8426-ec9e56b531aa"
   },
   "outputs": [],
   "source": [
    "_seed = generate_seed()\n",
    "\n",
    "_classifier_hyperparameters = {\n",
    "    \"loss\": \"hinge\",\n",
    "    \"fit_intercept\": True,\n",
    "    \"early_stopping\": True,\n",
    "    \"validation_fraction\": 1e-1,\n",
    "    \"learning_rate\": \"optimal\",\n",
    "    \"n_jobs\": -1,\n",
    "    \"verbose\": 0,\n",
    "    \"max_iter\": 10000,\n",
    "    \"random_state\": np.random.RandomState(_seed),\n",
    "}\n",
    "\n",
    "linear_svm_pipeline = pipeline.make_pipeline(\n",
    "    preprocessing.MinMaxScaler(),\n",
    "    linear_model.SGDClassifier(**_classifier_hyperparameters)\n",
    ")"
   ]
  },
  {
   "cell_type": "code",
   "execution_count": 22,
   "id": "VUfFE-brZzUz",
   "metadata": {
    "id": "VUfFE-brZzUz"
   },
   "outputs": [],
   "source": [
    "_ = linear_svm_pipeline.fit(train_features, train_target)"
   ]
  },
  {
   "cell_type": "code",
   "execution_count": 23,
   "id": "HKSt3x5HZyAL",
   "metadata": {
    "colab": {
     "base_uri": "https://localhost:8080/"
    },
    "id": "HKSt3x5HZyAL",
    "outputId": "b401ad56-b942-4f0a-8986-0172d0fb379a"
   },
   "outputs": [
    {
     "name": "stdout",
     "output_type": "stream",
     "text": [
      "              precision    recall  f1-score   support\n",
      "\n",
      "           0       0.95      0.97      0.96      6192\n",
      "           1       0.94      0.98      0.96      7083\n",
      "           2       0.90      0.90      0.90      6264\n",
      "           3       0.84      0.91      0.87      6408\n",
      "           4       0.91      0.92      0.91      6213\n",
      "           5       0.88      0.86      0.87      5696\n",
      "           6       0.90      0.97      0.93      6163\n",
      "           7       0.92      0.93      0.92      6579\n",
      "           8       0.93      0.72      0.81      6121\n",
      "           9       0.86      0.88      0.87      6281\n",
      "\n",
      "    accuracy                           0.90     63000\n",
      "   macro avg       0.90      0.90      0.90     63000\n",
      "weighted avg       0.90      0.90      0.90     63000\n",
      "\n"
     ]
    }
   ],
   "source": [
    "# make predictions\n",
    "_train_predictions = linear_svm_pipeline.predict(train_features)\n",
    "\n",
    "# report the accuracy on the training data\n",
    "_report = metrics.classification_report(\n",
    "    train_target,\n",
    "    _train_predictions,\n",
    ")\n",
    "print(_report)"
   ]
  },
  {
   "cell_type": "markdown",
   "id": "be202dc8-9556-4c87-a70a-06b1df636521",
   "metadata": {
    "id": "be202dc8-9556-4c87-a70a-06b1df636521"
   },
   "source": [
    "## Decision Trees\n",
    "\n",
    "[Decision Trees](https://scikit-learn.org/stable/modules/tree.html) are a non-parametric supervised learning method used for [classification](https://scikit-learn.org/stable/modules/tree.html#tree-classification) and [regression](https://scikit-learn.org/stable/modules/tree.html#tree-regression). The goal is to create a model that predicts the value of a target variable by learning simple decision rules inferred from the data features. A tree can be seen as a piecewise constant approximation."
   ]
  },
  {
   "cell_type": "code",
   "execution_count": 24,
   "id": "163cd1e0-6abe-4565-a1a3-1ebc279eb176",
   "metadata": {
    "id": "163cd1e0-6abe-4565-a1a3-1ebc279eb176"
   },
   "outputs": [],
   "source": [
    "tree.DecisionTreeClassifier?"
   ]
  },
  {
   "cell_type": "code",
   "execution_count": 25,
   "id": "2b62bbb1-9a89-4b3f-93db-f55cb6db0ef8",
   "metadata": {
    "id": "2b62bbb1-9a89-4b3f-93db-f55cb6db0ef8"
   },
   "outputs": [],
   "source": [
    "_seed = generate_seed()\n",
    "\n",
    "_classifier_hyperparameters = {\n",
    "    \"random_state\": np.random.RandomState(_seed)\n",
    "}\n",
    "\n",
    "decision_tree_pipeline = tree.DecisionTreeClassifier(**_classifier_hyperparameters)\n",
    "\n",
    "# here we fit using the raw training features\n",
    "_ = decision_tree_pipeline.fit(train_features, train_target)"
   ]
  },
  {
   "cell_type": "code",
   "execution_count": 26,
   "id": "b64c2bc4-6ead-401d-9b72-ee84935ccbab",
   "metadata": {
    "colab": {
     "base_uri": "https://localhost:8080/"
    },
    "id": "b64c2bc4-6ead-401d-9b72-ee84935ccbab",
    "outputId": "fc7c3a67-e9ea-40ce-d245-bc02a3224396"
   },
   "outputs": [
    {
     "name": "stdout",
     "output_type": "stream",
     "text": [
      "              precision    recall  f1-score   support\n",
      "\n",
      "           0       1.00      1.00      1.00      6192\n",
      "           1       1.00      1.00      1.00      7083\n",
      "           2       1.00      1.00      1.00      6264\n",
      "           3       1.00      1.00      1.00      6408\n",
      "           4       1.00      1.00      1.00      6213\n",
      "           5       1.00      1.00      1.00      5696\n",
      "           6       1.00      1.00      1.00      6163\n",
      "           7       1.00      1.00      1.00      6579\n",
      "           8       1.00      1.00      1.00      6121\n",
      "           9       1.00      1.00      1.00      6281\n",
      "\n",
      "    accuracy                           1.00     63000\n",
      "   macro avg       1.00      1.00      1.00     63000\n",
      "weighted avg       1.00      1.00      1.00     63000\n",
      "\n"
     ]
    }
   ],
   "source": [
    "# make predictions\n",
    "_train_predictions = decision_tree_pipeline.predict(train_features)\n",
    "\n",
    "# report the accuracy on the training data\n",
    "_report = metrics.classification_report(\n",
    "    train_target,\n",
    "    _train_predictions,\n",
    ")\n",
    "print(_report)"
   ]
  },
  {
   "cell_type": "markdown",
   "id": "e21482c8-095e-4cc5-92a4-c01f1c61893e",
   "metadata": {
    "id": "e21482c8-095e-4cc5-92a4-c01f1c61893e"
   },
   "source": [
    "Wait, what!? No error at all? Could this model really be absolutely perfect? Unfortunately it is much more likely that the model has badly overfit the training data. How can you be sure? As we saw earlier, you don’t want to touch the testing dataset until you are ready to launch a model you are confident about, so you need to use part of the training set for training and part of it for model validation.\n",
    "\n",
    "The following code use Scikit-Learn [`model_selection.cross_val_score`](https://scikit-learn.org/stable/modules/generated/sklearn.model_selection.cross_val_score.html) to randomly split the training set into `CV_FOLDS` distinct subsets called folds, then it trains and evaluates our model `CV_FOLDS` times, picking a different fold for evaluation every time and training on the other `CV_FOLDS-1` folds. The result is an array containing the `CV_FOLDS` evaluation scores."
   ]
  },
  {
   "cell_type": "code",
   "execution_count": 27,
   "id": "e51cc464-e680-4933-b477-9aeed953ae3a",
   "metadata": {
    "colab": {
     "base_uri": "https://localhost:8080/"
    },
    "id": "e51cc464-e680-4933-b477-9aeed953ae3a",
    "outputId": "03a4b237-1dd3-4ca0-9c4e-e95ca4a076fd"
   },
   "outputs": [
    {
     "name": "stderr",
     "output_type": "stream",
     "text": [
      "[Parallel(n_jobs=-1)]: Using backend LokyBackend with 2 concurrent workers.\n",
      "[Parallel(n_jobs=-1)]: Done   3 out of   3 | elapsed:   36.4s finished\n"
     ]
    }
   ],
   "source": [
    "estimator_scores = model_selection.cross_val_score(\n",
    "    decision_tree_pipeline,\n",
    "    X=train_features,\n",
    "    y=train_target,\n",
    "    cv=CV_FOLDS,\n",
    "    scoring=\"accuracy\",\n",
    "    n_jobs=-1,\n",
    "    verbose=1\n",
    ")"
   ]
  },
  {
   "cell_type": "code",
   "execution_count": 28,
   "id": "b26f0397-ca37-4167-89d7-2af077374cc0",
   "metadata": {
    "colab": {
     "base_uri": "https://localhost:8080/"
    },
    "id": "b26f0397-ca37-4167-89d7-2af077374cc0",
    "outputId": "1fe129e3-a04a-4d59-cb7c-9531f4b5fa24"
   },
   "outputs": [
    {
     "data": {
      "text/plain": [
       "0.863111111111111"
      ]
     },
     "execution_count": 28,
     "metadata": {},
     "output_type": "execute_result"
    }
   ],
   "source": [
    "estimator_scores.mean()"
   ]
  },
  {
   "cell_type": "markdown",
   "id": "3aa85cb1-daf3-4f3d-80e1-b22831759054",
   "metadata": {
    "id": "3aa85cb1-daf3-4f3d-80e1-b22831759054"
   },
   "source": [
    "The following code use Scikit-Learn [`model_selection.cross_val_predict`](https://scikit-learn.org/stable/modules/generated/sklearn.model_selection.cross_val_predict.html) to randomly split the training set into `CV_FOLDS` distinct subsets called folds, then it trains the model and makes predictions using the trained model `CV_FOLDS` times, picking a different fold to use when making prediction every time and training on the other `CV_FOLDS-1` folds. "
   ]
  },
  {
   "cell_type": "code",
   "execution_count": 29,
   "id": "17f4fc15-155d-4643-8a37-fddfdfa3fc32",
   "metadata": {
    "colab": {
     "base_uri": "https://localhost:8080/"
    },
    "id": "17f4fc15-155d-4643-8a37-fddfdfa3fc32",
    "outputId": "c34d75d5-82fe-4d3b-c139-237cb17e1e41"
   },
   "outputs": [
    {
     "name": "stderr",
     "output_type": "stream",
     "text": [
      "[Parallel(n_jobs=-1)]: Using backend LokyBackend with 2 concurrent workers.\n",
      "[Parallel(n_jobs=-1)]: Done   3 out of   3 | elapsed:   34.8s finished\n"
     ]
    },
    {
     "name": "stdout",
     "output_type": "stream",
     "text": [
      "              precision    recall  f1-score   support\n",
      "\n",
      "           0       0.92      0.92      0.92      6192\n",
      "           1       0.94      0.95      0.94      7083\n",
      "           2       0.84      0.83      0.84      6264\n",
      "           3       0.83      0.82      0.83      6408\n",
      "           4       0.85      0.87      0.86      6213\n",
      "           5       0.80      0.81      0.81      5696\n",
      "           6       0.89      0.88      0.88      6163\n",
      "           7       0.90      0.90      0.90      6579\n",
      "           8       0.81      0.79      0.80      6121\n",
      "           9       0.84      0.84      0.84      6281\n",
      "\n",
      "    accuracy                           0.86     63000\n",
      "   macro avg       0.86      0.86      0.86     63000\n",
      "weighted avg       0.86      0.86      0.86     63000\n",
      "\n"
     ]
    }
   ],
   "source": [
    "_cv_predictions = model_selection.cross_val_predict(\n",
    "    decision_tree_pipeline,\n",
    "    X=train_features,\n",
    "    y=train_target,\n",
    "    cv=CV_FOLDS,\n",
    "    n_jobs=-1,\n",
    "    verbose=1\n",
    ")\n",
    "\n",
    "# report the accuracy on the training data\n",
    "_report = metrics.classification_report(\n",
    "    train_target,\n",
    "    _cv_predictions,\n",
    ")\n",
    "print(_report)"
   ]
  },
  {
   "cell_type": "markdown",
   "id": "481229f5-1d1a-4e4b-94eb-a7e5c7d8a28b",
   "metadata": {
    "id": "481229f5-1d1a-4e4b-94eb-a7e5c7d8a28b"
   },
   "source": [
    "### Understanding Feature Importance\n",
    "\n",
    "One of the nice features of decision trees is that they provide a way to measure the importance of each of feature. Understanding feature importance is a topic all unto itself. If you are interested in pulling this thread, then I recommend that you start with [SHapley Additive Explanations (SHAP)](https://shap.readthedocs.io/en/latest/index.html) and then take a look through [*Interpretable Machine Learning*](https://christophm.github.io/interpretable-ml-book/)."
   ]
  },
  {
   "cell_type": "code",
   "execution_count": 30,
   "id": "51d7474a-523f-4af3-b52c-210860f6c83f",
   "metadata": {
    "colab": {
     "base_uri": "https://localhost:8080/"
    },
    "id": "51d7474a-523f-4af3-b52c-210860f6c83f",
    "outputId": "33a317b0-d583-45d4-e700-11a0f4221efb",
    "tags": []
   },
   "outputs": [
    {
     "data": {
      "text/plain": [
       "array([0.00000000e+00, 0.00000000e+00, 0.00000000e+00, 0.00000000e+00,\n",
       "       0.00000000e+00, 0.00000000e+00, 0.00000000e+00, 0.00000000e+00,\n",
       "       0.00000000e+00, 0.00000000e+00, 0.00000000e+00, 0.00000000e+00,\n",
       "       0.00000000e+00, 0.00000000e+00, 0.00000000e+00, 0.00000000e+00,\n",
       "       0.00000000e+00, 0.00000000e+00, 0.00000000e+00, 0.00000000e+00,\n",
       "       0.00000000e+00, 0.00000000e+00, 0.00000000e+00, 0.00000000e+00,\n",
       "       0.00000000e+00, 0.00000000e+00, 0.00000000e+00, 0.00000000e+00,\n",
       "       0.00000000e+00, 0.00000000e+00, 0.00000000e+00, 0.00000000e+00,\n",
       "       0.00000000e+00, 0.00000000e+00, 0.00000000e+00, 6.92601265e-05,\n",
       "       0.00000000e+00, 0.00000000e+00, 0.00000000e+00, 0.00000000e+00,\n",
       "       0.00000000e+00, 0.00000000e+00, 0.00000000e+00, 0.00000000e+00,\n",
       "       3.39275198e-05, 0.00000000e+00, 0.00000000e+00, 0.00000000e+00,\n",
       "       0.00000000e+00, 0.00000000e+00, 0.00000000e+00, 0.00000000e+00,\n",
       "       0.00000000e+00, 0.00000000e+00, 0.00000000e+00, 0.00000000e+00,\n",
       "       0.00000000e+00, 0.00000000e+00, 0.00000000e+00, 0.00000000e+00,\n",
       "       0.00000000e+00, 0.00000000e+00, 0.00000000e+00, 0.00000000e+00,\n",
       "       0.00000000e+00, 0.00000000e+00, 0.00000000e+00, 0.00000000e+00,\n",
       "       6.92825052e-05, 1.69624872e-05, 0.00000000e+00, 9.91712055e-05,\n",
       "       0.00000000e+00, 3.49714126e-05, 0.00000000e+00, 0.00000000e+00,\n",
       "       3.47576653e-05, 0.00000000e+00, 0.00000000e+00, 0.00000000e+00,\n",
       "       0.00000000e+00, 0.00000000e+00, 0.00000000e+00, 0.00000000e+00,\n",
       "       0.00000000e+00, 0.00000000e+00, 0.00000000e+00, 0.00000000e+00,\n",
       "       0.00000000e+00, 0.00000000e+00, 5.10270629e-05, 0.00000000e+00,\n",
       "       0.00000000e+00, 0.00000000e+00, 7.05792140e-04, 1.12433753e-03,\n",
       "       7.53186104e-04, 7.03291415e-04, 4.11915229e-03, 2.88643383e-04,\n",
       "       1.85990527e-04, 3.43060363e-04, 2.49247269e-04, 5.21761942e-05,\n",
       "       8.75350227e-06, 1.45088738e-04, 2.64634654e-05, 0.00000000e+00,\n",
       "       6.93869726e-05, 0.00000000e+00, 0.00000000e+00, 0.00000000e+00,\n",
       "       0.00000000e+00, 0.00000000e+00, 0.00000000e+00, 0.00000000e+00,\n",
       "       0.00000000e+00, 3.42296460e-05, 0.00000000e+00, 0.00000000e+00,\n",
       "       0.00000000e+00, 1.01873188e-04, 1.70746700e-04, 3.02659497e-04,\n",
       "       2.91361688e-04, 1.00063697e-03, 2.02762654e-03, 1.41138482e-04,\n",
       "       2.08998910e-04, 2.20528878e-04, 6.76195059e-04, 4.02021839e-04,\n",
       "       3.64762563e-04, 6.75587944e-05, 8.90085410e-05, 6.92707139e-05,\n",
       "       0.00000000e+00, 9.63809201e-05, 0.00000000e+00, 0.00000000e+00,\n",
       "       0.00000000e+00, 0.00000000e+00, 0.00000000e+00, 0.00000000e+00,\n",
       "       0.00000000e+00, 1.24827295e-04, 7.99451393e-05, 2.71992452e-04,\n",
       "       3.02439605e-05, 8.99694286e-05, 2.94000398e-03, 5.16745296e-04,\n",
       "       2.77857393e-03, 4.82197220e-03, 1.63011039e-03, 2.71071926e-02,\n",
       "       1.08768880e-03, 1.77693012e-03, 1.69939500e-03, 2.92350216e-03,\n",
       "       1.42447720e-04, 2.52984833e-04, 3.75055678e-04, 1.61105852e-04,\n",
       "       1.68573494e-04, 6.89045911e-05, 0.00000000e+00, 0.00000000e+00,\n",
       "       0.00000000e+00, 0.00000000e+00, 3.40955620e-05, 0.00000000e+00,\n",
       "       0.00000000e+00, 7.00854956e-06, 4.70461607e-05, 8.74478150e-05,\n",
       "       5.55186910e-04, 3.18209230e-04, 1.62419667e-03, 1.92257279e-03,\n",
       "       4.55655946e-03, 1.59253412e-03, 1.22110147e-03, 1.19211528e-03,\n",
       "       6.51164966e-04, 2.48489267e-04, 2.84166886e-03, 5.50320833e-04,\n",
       "       1.36789448e-04, 2.36427773e-04, 5.68543594e-04, 5.40062382e-04,\n",
       "       2.54720631e-04, 1.76423103e-05, 0.00000000e+00, 0.00000000e+00,\n",
       "       0.00000000e+00, 0.00000000e+00, 0.00000000e+00, 1.14500550e-05,\n",
       "       9.87831199e-05, 3.46061270e-05, 1.66370703e-04, 2.80440692e-04,\n",
       "       3.17320576e-04, 2.53346074e-04, 4.13029075e-04, 2.04718728e-03,\n",
       "       1.55378769e-03, 2.20489188e-03, 5.76398386e-03, 3.40420259e-02,\n",
       "       2.63745517e-03, 9.20662277e-04, 2.21353381e-03, 3.77355192e-04,\n",
       "       1.46011783e-03, 2.05348573e-03, 2.37728486e-04, 5.64978261e-04,\n",
       "       1.32499448e-04, 0.00000000e+00, 2.35230804e-05, 0.00000000e+00,\n",
       "       0.00000000e+00, 0.00000000e+00, 0.00000000e+00, 3.08740430e-05,\n",
       "       6.71877983e-05, 2.43353871e-04, 1.75703702e-04, 5.21080613e-04,\n",
       "       4.97891961e-04, 7.88125950e-04, 5.79679421e-04, 2.45800918e-02,\n",
       "       6.99087809e-04, 2.48998922e-03, 4.30117520e-03, 1.27609479e-03,\n",
       "       2.86404904e-03, 1.62266103e-03, 2.92231010e-04, 1.39780740e-03,\n",
       "       2.86959258e-04, 4.28726032e-04, 2.78173034e-04, 1.37030224e-03,\n",
       "       3.98156245e-04, 0.00000000e+00, 3.51497419e-05, 0.00000000e+00,\n",
       "       0.00000000e+00, 0.00000000e+00, 0.00000000e+00, 3.44437375e-05,\n",
       "       0.00000000e+00, 5.11823962e-05, 8.77300808e-06, 1.91475878e-04,\n",
       "       5.14698392e-04, 4.30805701e-04, 6.22013624e-04, 9.80259311e-04,\n",
       "       1.59618153e-03, 2.33179446e-03, 1.09399220e-03, 4.99782363e-03,\n",
       "       1.60478423e-03, 1.85387121e-03, 2.96609183e-02, 8.51368783e-04,\n",
       "       5.94711520e-04, 1.62036415e-02, 3.76146617e-04, 3.92106724e-04,\n",
       "       1.16976479e-03, 0.00000000e+00, 0.00000000e+00, 0.00000000e+00,\n",
       "       0.00000000e+00, 0.00000000e+00, 0.00000000e+00, 1.02668454e-04,\n",
       "       2.74797062e-04, 3.05938520e-04, 3.17561585e-05, 7.05692411e-05,\n",
       "       3.43846070e-04, 1.18810652e-03, 1.57687697e-02, 1.00420429e-03,\n",
       "       1.47672166e-03, 2.22610339e-03, 4.76529067e-03, 2.01563722e-03,\n",
       "       1.42213541e-02, 7.92855240e-03, 1.70920729e-03, 2.40557199e-03,\n",
       "       3.78381886e-03, 2.22546518e-03, 8.11450036e-05, 1.78392724e-04,\n",
       "       1.21309339e-04, 1.76423103e-05, 0.00000000e+00, 0.00000000e+00,\n",
       "       0.00000000e+00, 0.00000000e+00, 0.00000000e+00, 0.00000000e+00,\n",
       "       1.08388413e-04, 2.79515599e-04, 3.04695701e-04, 2.88435444e-03,\n",
       "       2.09681704e-03, 3.08091509e-03, 1.94405383e-03, 6.53797971e-03,\n",
       "       2.22260212e-03, 2.18269338e-03, 3.18068750e-03, 1.38721880e-03,\n",
       "       2.57642631e-03, 1.08729864e-03, 1.23848986e-03, 8.44363215e-04,\n",
       "       1.16287462e-03, 1.03770884e-03, 2.84733799e-04, 4.42551461e-04,\n",
       "       0.00000000e+00, 2.03169764e-04, 0.00000000e+00, 0.00000000e+00,\n",
       "       0.00000000e+00, 0.00000000e+00, 0.00000000e+00, 0.00000000e+00,\n",
       "       7.59172340e-05, 1.15678215e-04, 2.23112388e-03, 6.20563177e-04,\n",
       "       2.82657390e-03, 4.53966177e-03, 1.74746322e-03, 2.92657495e-02,\n",
       "       1.16656580e-03, 1.82480080e-03, 4.47400227e-02, 1.24169029e-03,\n",
       "       8.65664741e-03, 1.47366216e-03, 1.91458527e-02, 1.56941921e-03,\n",
       "       2.00258251e-03, 1.62003204e-03, 1.14783334e-03, 8.94185212e-05,\n",
       "       0.00000000e+00, 3.48600945e-05, 3.50695176e-05, 0.00000000e+00,\n",
       "       0.00000000e+00, 0.00000000e+00, 0.00000000e+00, 0.00000000e+00,\n",
       "       0.00000000e+00, 0.00000000e+00, 4.23673657e-04, 2.37890826e-03,\n",
       "       3.19502030e-03, 1.65308419e-03, 1.36580749e-03, 7.85684318e-04,\n",
       "       2.16649874e-03, 1.73958048e-03, 8.31169412e-04, 1.50115512e-03,\n",
       "       7.32965864e-03, 6.62611769e-04, 1.03372506e-03, 8.07812805e-04,\n",
       "       6.84045638e-04, 2.34749313e-03, 5.56945786e-04, 2.81865737e-04,\n",
       "       3.49277613e-05, 1.76423103e-05, 0.00000000e+00, 0.00000000e+00,\n",
       "       0.00000000e+00, 0.00000000e+00, 0.00000000e+00, 0.00000000e+00,\n",
       "       1.55502794e-04, 3.51998241e-04, 1.32023289e-04, 4.80508642e-04,\n",
       "       2.50047449e-03, 1.18907098e-03, 6.27641380e-04, 9.63720407e-04,\n",
       "       8.03141824e-03, 1.31049004e-02, 3.44209428e-03, 1.07244434e-03,\n",
       "       7.94138379e-04, 1.03542416e-03, 5.17337978e-04, 5.91864003e-04,\n",
       "       1.05855555e-03, 0.00000000e+00, 6.01451785e-04, 9.38632006e-05,\n",
       "       1.76423103e-05, 0.00000000e+00, 0.00000000e+00, 0.00000000e+00,\n",
       "       0.00000000e+00, 0.00000000e+00, 0.00000000e+00, 3.43622678e-05,\n",
       "       3.30793318e-05, 2.28674313e-04, 2.98896064e-04, 3.99859358e-03,\n",
       "       3.89629277e-03, 1.24950876e-03, 3.38923474e-04, 1.71762566e-03,\n",
       "       3.30163259e-02, 1.05812680e-03, 2.16313627e-03, 4.40665948e-02,\n",
       "       4.67815416e-04, 2.26456358e-03, 2.60081920e-03, 1.68590244e-03,\n",
       "       5.44588427e-04, 3.94776498e-04, 4.70194886e-04, 1.09774375e-04,\n",
       "       6.78555033e-05, 5.80062611e-06, 0.00000000e+00, 0.00000000e+00,\n",
       "       0.00000000e+00, 0.00000000e+00, 0.00000000e+00, 0.00000000e+00,\n",
       "       1.76423103e-05, 3.96991327e-05, 6.65770467e-04, 1.69703138e-03,\n",
       "       4.03843811e-03, 1.54422102e-03, 7.99415251e-04, 1.51761614e-03,\n",
       "       8.76273887e-04, 8.64954890e-04, 4.26548528e-04, 1.47178674e-03,\n",
       "       1.95795429e-03, 3.64386826e-03, 3.29092034e-04, 5.56052512e-04,\n",
       "       6.52567101e-04, 7.95182501e-04, 7.13536130e-04, 2.15930431e-04,\n",
       "       3.50289349e-05, 0.00000000e+00, 3.43630406e-05, 0.00000000e+00,\n",
       "       0.00000000e+00, 0.00000000e+00, 0.00000000e+00, 0.00000000e+00,\n",
       "       1.76423103e-05, 1.05535982e-04, 2.07900331e-04, 8.67552702e-04,\n",
       "       3.64678474e-03, 1.49518314e-03, 3.39644035e-02, 3.34179665e-03,\n",
       "       1.64972049e-03, 5.52165765e-02, 4.44939026e-03, 9.44494211e-04,\n",
       "       9.70297672e-04, 9.75163882e-04, 4.76679446e-04, 4.02986771e-04,\n",
       "       3.12764978e-04, 1.02614671e-04, 2.35294771e-04, 9.94341644e-05,\n",
       "       9.44392651e-05, 3.30793318e-05, 1.00625789e-04, 0.00000000e+00,\n",
       "       0.00000000e+00, 0.00000000e+00, 0.00000000e+00, 0.00000000e+00,\n",
       "       3.42764885e-05, 1.41932386e-04, 3.20923757e-04, 1.76423103e-05,\n",
       "       1.11129178e-03, 2.77940014e-03, 8.32922222e-04, 8.12088328e-03,\n",
       "       3.68177810e-03, 2.82954627e-03, 1.95402179e-03, 1.36996132e-03,\n",
       "       8.30875743e-04, 1.16630488e-03, 5.15690683e-04, 9.40511773e-04,\n",
       "       2.49206281e-04, 1.76850770e-04, 1.05544347e-03, 5.26214980e-04,\n",
       "       9.91261652e-05, 1.76423103e-05, 0.00000000e+00, 0.00000000e+00,\n",
       "       0.00000000e+00, 0.00000000e+00, 0.00000000e+00, 0.00000000e+00,\n",
       "       1.27812782e-04, 8.98437651e-05, 4.99136848e-03, 2.05172151e-03,\n",
       "       3.40019101e-04, 4.72583514e-04, 3.68423024e-02, 3.80947808e-04,\n",
       "       2.89559788e-03, 7.27533537e-04, 1.44589600e-03, 7.98189794e-04,\n",
       "       7.00430848e-04, 9.65514457e-04, 1.18393007e-02, 4.12720230e-04,\n",
       "       9.48557129e-04, 2.29614951e-04, 1.09470440e-04, 1.15249374e-04,\n",
       "       6.79491765e-05, 6.84285248e-05, 0.00000000e+00, 0.00000000e+00,\n",
       "       0.00000000e+00, 0.00000000e+00, 0.00000000e+00, 1.20204149e-04,\n",
       "       6.76694197e-05, 2.64634654e-05, 1.20867251e-03, 3.08497566e-04,\n",
       "       8.76662902e-04, 9.57011586e-04, 5.51798485e-04, 3.64380903e-03,\n",
       "       6.74882432e-04, 2.00234602e-03, 2.05846871e-03, 4.00519883e-04,\n",
       "       4.80897232e-04, 7.64901285e-04, 6.05434844e-04, 7.98529382e-04,\n",
       "       8.03645302e-04, 2.02712818e-04, 5.37019938e-04, 1.99273790e-04,\n",
       "       1.46049775e-04, 3.40660011e-05, 0.00000000e+00, 0.00000000e+00,\n",
       "       0.00000000e+00, 0.00000000e+00, 3.48551620e-05, 0.00000000e+00,\n",
       "       3.13641072e-05, 9.05577968e-05, 2.76635139e-04, 1.01921169e-03,\n",
       "       7.90595468e-03, 2.70976273e-02, 5.15346840e-03, 1.31077570e-03,\n",
       "       1.00707430e-03, 1.87462123e-03, 2.52228484e-04, 2.44069626e-04,\n",
       "       6.66400648e-04, 3.58016330e-04, 5.06512961e-04, 1.27661550e-04,\n",
       "       1.39260087e-04, 6.84651786e-05, 3.78049506e-05, 1.11368478e-04,\n",
       "       5.25111580e-05, 3.51496681e-05, 0.00000000e+00, 0.00000000e+00,\n",
       "       0.00000000e+00, 0.00000000e+00, 0.00000000e+00, 3.48866069e-05,\n",
       "       0.00000000e+00, 4.11653906e-05, 7.06206947e-04, 5.25273287e-05,\n",
       "       2.52644240e-03, 1.57206846e-04, 4.12100352e-04, 1.11052764e-03,\n",
       "       3.10613992e-04, 4.41048857e-04, 4.63032149e-04, 4.47467650e-04,\n",
       "       5.67777317e-04, 5.75503967e-04, 2.87345462e-04, 2.10188327e-04,\n",
       "       1.04224345e-04, 9.77850361e-05, 1.21426467e-04, 0.00000000e+00,\n",
       "       1.76423103e-05, 0.00000000e+00, 0.00000000e+00, 0.00000000e+00,\n",
       "       0.00000000e+00, 0.00000000e+00, 0.00000000e+00, 0.00000000e+00,\n",
       "       3.48106523e-05, 7.90402270e-05, 1.94611044e-04, 2.14570939e-04,\n",
       "       3.95997855e-04, 2.11808992e-03, 4.28682008e-04, 1.27855560e-03,\n",
       "       1.25748734e-02, 1.34049128e-02, 9.72158201e-04, 6.74170904e-04,\n",
       "       1.91097343e-03, 8.84632536e-04, 2.79070926e-04, 4.98373292e-05,\n",
       "       3.22602245e-05, 1.02910014e-04, 3.43500549e-05, 9.52340139e-05,\n",
       "       0.00000000e+00, 0.00000000e+00, 0.00000000e+00, 0.00000000e+00,\n",
       "       0.00000000e+00, 0.00000000e+00, 0.00000000e+00, 0.00000000e+00,\n",
       "       1.03310610e-04, 1.39821151e-04, 5.80639539e-04, 2.10110759e-04,\n",
       "       4.64529282e-04, 2.64171026e-03, 1.27125971e-03, 3.49792826e-04,\n",
       "       4.71361514e-04, 1.49468456e-03, 5.80237193e-04, 1.38409539e-03,\n",
       "       3.03960623e-04, 3.19679523e-04, 2.42297525e-04, 1.05697691e-04,\n",
       "       1.49761464e-04, 8.39834594e-05, 3.46945634e-05, 0.00000000e+00,\n",
       "       0.00000000e+00, 0.00000000e+00, 0.00000000e+00, 0.00000000e+00,\n",
       "       0.00000000e+00, 0.00000000e+00, 0.00000000e+00, 0.00000000e+00,\n",
       "       0.00000000e+00, 6.74713815e-05, 8.19056654e-05, 7.52013705e-04,\n",
       "       1.51078084e-03, 1.76898936e-04, 4.82271939e-04, 5.46290051e-04,\n",
       "       1.04767926e-03, 6.08836267e-05, 1.82551815e-04, 3.79551424e-04,\n",
       "       4.52622024e-04, 2.52927235e-04, 3.44495398e-04, 3.91452391e-04,\n",
       "       7.07708675e-05, 0.00000000e+00, 0.00000000e+00, 0.00000000e+00,\n",
       "       0.00000000e+00, 0.00000000e+00, 0.00000000e+00, 0.00000000e+00,\n",
       "       0.00000000e+00, 0.00000000e+00, 0.00000000e+00, 0.00000000e+00,\n",
       "       3.51677841e-05, 0.00000000e+00, 0.00000000e+00, 0.00000000e+00,\n",
       "       0.00000000e+00, 0.00000000e+00, 5.08513649e-05, 3.23442355e-05,\n",
       "       0.00000000e+00, 0.00000000e+00, 2.24257587e-04, 2.13076259e-04,\n",
       "       0.00000000e+00, 1.57218239e-04, 3.42916185e-05, 6.96411209e-05,\n",
       "       0.00000000e+00, 3.32090546e-05, 0.00000000e+00, 0.00000000e+00,\n",
       "       0.00000000e+00, 0.00000000e+00, 0.00000000e+00, 0.00000000e+00,\n",
       "       0.00000000e+00, 0.00000000e+00, 0.00000000e+00, 0.00000000e+00,\n",
       "       0.00000000e+00, 0.00000000e+00, 0.00000000e+00, 0.00000000e+00,\n",
       "       0.00000000e+00, 0.00000000e+00, 0.00000000e+00, 0.00000000e+00,\n",
       "       0.00000000e+00, 0.00000000e+00, 0.00000000e+00, 0.00000000e+00,\n",
       "       0.00000000e+00, 0.00000000e+00, 0.00000000e+00, 3.28424403e-05,\n",
       "       0.00000000e+00, 0.00000000e+00, 0.00000000e+00, 0.00000000e+00,\n",
       "       0.00000000e+00, 0.00000000e+00, 0.00000000e+00, 0.00000000e+00])"
      ]
     },
     "execution_count": 30,
     "metadata": {},
     "output_type": "execute_result"
    }
   ],
   "source": [
    "decision_tree_pipeline.feature_importances_"
   ]
  },
  {
   "cell_type": "code",
   "execution_count": 31,
   "id": "815f85cf-f200-4d6c-b09b-07656b9e8df6",
   "metadata": {
    "colab": {
     "base_uri": "https://localhost:8080/"
    },
    "id": "815f85cf-f200-4d6c-b09b-07656b9e8df6",
    "outputId": "22d3ca2d-eefc-4561-8ace-b041729edd44"
   },
   "outputs": [
    {
     "data": {
      "text/plain": [
       "0.6352040816326531"
      ]
     },
     "execution_count": 31,
     "metadata": {},
     "output_type": "execute_result"
    }
   ],
   "source": [
    "is_positive = decision_tree_pipeline.feature_importances_ > 0\n",
    "is_positive.sum() / decision_tree_pipeline.feature_importances_.size"
   ]
  },
  {
   "cell_type": "markdown",
   "id": "176e7445-5e4c-4dda-b80e-4b124f840bfb",
   "metadata": {
    "id": "176e7445-5e4c-4dda-b80e-4b124f840bfb"
   },
   "source": [
    "Because our features are pixels we can reshape and plot the features to gain some insight into what might be driving feature importance."
   ]
  },
  {
   "cell_type": "code",
   "execution_count": 32,
   "id": "ef5272f2-4e56-4f39-9dbe-82a2cdef218b",
   "metadata": {
    "colab": {
     "base_uri": "https://localhost:8080/",
     "height": 603
    },
    "id": "ef5272f2-4e56-4f39-9dbe-82a2cdef218b",
    "outputId": "1d226542-eb62-47d3-94ed-8ee897ce8de4"
   },
   "outputs": [
    {
     "data": {
      "image/png": "[encoded data removed]",
      "text/plain": [
       "<Figure size 1080x1080 with 2 Axes>"
      ]
     },
     "metadata": {
      "needs_background": "light"
     },
     "output_type": "display_data"
    }
   ],
   "source": [
    "_, ax = plt.subplots(1, 1, figsize=(15, 15))\n",
    "_average_pixel_importances = (\n",
    "    decision_tree_pipeline.feature_importances_\n",
    "                          .reshape((1, 28, 28))\n",
    "                          .mean(axis=0)\n",
    ")\n",
    "plt.imshow(_average_pixel_importances)\n",
    "plt.title(\"Average Pixel Importance\", fontsize=20)\n",
    "\n",
    "# create a colorbar\n",
    "colorbar = plt.colorbar(ticks=[_average_pixel_importances.min(), _average_pixel_importances.max()])\n",
    "_ = (colorbar.ax\n",
    "             .set_yticklabels([\"Not important\", \"Very important\"], fontsize=15))"
   ]
  },
  {
   "cell_type": "markdown",
   "id": "0a20d47c-5286-4c07-8139-574c3d6be82c",
   "metadata": {
    "id": "0a20d47c-5286-4c07-8139-574c3d6be82c"
   },
   "source": [
    "### Exercise: Feature Extraction\n",
    "\n",
    "The fair number of features seem to be unimportant which suggests that perhaps we should look at ways to extract the most important features prior to fitting our decision tree model. How could we extract the most relevant features prior to fitting our model?"
   ]
  },
  {
   "cell_type": "markdown",
   "id": "d6a03808-6cab-4f4d-89fb-30d001f4f6ab",
   "metadata": {
    "id": "d6a03808-6cab-4f4d-89fb-30d001f4f6ab"
   },
   "source": [
    "### Exercise: Regularizing Decision Trees\n",
    "\n",
    "Our decision tree classifier appears to be overfitting. We need to regularize it. Decreasing `max_*` parameters and increasing `min_*` parameters will increase the amount of regularization applied to the model and will help reduce overfitting."
   ]
  },
  {
   "cell_type": "code",
   "execution_count": null,
   "id": "9ab4c7b2-1fc9-4787-89ec-05e32fa964de",
   "metadata": {
    "id": "9ab4c7b2-1fc9-4787-89ec-05e32fa964de",
    "tags": []
   },
   "outputs": [],
   "source": [
    "tree.DecisionTreeClassifier?"
   ]
  },
  {
   "cell_type": "code",
   "execution_count": null,
   "id": "b2629805-614f-44ff-af20-7a573f35a263",
   "metadata": {
    "id": "b2629805-614f-44ff-af20-7a573f35a263"
   },
   "outputs": [],
   "source": [
    "_seed = generate_seed()\n",
    "\n",
    "_classifier_hyperparameters = {\n",
    "    \"criterion\": \"entropy\",\n",
    "    \"max_depth\": 32,\n",
    "    \"max_features\": \"sqrt\",\n",
    "    \"min_samples_leaf\": 1e-3,\n",
    "    \"min_samples_split\": 2e-3,\n",
    "    \"random_state\": np.random.RandomState(_seed)\n",
    "}\n",
    "\n",
    "decision_tree_pipeline = tree.DecisionTreeClassifier(**_classifier_hyperparameters)\n",
    "_ = decision_tree_pipeline.fit(train_features, train_target)\n",
    "\n",
    "# make predictions using cv\n",
    "_cv_predictions = model_selection.cross_val_predict(\n",
    "    decision_tree_pipeline,\n",
    "    X=train_features,\n",
    "    y=train_target,\n",
    "    cv=CV_FOLDS,\n",
    "    n_jobs=-1,\n",
    "    verbose=1\n",
    ")\n",
    "\n",
    "# create a classification report\n",
    "_report = metrics.classification_report(\n",
    "    train_target,\n",
    "    _cv_predictions,\n",
    ")\n",
    "print(_report)"
   ]
  },
  {
   "cell_type": "markdown",
   "id": "5d3d2251-e5af-43a4-b6e4-4649d41f228a",
   "metadata": {
    "id": "5d3d2251-e5af-43a4-b6e4-4649d41f228a"
   },
   "source": [
    "### Exercise: Error Analysis\n",
    "\n",
    "Compute the normalized confusion matrix for your decision tree classifier and plot it. Do you notice any patterns? What are the three classes for which your decision tree classifier peforms the worst?"
   ]
  },
  {
   "cell_type": "code",
   "execution_count": null,
   "id": "d2376ee8-1afe-4b61-a2eb-c43c5bd2bf93",
   "metadata": {
    "id": "d2376ee8-1afe-4b61-a2eb-c43c5bd2bf93"
   },
   "outputs": [],
   "source": [
    "# insert code here!"
   ]
  },
  {
   "cell_type": "markdown",
   "id": "45a9df98-2d98-42ef-aef6-1aa73321c757",
   "metadata": {
    "id": "45a9df98-2d98-42ef-aef6-1aa73321c757"
   },
   "source": [
    "## Ensemble Methods\n",
    "\n",
    "Building a model on top of many other models is called [ensemble](https://scikit-learn.org/stable/modules/ensemble.html) learning and it is often a great approach to improve the predictions of your machine learning pipeline."
   ]
  },
  {
   "cell_type": "markdown",
   "id": "cdc1953f-5ae2-4bb2-b96a-b483a8fc972b",
   "metadata": {
    "id": "cdc1953f-5ae2-4bb2-b96a-b483a8fc972b"
   },
   "source": [
    "#### Random Forests\n",
    "\n",
    "Let’s try the [`ensemble.RandomForestRegressor`](https://scikit-learn.org/stable/modules/generated/sklearn.ensemble.RandomForestRegressor.html). Random forests work by training many decision trees on random subsets of the features, then averaging the predictions made by each of the decision trees to arrive at an overall prediction."
   ]
  },
  {
   "cell_type": "code",
   "execution_count": 33,
   "id": "1501b50b-5f60-4f2c-9698-5d517223474e",
   "metadata": {
    "id": "1501b50b-5f60-4f2c-9698-5d517223474e"
   },
   "outputs": [],
   "source": [
    "ensemble.RandomForestClassifier?"
   ]
  },
  {
   "cell_type": "code",
   "execution_count": 34,
   "id": "ff90a8fe-9956-4e9d-ab44-11d915ff9b84",
   "metadata": {
    "id": "ff90a8fe-9956-4e9d-ab44-11d915ff9b84"
   },
   "outputs": [],
   "source": [
    "_seed = generate_seed()\n",
    "_classifier_hyperparameters = {\n",
    "    \"n_jobs\": -1,\n",
    "    \"random_state\": np.random.RandomState(_seed)\n",
    "}\n",
    "\n",
    "random_forest_pipeline = ensemble.RandomForestClassifier(**_classifier_hyperparameters)\n",
    "_ = random_forest_pipeline.fit(train_features, train_target)"
   ]
  },
  {
   "cell_type": "code",
   "execution_count": 35,
   "id": "053b4fc9-d9fb-47de-a85e-0f1af0e62637",
   "metadata": {
    "colab": {
     "base_uri": "https://localhost:8080/"
    },
    "id": "053b4fc9-d9fb-47de-a85e-0f1af0e62637",
    "outputId": "20994161-c992-47ea-86c7-65be6c012a82"
   },
   "outputs": [
    {
     "name": "stdout",
     "output_type": "stream",
     "text": [
      "              precision    recall  f1-score   support\n",
      "\n",
      "           0       1.00      1.00      1.00      6192\n",
      "           1       1.00      1.00      1.00      7083\n",
      "           2       1.00      1.00      1.00      6264\n",
      "           3       1.00      1.00      1.00      6408\n",
      "           4       1.00      1.00      1.00      6213\n",
      "           5       1.00      1.00      1.00      5696\n",
      "           6       1.00      1.00      1.00      6163\n",
      "           7       1.00      1.00      1.00      6579\n",
      "           8       1.00      1.00      1.00      6121\n",
      "           9       1.00      1.00      1.00      6281\n",
      "\n",
      "    accuracy                           1.00     63000\n",
      "   macro avg       1.00      1.00      1.00     63000\n",
      "weighted avg       1.00      1.00      1.00     63000\n",
      "\n"
     ]
    }
   ],
   "source": [
    "# make predictions\n",
    "_train_predictions = random_forest_pipeline.predict(train_features)\n",
    "\n",
    "# generate a classification report\n",
    "_report = metrics.classification_report(\n",
    "    train_target,\n",
    "    _train_predictions,\n",
    ")\n",
    "print(_report)"
   ]
  },
  {
   "cell_type": "markdown",
   "id": "d5ad4c91-d869-434f-b316-3aa66bcc06b0",
   "metadata": {
    "id": "d5ad4c91-d869-434f-b316-3aa66bcc06b0"
   },
   "source": [
    "##### Visualizing Feature Importance"
   ]
  },
  {
   "cell_type": "code",
   "execution_count": 36,
   "id": "f9091f64-c2fa-43da-94f3-3c482342d382",
   "metadata": {
    "colab": {
     "base_uri": "https://localhost:8080/",
     "height": 603
    },
    "id": "f9091f64-c2fa-43da-94f3-3c482342d382",
    "outputId": "1a392344-102e-4fcf-c30a-ee200ef57d0a"
   },
   "outputs": [
    {
     "data": {
      "image/png": "[encoded data removed]",
      "text/plain": [
       "<Figure size 1080x1080 with 2 Axes>"
      ]
     },
     "metadata": {
      "needs_background": "light"
     },
     "output_type": "display_data"
    }
   ],
   "source": [
    "_, ax = plt.subplots(1, 1, figsize=(15, 15))\n",
    "_average_pixel_importances = (\n",
    "    random_forest_pipeline.feature_importances_\n",
    "                          .reshape((1, 28, 28))\n",
    "                          .mean(axis=0)\n",
    ")\n",
    "plt.imshow(_average_pixel_importances)\n",
    "plt.title(\"Average Pixel Importance\", fontsize=20)\n",
    "\n",
    "# create a colorbar\n",
    "colorbar = plt.colorbar(ticks=[_average_pixel_importances.min(), _average_pixel_importances.max()])\n",
    "_ = (colorbar.ax\n",
    "             .set_yticklabels([\"Not important\", \"Very important\"], fontsize=15))"
   ]
  },
  {
   "cell_type": "markdown",
   "id": "4b5b5cc1-598d-468e-9762-848f3c116a9b",
   "metadata": {
    "id": "4b5b5cc1-598d-468e-9762-848f3c116a9b"
   },
   "source": [
    "Again you can use $k$-fold CV to estimate the validation metrics for your random forest classifier."
   ]
  },
  {
   "cell_type": "code",
   "execution_count": 37,
   "id": "f595a6ef-86ac-4f1b-9a43-cc69449a82cb",
   "metadata": {
    "colab": {
     "base_uri": "https://localhost:8080/"
    },
    "id": "f595a6ef-86ac-4f1b-9a43-cc69449a82cb",
    "outputId": "9588c11e-e590-41e8-b41e-ab7f0139651a"
   },
   "outputs": [
    {
     "name": "stderr",
     "output_type": "stream",
     "text": [
      "[Parallel(n_jobs=-1)]: Using backend LokyBackend with 2 concurrent workers.\n",
      "[Parallel(n_jobs=-1)]: Done   3 out of   3 | elapsed:  1.2min finished\n"
     ]
    },
    {
     "name": "stdout",
     "output_type": "stream",
     "text": [
      "              precision    recall  f1-score   support\n",
      "\n",
      "           0       0.98      0.99      0.98      6192\n",
      "           1       0.98      0.98      0.98      7083\n",
      "           2       0.96      0.97      0.96      6264\n",
      "           3       0.96      0.95      0.96      6408\n",
      "           4       0.97      0.97      0.97      6213\n",
      "           5       0.96      0.96      0.96      5696\n",
      "           6       0.98      0.98      0.98      6163\n",
      "           7       0.97      0.96      0.97      6579\n",
      "           8       0.96      0.95      0.95      6121\n",
      "           9       0.95      0.95      0.95      6281\n",
      "\n",
      "    accuracy                           0.97     63000\n",
      "   macro avg       0.97      0.97      0.97     63000\n",
      "weighted avg       0.97      0.97      0.97     63000\n",
      "\n"
     ]
    }
   ],
   "source": [
    "_seed = generate_seed()\n",
    "_classifier_hyperparameters = {\n",
    "    \"n_jobs\": -1,\n",
    "    \"random_state\": np.random.RandomState(_seed)\n",
    "}\n",
    "random_forest_pipeline = ensemble.RandomForestClassifier(**_classifier_hyperparameters)\n",
    "\n",
    "# make predictions using cv\n",
    "_cv_predictions = model_selection.cross_val_predict(\n",
    "    random_forest_pipeline,\n",
    "    X=train_features,\n",
    "    y=train_target,\n",
    "    cv=CV_FOLDS,\n",
    "    n_jobs=-1,\n",
    "    verbose=1\n",
    ")\n",
    "\n",
    "# generate a classification report\n",
    "_report = metrics.classification_report(\n",
    "    train_target,\n",
    "    _cv_predictions,\n",
    ")\n",
    "print(_report)"
   ]
  },
  {
   "cell_type": "markdown",
   "id": "49e651ae-38cb-49ea-b6b7-6368a959d2aa",
   "metadata": {
    "id": "49e651ae-38cb-49ea-b6b7-6368a959d2aa"
   },
   "source": [
    "Alternatively, with random forests, you can avoid CV altogether by only using a random subset of training samples to fit each tree. The unused training samples can then be used to estimate the validation error for each tree."
   ]
  },
  {
   "cell_type": "code",
   "execution_count": 38,
   "id": "4101ea46-ab9b-4126-96a1-9ddc8b7ed3cc",
   "metadata": {
    "id": "4101ea46-ab9b-4126-96a1-9ddc8b7ed3cc"
   },
   "outputs": [],
   "source": [
    "_seed = generate_seed()\n",
    "_classifier_hyperparameters = {\n",
    "    \"bootstrap\": True,\n",
    "    \"max_samples\": 0.9,\n",
    "    \"n_jobs\": -1,\n",
    "    \"oob_score\": True,\n",
    "    \"random_state\": np.random.RandomState(_seed)\n",
    "}\n",
    "\n",
    "random_forest_pipeline = ensemble.RandomForestClassifier(**_classifier_hyperparameters)\n",
    "_ = random_forest_pipeline.fit(train_features, train_target)"
   ]
  },
  {
   "cell_type": "code",
   "execution_count": 39,
   "id": "44b2a19b-5eff-4df7-94a5-efcaed4324af",
   "metadata": {
    "colab": {
     "base_uri": "https://localhost:8080/"
    },
    "id": "44b2a19b-5eff-4df7-94a5-efcaed4324af",
    "outputId": "f4ab2093-5cc1-47b3-bd72-984dd5548115"
   },
   "outputs": [
    {
     "data": {
      "text/plain": [
       "0.9656349206349206"
      ]
     },
     "execution_count": 39,
     "metadata": {},
     "output_type": "execute_result"
    }
   ],
   "source": [
    "random_forest_pipeline.oob_score_"
   ]
  },
  {
   "cell_type": "markdown",
   "id": "04e02dfd-16b7-4ad2-ae94-f5192b508335",
   "metadata": {
    "id": "04e02dfd-16b7-4ad2-ae94-f5192b508335"
   },
   "source": [
    "### Exercise: Regularizing Random Forests\n",
    "\n",
    "Our random forest classifier is pretty good. Can tune the behavior of each tree using the same tuning parameters as above. Also can control the number of estimators used in constructing the ensemble: more estimators means a more flexible model. The Scikit Learn documentation has a good discussion on [parameter tunning strategies](https://scikit-learn.org/stable/modules/ensemble.html#random-forest-parameters) for random forest classifiers and regressors. Manually tune the hyperparameters of the random forest classifier to train and find a good set of hyperparameters."
   ]
  },
  {
   "cell_type": "code",
   "execution_count": null,
   "id": "98600105-39e4-4386-97b7-35ab98d7e127",
   "metadata": {
    "id": "98600105-39e4-4386-97b7-35ab98d7e127"
   },
   "outputs": [],
   "source": [
    "_seed = generate_seed()\n",
    "\n",
    "_classifier_hyperparameters = {\n",
    "    \"criterion\": \"entropy\",\n",
    "    \"max_depth\": 16,\n",
    "    \"max_features\": \"sqrt\",\n",
    "    \"max_samples\": 0.9,\n",
    "    \"min_samples_leaf\": 1e-3,\n",
    "    \"min_samples_split\": 2e-3,\n",
    "    \"n_estimators\": 250,\n",
    "    \"bootstrap\": True,\n",
    "    \"max_samples\": 0.9,\n",
    "    \"n_jobs\": -1,\n",
    "    \"oob_score\": True,\n",
    "    \"random_state\": np.random.RandomState(_seed)\n",
    "}\n",
    "\n",
    "random_forest_pipeline = ensemble.RandomForestClassifier(**_classifier_hyperparameters)"
   ]
  },
  {
   "cell_type": "code",
   "execution_count": null,
   "id": "ff10a21d-3a58-48b6-a9a0-8966788b50b6",
   "metadata": {
    "id": "ff10a21d-3a58-48b6-a9a0-8966788b50b6"
   },
   "outputs": [],
   "source": [
    "# make predictions using cv\n",
    "_cv_predictions = model_selection.cross_val_predict(\n",
    "    random_forest_pipeline,\n",
    "    X=train_features,\n",
    "    y=train_target,\n",
    "    cv=CV_FOLDS,\n",
    "    n_jobs=-1,\n",
    "    verbose=1\n",
    ")\n",
    "\n",
    "# generate a classification report\n",
    "_report = metrics.classification_report(\n",
    "    train_target,\n",
    "    _cv_predictions,\n",
    ")\n",
    "print(_report)"
   ]
  },
  {
   "cell_type": "markdown",
   "id": "2f616a7a-5c07-405e-ad8b-32dba5be8bc3",
   "metadata": {
    "id": "2f616a7a-5c07-405e-ad8b-32dba5be8bc3"
   },
   "source": [
    "### Exercise: Exploring Gradient Boosted Trees\n",
    "\n",
    "Read the docs for to understand default behavior of the [`ensemble.HistGradientBoostingClassifier`](https://scikit-learn.org/stable/modules/generated/sklearn.ensemble.GradientBoostingClassifier.html). Fit a gradient boosted classifier and manually tune the hyperparameters and see if you can outperform your random forest classifier."
   ]
  },
  {
   "cell_type": "code",
   "execution_count": 40,
   "id": "fQ_fyElOhAvA",
   "metadata": {
    "id": "fQ_fyElOhAvA"
   },
   "outputs": [],
   "source": [
    "ensemble.HistGradientBoostingClassifier?"
   ]
  },
  {
   "cell_type": "code",
   "execution_count": null,
   "id": "e0d1513c-5972-4f1d-909e-a58bd9be3ff2",
   "metadata": {
    "colab": {
     "base_uri": "https://localhost:8080/"
    },
    "id": "e0d1513c-5972-4f1d-909e-a58bd9be3ff2",
    "outputId": "f44fe5bc-b34b-4017-9df2-9e566f2f1cb2",
    "tags": []
   },
   "outputs": [
    {
     "name": "stderr",
     "output_type": "stream",
     "text": [
      "[Parallel(n_jobs=-1)]: Using backend LokyBackend with 2 concurrent workers.\n"
     ]
    }
   ],
   "source": [
    "_seed = generate_seed()\n",
    "_classifier_hyperparameters = {\n",
    "    \"random_state\": np.random.RandomState(_seed)\n",
    "}\n",
    "ml_pipeline = ensemble.HistGradientBoostingClassifier(**_classifier_hyperparameters)\n",
    "\n",
    "# make predictions using cv\n",
    "_cv_predictions = model_selection.cross_val_predict(\n",
    "    ml_pipeline,\n",
    "    X=train_features,\n",
    "    y=train_target,\n",
    "    cv=CV_FOLDS,\n",
    "    n_jobs=-1,\n",
    "    verbose=1\n",
    ")\n",
    "\n",
    "# generate a classification report\n",
    "_report = metrics.classification_report(\n",
    "    train_target,\n",
    "    _cv_predictions,\n",
    ")\n",
    "print(_report)"
   ]
  },
  {
   "cell_type": "markdown",
   "id": "7a7e9aac-2844-4bbb-8a1c-83c373b79413",
   "metadata": {
    "id": "7a7e9aac-2844-4bbb-8a1c-83c373b79413"
   },
   "source": [
    "### Exercise: Voting Classifiers (Challenge!)\n",
    "\n",
    "Read the docs to understand how to create a [`ensemble.VotingClassifier`](https://scikit-learn.org/stable/modules/generated/sklearn.ensemble.VotingClassifier.html) using a `svm.LinearSVC`, a `ensemble.RandomForest`, and an `ensemble.HistGradientBoostingClassifier`. Does this classifier out perform the best individual classifier?"
   ]
  },
  {
   "cell_type": "code",
   "execution_count": null,
   "id": "f2ead1ee-dafa-4ddf-85b7-161747adcec3",
   "metadata": {
    "id": "f2ead1ee-dafa-4ddf-85b7-161747adcec3"
   },
   "outputs": [],
   "source": [
    "# insert y_seed = generate_seed()\n",
    "\n",
    "_sgd_hyperparameters = {\n",
    "    \"loss\": \"hinge\",\n",
    "    \"n_jobs\": -1,\n",
    "    \"random_state\": np.random.RandomState(_seed)    \n",
    "}\n",
    "\n",
    "_sgd_pipeline = pipeline.make_pipeline(\n",
    "    preprocessing.MinMaxScaler(),\n",
    "    linear_model.SGDClassifier(**_sgd_hyperparameters),\n",
    ")\n",
    "\n",
    "_seed = generate_seed()\n",
    "\n",
    "_random_forest_hyperparameters = {\n",
    "    \"n_estimators\": 1000,\n",
    "    \"n_jobs\": -1,\n",
    "    \"max_depth\": 3,\n",
    "    \"random_state\": np.random.RandomState(_seed)\n",
    "}\n",
    "\n",
    "_kneighbors_hyperparameters = {\n",
    "    \"n_neighbors\": 5,\n",
    "    \"n_jobs\": -1,\n",
    "}\n",
    "\n",
    "_ml_pipelines = [\n",
    "    (\"sgd_classifier\", _sgd_pipeline),\n",
    "    (\"random_forest_classifier\", ensemble.RandomForestClassifier(**_random_forest_hyperparameters)),\n",
    "    (\"knearest_classifier\", neighbors.KNeighborsClassifier(**_kneighbors_hyperparameters)),\n",
    "]\n",
    "\n",
    "_voting_classifier_hyperparameters = {\n",
    "    \"voting\": \"hard\",\n",
    "    \"n_jobs\": -1\n",
    "}\n",
    "\n",
    "classifier = ensemble.VotingClassifier(\n",
    "    _ml_pipelines,\n",
    "    **_voting_classifier_hyperparameters,\n",
    ")ou code here!"
   ]
  },
  {
   "cell_type": "code",
   "execution_count": null,
   "id": "28242802-6b74-47a1-9d7b-e716a3474bc2",
   "metadata": {},
   "outputs": [],
   "source": [
    "_ = classifier.fit(train_features, train_target)"
   ]
  },
  {
   "cell_type": "code",
   "execution_count": null,
   "id": "33a3909b-26da-4b04-9067-5af12c80e7b2",
   "metadata": {},
   "outputs": [],
   "source": [
    "_train_predictions = classifier.predict(train_features)\n",
    "\n",
    "_report = metrics.classification_report(\n",
    "    train_target,\n",
    "    _train_predictions\n",
    ")\n",
    "\n",
    "print(_report)"
   ]
  },
  {
   "cell_type": "markdown",
   "id": "efe7255e-4f60-469c-b541-f6935d9cb6e1",
   "metadata": {
    "id": "efe7255e-4f60-469c-b541-f6935d9cb6e1"
   },
   "source": [
    "# Evaluate your models on the test dataset\n",
    "\n",
    "After tweaking your models for a while, you eventually have a system that performs sufficiently well. Now is the time to evaluate the final model on the test set. Remember to re-train your model on the full training data prior to evaluating on the test data."
   ]
  },
  {
   "cell_type": "code",
   "execution_count": null,
   "id": "e809d5ef-16d0-47b5-8d44-87222874ffa0",
   "metadata": {
    "id": "e809d5ef-16d0-47b5-8d44-87222874ffa0"
   },
   "outputs": [],
   "source": [
    "estimators = [\n",
    "    linear_svm_pipeline,\n",
    "    decision_tree_pipeline,\n",
    "    random_forest_pipeline,\n",
    "]\n",
    "\n",
    "for estimator in estimators:\n",
    "    _ = estimator.fit(train_features, train_target)"
   ]
  },
  {
   "cell_type": "code",
   "execution_count": null,
   "id": "8a73ca70-1d2b-4053-b500-5d0be0c19f62",
   "metadata": {
    "id": "8a73ca70-1d2b-4053-b500-5d0be0c19f62"
   },
   "outputs": [],
   "source": [
    "for estimator in estimators:\n",
    "\n",
    "    # make predictions\n",
    "    _test_predictions = estimator.predict(test_features)\n",
    "\n",
    "    # generate a classification report\n",
    "    _report = metrics.classification_report(\n",
    "        test_target,\n",
    "        _test_predictions,\n",
    "    )\n",
    "    print(estimator.__class__)\n",
    "    print(_report)\n"
   ]
  },
  {
   "cell_type": "markdown",
   "id": "55224491-47cc-443d-8592-65fd362e4128",
   "metadata": {
    "id": "55224491-47cc-443d-8592-65fd362e4128"
   },
   "source": [
    "If you did a lot of tuning, the performance will usually be slightly worse than what you measured using cross-validation (because your system ends up fine-tuned to perform well on the validation data and will likely not perform as well on new, unknown datasets). It is not the case in this example, but when this happens you must resist the temptation to tweak the hyperparameters to make the numbers look good on the test set; the improvements would be unlikely to generalize to new data."
   ]
  },
  {
   "cell_type": "code",
   "execution_count": null,
   "id": "ed2cedef-b497-4eda-9bbd-ab04263e2087",
   "metadata": {
    "id": "ed2cedef-b497-4eda-9bbd-ab04263e2087"
   },
   "outputs": [],
   "source": []
  }
 ],
 "metadata": {
  "colab": {
   "provenance": []
  },
  "kernelspec": {
   "display_name": "Python 3 (ipykernel)",
   "language": "python",
   "name": "python3"
  },
  "language_info": {
   "codemirror_mode": {
    "name": "ipython",
    "version": 3
   },
   "file_extension": ".py",
   "mimetype": "text/x-python",
   "name": "python",
   "nbconvert_exporter": "python",
   "pygments_lexer": "ipython3",
   "version": "3.10.6"
  }
 },
 "nbformat": 4,
 "nbformat_minor": 5
}
